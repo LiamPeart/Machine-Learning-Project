{
 "cells": [
  {
   "cell_type": "code",
   "execution_count": 1,
   "id": "23249e58",
   "metadata": {},
   "outputs": [],
   "source": [
    "import warnings\n",
    "warnings.filterwarnings(\"ignore\")\n",
    "\n",
    "import time\n",
    "import numpy as np\n",
    "import pandas as pd\n",
    "\n",
    "from sklearn.model_selection import (cross_val_score, RepeatedStratifiedKFold, \n",
    "                                     RandomizedSearchCV, GridSearchCV, train_test_split)\n",
    "import sklearn.metrics as metrics\n",
    "from sklearn import preprocessing\n",
    "from sklearn import feature_selection as fs\n",
    "from sklearn.base import BaseEstimator, TransformerMixin\n",
    "from sklearn.tree import DecisionTreeClassifier\n",
    "from sklearn.feature_selection import f_classif, SelectKBest, mutual_info_classif\n",
    "from sklearn.naive_bayes import GaussianNB\n",
    "from sklearn.pipeline import Pipeline\n",
    "from sklearn.neighbors import KNeighborsClassifier\n",
    "from sklearn.preprocessing import PowerTransformer\n",
    "from sklearn.ensemble import RandomForestClassifier\n",
    "\n",
    "from scipy import stats\n",
    "import scipy.stats.distributions as dist\n",
    "from scipy.stats import chi2_contingency\n",
    "from scipy.stats import chi2\n",
    "from statsmodels.stats.proportion import proportions_ztest\n",
    "from numpy import argsort\n",
    "\n",
    "import seaborn as sns\n",
    "from matplotlib import pyplot\n",
    "import matplotlib.pyplot as plt\n",
    "from matplotlib.ticker import ScalarFormatter\n",
    "\n",
    "pd.set_option('display.max_columns', None) \n",
    "pd.set_option('display.float_format', lambda x: '%.3f' % x)\n",
    "\n",
    "sns.set_palette(sns.color_palette('rocket',10))"
   ]
  },
  {
   "cell_type": "markdown",
   "id": "e15acfc6",
   "metadata": {},
   "source": [
    "### Reading raw data"
   ]
  },
  {
   "cell_type": "code",
   "execution_count": 2,
   "id": "d86cdca6",
   "metadata": {
    "scrolled": true
   },
   "outputs": [
    {
     "name": "stdout",
     "output_type": "stream",
     "text": [
      "--- 12.277198553085327 seconds ---\n"
     ]
    }
   ],
   "source": [
    "start_time = time.time()\n",
    "data = pd.read_csv('bankdata.csv')\n",
    "print(\"--- %s seconds ---\" % (time.time() - start_time))"
   ]
  },
  {
   "cell_type": "markdown",
   "id": "255152b0",
   "metadata": {},
   "source": [
    "### Data Exploration and Pre-processing"
   ]
  },
  {
   "cell_type": "code",
   "execution_count": 3,
   "id": "4dc8b189",
   "metadata": {},
   "outputs": [
    {
     "data": {
      "text/html": [
       "<div>\n",
       "<style scoped>\n",
       "    .dataframe tbody tr th:only-of-type {\n",
       "        vertical-align: middle;\n",
       "    }\n",
       "\n",
       "    .dataframe tbody tr th {\n",
       "        vertical-align: top;\n",
       "    }\n",
       "\n",
       "    .dataframe thead th {\n",
       "        text-align: right;\n",
       "    }\n",
       "</style>\n",
       "<table border=\"1\" class=\"dataframe\">\n",
       "  <thead>\n",
       "    <tr style=\"text-align: right;\">\n",
       "      <th></th>\n",
       "      <th>activity_year</th>\n",
       "      <th>lei</th>\n",
       "      <th>derived_msa-md</th>\n",
       "      <th>state_code</th>\n",
       "      <th>county_code</th>\n",
       "      <th>census_tract</th>\n",
       "      <th>conforming_loan_limit</th>\n",
       "      <th>derived_loan_product_type</th>\n",
       "      <th>derived_dwelling_category</th>\n",
       "      <th>derived_ethnicity</th>\n",
       "      <th>derived_race</th>\n",
       "      <th>derived_sex</th>\n",
       "      <th>action_taken</th>\n",
       "      <th>purchaser_type</th>\n",
       "      <th>preapproval</th>\n",
       "      <th>loan_type</th>\n",
       "      <th>loan_purpose</th>\n",
       "      <th>lien_status</th>\n",
       "      <th>reverse_mortgage</th>\n",
       "      <th>open-end_line_of_credit</th>\n",
       "      <th>business_or_commercial_purpose</th>\n",
       "      <th>loan_amount</th>\n",
       "      <th>loan_to_value_ratio</th>\n",
       "      <th>interest_rate</th>\n",
       "      <th>rate_spread</th>\n",
       "      <th>hoepa_status</th>\n",
       "      <th>total_loan_costs</th>\n",
       "      <th>total_points_and_fees</th>\n",
       "      <th>origination_charges</th>\n",
       "      <th>discount_points</th>\n",
       "      <th>lender_credits</th>\n",
       "      <th>loan_term</th>\n",
       "      <th>prepayment_penalty_term</th>\n",
       "      <th>intro_rate_period</th>\n",
       "      <th>negative_amortization</th>\n",
       "      <th>interest_only_payment</th>\n",
       "      <th>balloon_payment</th>\n",
       "      <th>other_nonamortizing_features</th>\n",
       "      <th>property_value</th>\n",
       "      <th>construction_method</th>\n",
       "      <th>occupancy_type</th>\n",
       "      <th>manufactured_home_secured_property_type</th>\n",
       "      <th>manufactured_home_land_property_interest</th>\n",
       "      <th>total_units</th>\n",
       "      <th>multifamily_affordable_units</th>\n",
       "      <th>income</th>\n",
       "      <th>debt_to_income_ratio</th>\n",
       "      <th>applicant_credit_score_type</th>\n",
       "      <th>co-applicant_credit_score_type</th>\n",
       "      <th>applicant_ethnicity-1</th>\n",
       "      <th>applicant_ethnicity-2</th>\n",
       "      <th>applicant_ethnicity-3</th>\n",
       "      <th>applicant_ethnicity-4</th>\n",
       "      <th>applicant_ethnicity-5</th>\n",
       "      <th>co-applicant_ethnicity-1</th>\n",
       "      <th>co-applicant_ethnicity-2</th>\n",
       "      <th>co-applicant_ethnicity-3</th>\n",
       "      <th>co-applicant_ethnicity-4</th>\n",
       "      <th>co-applicant_ethnicity-5</th>\n",
       "      <th>applicant_ethnicity_observed</th>\n",
       "      <th>co-applicant_ethnicity_observed</th>\n",
       "      <th>applicant_race-1</th>\n",
       "      <th>applicant_race-2</th>\n",
       "      <th>applicant_race-3</th>\n",
       "      <th>applicant_race-4</th>\n",
       "      <th>applicant_race-5</th>\n",
       "      <th>co-applicant_race-1</th>\n",
       "      <th>co-applicant_race-2</th>\n",
       "      <th>co-applicant_race-3</th>\n",
       "      <th>co-applicant_race-4</th>\n",
       "      <th>co-applicant_race-5</th>\n",
       "      <th>applicant_race_observed</th>\n",
       "      <th>co-applicant_race_observed</th>\n",
       "      <th>applicant_sex</th>\n",
       "      <th>co-applicant_sex</th>\n",
       "      <th>applicant_sex_observed</th>\n",
       "      <th>co-applicant_sex_observed</th>\n",
       "      <th>applicant_age</th>\n",
       "      <th>co-applicant_age</th>\n",
       "      <th>applicant_age_above_62</th>\n",
       "      <th>co-applicant_age_above_62</th>\n",
       "      <th>submission_of_application</th>\n",
       "      <th>initially_payable_to_institution</th>\n",
       "      <th>aus-1</th>\n",
       "      <th>aus-2</th>\n",
       "      <th>aus-3</th>\n",
       "      <th>aus-4</th>\n",
       "      <th>aus-5</th>\n",
       "      <th>denial_reason-1</th>\n",
       "      <th>denial_reason-2</th>\n",
       "      <th>denial_reason-3</th>\n",
       "      <th>denial_reason-4</th>\n",
       "      <th>tract_population</th>\n",
       "      <th>tract_minority_population_percent</th>\n",
       "      <th>ffiec_msa_md_median_family_income</th>\n",
       "      <th>tract_to_msa_income_percentage</th>\n",
       "      <th>tract_owner_occupied_units</th>\n",
       "      <th>tract_one_to_four_family_homes</th>\n",
       "      <th>tract_median_age_of_housing_units</th>\n",
       "    </tr>\n",
       "  </thead>\n",
       "  <tbody>\n",
       "    <tr>\n",
       "      <th>0</th>\n",
       "      <td>2019</td>\n",
       "      <td>E57ODZWZ7FF32TWEFA76</td>\n",
       "      <td>0</td>\n",
       "      <td>NaN</td>\n",
       "      <td>NaN</td>\n",
       "      <td>NaN</td>\n",
       "      <td>NC</td>\n",
       "      <td>Conventional:First Lien</td>\n",
       "      <td>Single Family (1-4 Units):Site-Built</td>\n",
       "      <td>Hispanic or Latino</td>\n",
       "      <td>Race Not Available</td>\n",
       "      <td>Male</td>\n",
       "      <td>8</td>\n",
       "      <td>0</td>\n",
       "      <td>1</td>\n",
       "      <td>1</td>\n",
       "      <td>1</td>\n",
       "      <td>1</td>\n",
       "      <td>2</td>\n",
       "      <td>2</td>\n",
       "      <td>2</td>\n",
       "      <td>985000.000</td>\n",
       "      <td>80.000</td>\n",
       "      <td>4.625</td>\n",
       "      <td>NaN</td>\n",
       "      <td>3</td>\n",
       "      <td>NaN</td>\n",
       "      <td>NaN</td>\n",
       "      <td>NaN</td>\n",
       "      <td>NaN</td>\n",
       "      <td>NaN</td>\n",
       "      <td>360.000</td>\n",
       "      <td>NaN</td>\n",
       "      <td>NaN</td>\n",
       "      <td>2</td>\n",
       "      <td>2</td>\n",
       "      <td>2</td>\n",
       "      <td>2</td>\n",
       "      <td>1305000.000</td>\n",
       "      <td>1</td>\n",
       "      <td>1</td>\n",
       "      <td>3</td>\n",
       "      <td>5</td>\n",
       "      <td>1</td>\n",
       "      <td>NaN</td>\n",
       "      <td>216.000</td>\n",
       "      <td>40</td>\n",
       "      <td>2</td>\n",
       "      <td>10</td>\n",
       "      <td>1.000</td>\n",
       "      <td>NaN</td>\n",
       "      <td>NaN</td>\n",
       "      <td>NaN</td>\n",
       "      <td>NaN</td>\n",
       "      <td>5.000</td>\n",
       "      <td>NaN</td>\n",
       "      <td>NaN</td>\n",
       "      <td>NaN</td>\n",
       "      <td>NaN</td>\n",
       "      <td>2</td>\n",
       "      <td>4</td>\n",
       "      <td>6.000</td>\n",
       "      <td>NaN</td>\n",
       "      <td>NaN</td>\n",
       "      <td>NaN</td>\n",
       "      <td>NaN</td>\n",
       "      <td>8.000</td>\n",
       "      <td>NaN</td>\n",
       "      <td>NaN</td>\n",
       "      <td>NaN</td>\n",
       "      <td>NaN</td>\n",
       "      <td>2</td>\n",
       "      <td>4</td>\n",
       "      <td>1</td>\n",
       "      <td>5</td>\n",
       "      <td>2</td>\n",
       "      <td>4</td>\n",
       "      <td>25-34</td>\n",
       "      <td>9999</td>\n",
       "      <td>No</td>\n",
       "      <td>NaN</td>\n",
       "      <td>1</td>\n",
       "      <td>1</td>\n",
       "      <td>5</td>\n",
       "      <td>NaN</td>\n",
       "      <td>NaN</td>\n",
       "      <td>NaN</td>\n",
       "      <td>NaN</td>\n",
       "      <td>10</td>\n",
       "      <td>NaN</td>\n",
       "      <td>NaN</td>\n",
       "      <td>NaN</td>\n",
       "      <td>0</td>\n",
       "      <td>0.000</td>\n",
       "      <td>0</td>\n",
       "      <td>0</td>\n",
       "      <td>0</td>\n",
       "      <td>0</td>\n",
       "      <td>0</td>\n",
       "    </tr>\n",
       "    <tr>\n",
       "      <th>1</th>\n",
       "      <td>2019</td>\n",
       "      <td>E57ODZWZ7FF32TWEFA76</td>\n",
       "      <td>0</td>\n",
       "      <td>NaN</td>\n",
       "      <td>NaN</td>\n",
       "      <td>NaN</td>\n",
       "      <td>C</td>\n",
       "      <td>Conventional:First Lien</td>\n",
       "      <td>Single Family (1-4 Units):Site-Built</td>\n",
       "      <td>Not Hispanic or Latino</td>\n",
       "      <td>White</td>\n",
       "      <td>Male</td>\n",
       "      <td>8</td>\n",
       "      <td>0</td>\n",
       "      <td>1</td>\n",
       "      <td>1</td>\n",
       "      <td>1</td>\n",
       "      <td>1</td>\n",
       "      <td>2</td>\n",
       "      <td>2</td>\n",
       "      <td>2</td>\n",
       "      <td>465000.000</td>\n",
       "      <td>80.000</td>\n",
       "      <td>4.750</td>\n",
       "      <td>NaN</td>\n",
       "      <td>3</td>\n",
       "      <td>NaN</td>\n",
       "      <td>NaN</td>\n",
       "      <td>NaN</td>\n",
       "      <td>NaN</td>\n",
       "      <td>NaN</td>\n",
       "      <td>360.000</td>\n",
       "      <td>NaN</td>\n",
       "      <td>NaN</td>\n",
       "      <td>2</td>\n",
       "      <td>2</td>\n",
       "      <td>2</td>\n",
       "      <td>2</td>\n",
       "      <td>755000.000</td>\n",
       "      <td>1</td>\n",
       "      <td>1</td>\n",
       "      <td>3</td>\n",
       "      <td>5</td>\n",
       "      <td>1</td>\n",
       "      <td>NaN</td>\n",
       "      <td>243.000</td>\n",
       "      <td>47</td>\n",
       "      <td>2</td>\n",
       "      <td>10</td>\n",
       "      <td>2.000</td>\n",
       "      <td>NaN</td>\n",
       "      <td>NaN</td>\n",
       "      <td>NaN</td>\n",
       "      <td>NaN</td>\n",
       "      <td>5.000</td>\n",
       "      <td>NaN</td>\n",
       "      <td>NaN</td>\n",
       "      <td>NaN</td>\n",
       "      <td>NaN</td>\n",
       "      <td>2</td>\n",
       "      <td>4</td>\n",
       "      <td>5.000</td>\n",
       "      <td>NaN</td>\n",
       "      <td>NaN</td>\n",
       "      <td>NaN</td>\n",
       "      <td>NaN</td>\n",
       "      <td>8.000</td>\n",
       "      <td>NaN</td>\n",
       "      <td>NaN</td>\n",
       "      <td>NaN</td>\n",
       "      <td>NaN</td>\n",
       "      <td>2</td>\n",
       "      <td>4</td>\n",
       "      <td>1</td>\n",
       "      <td>5</td>\n",
       "      <td>2</td>\n",
       "      <td>4</td>\n",
       "      <td>35-44</td>\n",
       "      <td>9999</td>\n",
       "      <td>No</td>\n",
       "      <td>NaN</td>\n",
       "      <td>1</td>\n",
       "      <td>1</td>\n",
       "      <td>1</td>\n",
       "      <td>NaN</td>\n",
       "      <td>NaN</td>\n",
       "      <td>NaN</td>\n",
       "      <td>NaN</td>\n",
       "      <td>10</td>\n",
       "      <td>NaN</td>\n",
       "      <td>NaN</td>\n",
       "      <td>NaN</td>\n",
       "      <td>0</td>\n",
       "      <td>0.000</td>\n",
       "      <td>0</td>\n",
       "      <td>0</td>\n",
       "      <td>0</td>\n",
       "      <td>0</td>\n",
       "      <td>0</td>\n",
       "    </tr>\n",
       "    <tr>\n",
       "      <th>2</th>\n",
       "      <td>2019</td>\n",
       "      <td>E57ODZWZ7FF32TWEFA76</td>\n",
       "      <td>0</td>\n",
       "      <td>NaN</td>\n",
       "      <td>NaN</td>\n",
       "      <td>NaN</td>\n",
       "      <td>C</td>\n",
       "      <td>Conventional:First Lien</td>\n",
       "      <td>Single Family (1-4 Units):Site-Built</td>\n",
       "      <td>Not Hispanic or Latino</td>\n",
       "      <td>Joint</td>\n",
       "      <td>Joint</td>\n",
       "      <td>7</td>\n",
       "      <td>0</td>\n",
       "      <td>1</td>\n",
       "      <td>1</td>\n",
       "      <td>1</td>\n",
       "      <td>1</td>\n",
       "      <td>2</td>\n",
       "      <td>2</td>\n",
       "      <td>2</td>\n",
       "      <td>165000.000</td>\n",
       "      <td>80.000</td>\n",
       "      <td>NaN</td>\n",
       "      <td>NaN</td>\n",
       "      <td>3</td>\n",
       "      <td>NaN</td>\n",
       "      <td>NaN</td>\n",
       "      <td>NaN</td>\n",
       "      <td>NaN</td>\n",
       "      <td>NaN</td>\n",
       "      <td>360.000</td>\n",
       "      <td>NaN</td>\n",
       "      <td>NaN</td>\n",
       "      <td>2</td>\n",
       "      <td>2</td>\n",
       "      <td>2</td>\n",
       "      <td>2</td>\n",
       "      <td>205000.000</td>\n",
       "      <td>1</td>\n",
       "      <td>1</td>\n",
       "      <td>3</td>\n",
       "      <td>5</td>\n",
       "      <td>1</td>\n",
       "      <td>NaN</td>\n",
       "      <td>71.000</td>\n",
       "      <td>50%-60%</td>\n",
       "      <td>1</td>\n",
       "      <td>9</td>\n",
       "      <td>2.000</td>\n",
       "      <td>NaN</td>\n",
       "      <td>NaN</td>\n",
       "      <td>NaN</td>\n",
       "      <td>NaN</td>\n",
       "      <td>2.000</td>\n",
       "      <td>NaN</td>\n",
       "      <td>NaN</td>\n",
       "      <td>NaN</td>\n",
       "      <td>NaN</td>\n",
       "      <td>2</td>\n",
       "      <td>2</td>\n",
       "      <td>5.000</td>\n",
       "      <td>NaN</td>\n",
       "      <td>NaN</td>\n",
       "      <td>NaN</td>\n",
       "      <td>NaN</td>\n",
       "      <td>22.000</td>\n",
       "      <td>NaN</td>\n",
       "      <td>NaN</td>\n",
       "      <td>NaN</td>\n",
       "      <td>NaN</td>\n",
       "      <td>2</td>\n",
       "      <td>2</td>\n",
       "      <td>1</td>\n",
       "      <td>2</td>\n",
       "      <td>2</td>\n",
       "      <td>2</td>\n",
       "      <td>65-74</td>\n",
       "      <td>55-64</td>\n",
       "      <td>Yes</td>\n",
       "      <td>No</td>\n",
       "      <td>1</td>\n",
       "      <td>1</td>\n",
       "      <td>1</td>\n",
       "      <td>NaN</td>\n",
       "      <td>NaN</td>\n",
       "      <td>NaN</td>\n",
       "      <td>NaN</td>\n",
       "      <td>1</td>\n",
       "      <td>NaN</td>\n",
       "      <td>NaN</td>\n",
       "      <td>NaN</td>\n",
       "      <td>0</td>\n",
       "      <td>0.000</td>\n",
       "      <td>0</td>\n",
       "      <td>0</td>\n",
       "      <td>0</td>\n",
       "      <td>0</td>\n",
       "      <td>0</td>\n",
       "    </tr>\n",
       "    <tr>\n",
       "      <th>3</th>\n",
       "      <td>2019</td>\n",
       "      <td>E57ODZWZ7FF32TWEFA76</td>\n",
       "      <td>0</td>\n",
       "      <td>NaN</td>\n",
       "      <td>NaN</td>\n",
       "      <td>NaN</td>\n",
       "      <td>NC</td>\n",
       "      <td>Conventional:First Lien</td>\n",
       "      <td>Single Family (1-4 Units):Site-Built</td>\n",
       "      <td>Not Hispanic or Latino</td>\n",
       "      <td>White</td>\n",
       "      <td>Joint</td>\n",
       "      <td>8</td>\n",
       "      <td>0</td>\n",
       "      <td>1</td>\n",
       "      <td>1</td>\n",
       "      <td>1</td>\n",
       "      <td>1</td>\n",
       "      <td>2</td>\n",
       "      <td>2</td>\n",
       "      <td>2</td>\n",
       "      <td>1415000.000</td>\n",
       "      <td>85.000</td>\n",
       "      <td>4.500</td>\n",
       "      <td>NaN</td>\n",
       "      <td>3</td>\n",
       "      <td>NaN</td>\n",
       "      <td>NaN</td>\n",
       "      <td>NaN</td>\n",
       "      <td>NaN</td>\n",
       "      <td>NaN</td>\n",
       "      <td>360.000</td>\n",
       "      <td>NaN</td>\n",
       "      <td>NaN</td>\n",
       "      <td>2</td>\n",
       "      <td>2</td>\n",
       "      <td>2</td>\n",
       "      <td>2</td>\n",
       "      <td>1655000.000</td>\n",
       "      <td>1</td>\n",
       "      <td>1</td>\n",
       "      <td>3</td>\n",
       "      <td>5</td>\n",
       "      <td>1</td>\n",
       "      <td>NaN</td>\n",
       "      <td>1110.000</td>\n",
       "      <td>30%-&lt;36%</td>\n",
       "      <td>9</td>\n",
       "      <td>9</td>\n",
       "      <td>2.000</td>\n",
       "      <td>NaN</td>\n",
       "      <td>NaN</td>\n",
       "      <td>NaN</td>\n",
       "      <td>NaN</td>\n",
       "      <td>2.000</td>\n",
       "      <td>NaN</td>\n",
       "      <td>NaN</td>\n",
       "      <td>NaN</td>\n",
       "      <td>NaN</td>\n",
       "      <td>2</td>\n",
       "      <td>2</td>\n",
       "      <td>5.000</td>\n",
       "      <td>NaN</td>\n",
       "      <td>NaN</td>\n",
       "      <td>NaN</td>\n",
       "      <td>NaN</td>\n",
       "      <td>5.000</td>\n",
       "      <td>NaN</td>\n",
       "      <td>NaN</td>\n",
       "      <td>NaN</td>\n",
       "      <td>NaN</td>\n",
       "      <td>2</td>\n",
       "      <td>2</td>\n",
       "      <td>1</td>\n",
       "      <td>2</td>\n",
       "      <td>2</td>\n",
       "      <td>2</td>\n",
       "      <td>55-64</td>\n",
       "      <td>45-54</td>\n",
       "      <td>No</td>\n",
       "      <td>No</td>\n",
       "      <td>1</td>\n",
       "      <td>1</td>\n",
       "      <td>6</td>\n",
       "      <td>NaN</td>\n",
       "      <td>NaN</td>\n",
       "      <td>NaN</td>\n",
       "      <td>NaN</td>\n",
       "      <td>10</td>\n",
       "      <td>NaN</td>\n",
       "      <td>NaN</td>\n",
       "      <td>NaN</td>\n",
       "      <td>0</td>\n",
       "      <td>0.000</td>\n",
       "      <td>0</td>\n",
       "      <td>0</td>\n",
       "      <td>0</td>\n",
       "      <td>0</td>\n",
       "      <td>0</td>\n",
       "    </tr>\n",
       "    <tr>\n",
       "      <th>4</th>\n",
       "      <td>2019</td>\n",
       "      <td>E57ODZWZ7FF32TWEFA76</td>\n",
       "      <td>0</td>\n",
       "      <td>NaN</td>\n",
       "      <td>NaN</td>\n",
       "      <td>NaN</td>\n",
       "      <td>NC</td>\n",
       "      <td>Conventional:First Lien</td>\n",
       "      <td>Single Family (1-4 Units):Site-Built</td>\n",
       "      <td>Not Hispanic or Latino</td>\n",
       "      <td>White</td>\n",
       "      <td>Joint</td>\n",
       "      <td>7</td>\n",
       "      <td>0</td>\n",
       "      <td>1</td>\n",
       "      <td>1</td>\n",
       "      <td>1</td>\n",
       "      <td>1</td>\n",
       "      <td>2</td>\n",
       "      <td>2</td>\n",
       "      <td>2</td>\n",
       "      <td>905000.000</td>\n",
       "      <td>47.630</td>\n",
       "      <td>NaN</td>\n",
       "      <td>NaN</td>\n",
       "      <td>3</td>\n",
       "      <td>NaN</td>\n",
       "      <td>NaN</td>\n",
       "      <td>NaN</td>\n",
       "      <td>NaN</td>\n",
       "      <td>NaN</td>\n",
       "      <td>360.000</td>\n",
       "      <td>NaN</td>\n",
       "      <td>NaN</td>\n",
       "      <td>2</td>\n",
       "      <td>2</td>\n",
       "      <td>2</td>\n",
       "      <td>2</td>\n",
       "      <td>NaN</td>\n",
       "      <td>1</td>\n",
       "      <td>1</td>\n",
       "      <td>3</td>\n",
       "      <td>5</td>\n",
       "      <td>1</td>\n",
       "      <td>NaN</td>\n",
       "      <td>277.000</td>\n",
       "      <td>&gt;60%</td>\n",
       "      <td>2</td>\n",
       "      <td>9</td>\n",
       "      <td>2.000</td>\n",
       "      <td>NaN</td>\n",
       "      <td>NaN</td>\n",
       "      <td>NaN</td>\n",
       "      <td>NaN</td>\n",
       "      <td>2.000</td>\n",
       "      <td>NaN</td>\n",
       "      <td>NaN</td>\n",
       "      <td>NaN</td>\n",
       "      <td>NaN</td>\n",
       "      <td>2</td>\n",
       "      <td>2</td>\n",
       "      <td>5.000</td>\n",
       "      <td>NaN</td>\n",
       "      <td>NaN</td>\n",
       "      <td>NaN</td>\n",
       "      <td>NaN</td>\n",
       "      <td>5.000</td>\n",
       "      <td>NaN</td>\n",
       "      <td>NaN</td>\n",
       "      <td>NaN</td>\n",
       "      <td>NaN</td>\n",
       "      <td>2</td>\n",
       "      <td>2</td>\n",
       "      <td>2</td>\n",
       "      <td>1</td>\n",
       "      <td>2</td>\n",
       "      <td>2</td>\n",
       "      <td>25-34</td>\n",
       "      <td>65-74</td>\n",
       "      <td>No</td>\n",
       "      <td>Yes</td>\n",
       "      <td>1</td>\n",
       "      <td>1</td>\n",
       "      <td>5</td>\n",
       "      <td>NaN</td>\n",
       "      <td>NaN</td>\n",
       "      <td>NaN</td>\n",
       "      <td>NaN</td>\n",
       "      <td>1</td>\n",
       "      <td>NaN</td>\n",
       "      <td>NaN</td>\n",
       "      <td>NaN</td>\n",
       "      <td>0</td>\n",
       "      <td>0.000</td>\n",
       "      <td>0</td>\n",
       "      <td>0</td>\n",
       "      <td>0</td>\n",
       "      <td>0</td>\n",
       "      <td>0</td>\n",
       "    </tr>\n",
       "  </tbody>\n",
       "</table>\n",
       "</div>"
      ],
      "text/plain": [
       "   activity_year                   lei  derived_msa-md state_code  \\\n",
       "0           2019  E57ODZWZ7FF32TWEFA76               0        NaN   \n",
       "1           2019  E57ODZWZ7FF32TWEFA76               0        NaN   \n",
       "2           2019  E57ODZWZ7FF32TWEFA76               0        NaN   \n",
       "3           2019  E57ODZWZ7FF32TWEFA76               0        NaN   \n",
       "4           2019  E57ODZWZ7FF32TWEFA76               0        NaN   \n",
       "\n",
       "   county_code  census_tract conforming_loan_limit derived_loan_product_type  \\\n",
       "0          NaN           NaN                    NC   Conventional:First Lien   \n",
       "1          NaN           NaN                     C   Conventional:First Lien   \n",
       "2          NaN           NaN                     C   Conventional:First Lien   \n",
       "3          NaN           NaN                    NC   Conventional:First Lien   \n",
       "4          NaN           NaN                    NC   Conventional:First Lien   \n",
       "\n",
       "              derived_dwelling_category       derived_ethnicity  \\\n",
       "0  Single Family (1-4 Units):Site-Built      Hispanic or Latino   \n",
       "1  Single Family (1-4 Units):Site-Built  Not Hispanic or Latino   \n",
       "2  Single Family (1-4 Units):Site-Built  Not Hispanic or Latino   \n",
       "3  Single Family (1-4 Units):Site-Built  Not Hispanic or Latino   \n",
       "4  Single Family (1-4 Units):Site-Built  Not Hispanic or Latino   \n",
       "\n",
       "         derived_race derived_sex  action_taken  purchaser_type  preapproval  \\\n",
       "0  Race Not Available        Male             8               0            1   \n",
       "1               White        Male             8               0            1   \n",
       "2               Joint       Joint             7               0            1   \n",
       "3               White       Joint             8               0            1   \n",
       "4               White       Joint             7               0            1   \n",
       "\n",
       "   loan_type  loan_purpose  lien_status  reverse_mortgage  \\\n",
       "0          1             1            1                 2   \n",
       "1          1             1            1                 2   \n",
       "2          1             1            1                 2   \n",
       "3          1             1            1                 2   \n",
       "4          1             1            1                 2   \n",
       "\n",
       "   open-end_line_of_credit  business_or_commercial_purpose  loan_amount  \\\n",
       "0                        2                               2   985000.000   \n",
       "1                        2                               2   465000.000   \n",
       "2                        2                               2   165000.000   \n",
       "3                        2                               2  1415000.000   \n",
       "4                        2                               2   905000.000   \n",
       "\n",
       "   loan_to_value_ratio  interest_rate  rate_spread  hoepa_status  \\\n",
       "0               80.000          4.625          NaN             3   \n",
       "1               80.000          4.750          NaN             3   \n",
       "2               80.000            NaN          NaN             3   \n",
       "3               85.000          4.500          NaN             3   \n",
       "4               47.630            NaN          NaN             3   \n",
       "\n",
       "   total_loan_costs  total_points_and_fees  origination_charges  \\\n",
       "0               NaN                    NaN                  NaN   \n",
       "1               NaN                    NaN                  NaN   \n",
       "2               NaN                    NaN                  NaN   \n",
       "3               NaN                    NaN                  NaN   \n",
       "4               NaN                    NaN                  NaN   \n",
       "\n",
       "   discount_points  lender_credits  loan_term  prepayment_penalty_term  \\\n",
       "0              NaN             NaN    360.000                      NaN   \n",
       "1              NaN             NaN    360.000                      NaN   \n",
       "2              NaN             NaN    360.000                      NaN   \n",
       "3              NaN             NaN    360.000                      NaN   \n",
       "4              NaN             NaN    360.000                      NaN   \n",
       "\n",
       "   intro_rate_period  negative_amortization  interest_only_payment  \\\n",
       "0                NaN                      2                      2   \n",
       "1                NaN                      2                      2   \n",
       "2                NaN                      2                      2   \n",
       "3                NaN                      2                      2   \n",
       "4                NaN                      2                      2   \n",
       "\n",
       "   balloon_payment  other_nonamortizing_features  property_value  \\\n",
       "0                2                             2     1305000.000   \n",
       "1                2                             2      755000.000   \n",
       "2                2                             2      205000.000   \n",
       "3                2                             2     1655000.000   \n",
       "4                2                             2             NaN   \n",
       "\n",
       "   construction_method  occupancy_type  \\\n",
       "0                    1               1   \n",
       "1                    1               1   \n",
       "2                    1               1   \n",
       "3                    1               1   \n",
       "4                    1               1   \n",
       "\n",
       "   manufactured_home_secured_property_type  \\\n",
       "0                                        3   \n",
       "1                                        3   \n",
       "2                                        3   \n",
       "3                                        3   \n",
       "4                                        3   \n",
       "\n",
       "   manufactured_home_land_property_interest total_units  \\\n",
       "0                                         5           1   \n",
       "1                                         5           1   \n",
       "2                                         5           1   \n",
       "3                                         5           1   \n",
       "4                                         5           1   \n",
       "\n",
       "   multifamily_affordable_units   income debt_to_income_ratio  \\\n",
       "0                           NaN  216.000                   40   \n",
       "1                           NaN  243.000                   47   \n",
       "2                           NaN   71.000              50%-60%   \n",
       "3                           NaN 1110.000             30%-<36%   \n",
       "4                           NaN  277.000                 >60%   \n",
       "\n",
       "   applicant_credit_score_type  co-applicant_credit_score_type  \\\n",
       "0                            2                              10   \n",
       "1                            2                              10   \n",
       "2                            1                               9   \n",
       "3                            9                               9   \n",
       "4                            2                               9   \n",
       "\n",
       "   applicant_ethnicity-1  applicant_ethnicity-2  applicant_ethnicity-3  \\\n",
       "0                  1.000                    NaN                    NaN   \n",
       "1                  2.000                    NaN                    NaN   \n",
       "2                  2.000                    NaN                    NaN   \n",
       "3                  2.000                    NaN                    NaN   \n",
       "4                  2.000                    NaN                    NaN   \n",
       "\n",
       "   applicant_ethnicity-4  applicant_ethnicity-5  co-applicant_ethnicity-1  \\\n",
       "0                    NaN                    NaN                     5.000   \n",
       "1                    NaN                    NaN                     5.000   \n",
       "2                    NaN                    NaN                     2.000   \n",
       "3                    NaN                    NaN                     2.000   \n",
       "4                    NaN                    NaN                     2.000   \n",
       "\n",
       "   co-applicant_ethnicity-2  co-applicant_ethnicity-3  \\\n",
       "0                       NaN                       NaN   \n",
       "1                       NaN                       NaN   \n",
       "2                       NaN                       NaN   \n",
       "3                       NaN                       NaN   \n",
       "4                       NaN                       NaN   \n",
       "\n",
       "   co-applicant_ethnicity-4  co-applicant_ethnicity-5  \\\n",
       "0                       NaN                       NaN   \n",
       "1                       NaN                       NaN   \n",
       "2                       NaN                       NaN   \n",
       "3                       NaN                       NaN   \n",
       "4                       NaN                       NaN   \n",
       "\n",
       "   applicant_ethnicity_observed  co-applicant_ethnicity_observed  \\\n",
       "0                             2                                4   \n",
       "1                             2                                4   \n",
       "2                             2                                2   \n",
       "3                             2                                2   \n",
       "4                             2                                2   \n",
       "\n",
       "   applicant_race-1  applicant_race-2  applicant_race-3  applicant_race-4  \\\n",
       "0             6.000               NaN               NaN               NaN   \n",
       "1             5.000               NaN               NaN               NaN   \n",
       "2             5.000               NaN               NaN               NaN   \n",
       "3             5.000               NaN               NaN               NaN   \n",
       "4             5.000               NaN               NaN               NaN   \n",
       "\n",
       "   applicant_race-5  co-applicant_race-1  co-applicant_race-2  \\\n",
       "0               NaN                8.000                  NaN   \n",
       "1               NaN                8.000                  NaN   \n",
       "2               NaN               22.000                  NaN   \n",
       "3               NaN                5.000                  NaN   \n",
       "4               NaN                5.000                  NaN   \n",
       "\n",
       "   co-applicant_race-3  co-applicant_race-4  co-applicant_race-5  \\\n",
       "0                  NaN                  NaN                  NaN   \n",
       "1                  NaN                  NaN                  NaN   \n",
       "2                  NaN                  NaN                  NaN   \n",
       "3                  NaN                  NaN                  NaN   \n",
       "4                  NaN                  NaN                  NaN   \n",
       "\n",
       "   applicant_race_observed  co-applicant_race_observed  applicant_sex  \\\n",
       "0                        2                           4              1   \n",
       "1                        2                           4              1   \n",
       "2                        2                           2              1   \n",
       "3                        2                           2              1   \n",
       "4                        2                           2              2   \n",
       "\n",
       "   co-applicant_sex  applicant_sex_observed  co-applicant_sex_observed  \\\n",
       "0                 5                       2                          4   \n",
       "1                 5                       2                          4   \n",
       "2                 2                       2                          2   \n",
       "3                 2                       2                          2   \n",
       "4                 1                       2                          2   \n",
       "\n",
       "  applicant_age co-applicant_age applicant_age_above_62  \\\n",
       "0         25-34             9999                     No   \n",
       "1         35-44             9999                     No   \n",
       "2         65-74            55-64                    Yes   \n",
       "3         55-64            45-54                     No   \n",
       "4         25-34            65-74                     No   \n",
       "\n",
       "  co-applicant_age_above_62  submission_of_application  \\\n",
       "0                       NaN                          1   \n",
       "1                       NaN                          1   \n",
       "2                        No                          1   \n",
       "3                        No                          1   \n",
       "4                       Yes                          1   \n",
       "\n",
       "   initially_payable_to_institution  aus-1  aus-2  aus-3  aus-4  aus-5  \\\n",
       "0                                 1      5    NaN    NaN    NaN    NaN   \n",
       "1                                 1      1    NaN    NaN    NaN    NaN   \n",
       "2                                 1      1    NaN    NaN    NaN    NaN   \n",
       "3                                 1      6    NaN    NaN    NaN    NaN   \n",
       "4                                 1      5    NaN    NaN    NaN    NaN   \n",
       "\n",
       "   denial_reason-1  denial_reason-2  denial_reason-3  denial_reason-4  \\\n",
       "0               10              NaN              NaN              NaN   \n",
       "1               10              NaN              NaN              NaN   \n",
       "2                1              NaN              NaN              NaN   \n",
       "3               10              NaN              NaN              NaN   \n",
       "4                1              NaN              NaN              NaN   \n",
       "\n",
       "   tract_population  tract_minority_population_percent  \\\n",
       "0                 0                              0.000   \n",
       "1                 0                              0.000   \n",
       "2                 0                              0.000   \n",
       "3                 0                              0.000   \n",
       "4                 0                              0.000   \n",
       "\n",
       "   ffiec_msa_md_median_family_income  tract_to_msa_income_percentage  \\\n",
       "0                                  0                               0   \n",
       "1                                  0                               0   \n",
       "2                                  0                               0   \n",
       "3                                  0                               0   \n",
       "4                                  0                               0   \n",
       "\n",
       "   tract_owner_occupied_units  tract_one_to_four_family_homes  \\\n",
       "0                           0                               0   \n",
       "1                           0                               0   \n",
       "2                           0                               0   \n",
       "3                           0                               0   \n",
       "4                           0                               0   \n",
       "\n",
       "   tract_median_age_of_housing_units  \n",
       "0                                  0  \n",
       "1                                  0  \n",
       "2                                  0  \n",
       "3                                  0  \n",
       "4                                  0  "
      ]
     },
     "execution_count": 3,
     "metadata": {},
     "output_type": "execute_result"
    }
   ],
   "source": [
    "data.head()"
   ]
  },
  {
   "cell_type": "code",
   "execution_count": 4,
   "id": "75f475c9",
   "metadata": {},
   "outputs": [
    {
     "data": {
      "text/plain": [
       "(2110137, 99)"
      ]
     },
     "execution_count": 4,
     "metadata": {},
     "output_type": "execute_result"
    }
   ],
   "source": [
    "data.shape"
   ]
  },
  {
   "cell_type": "code",
   "execution_count": 5,
   "id": "af8cb740",
   "metadata": {},
   "outputs": [
    {
     "data": {
      "text/plain": [
       "Index(['activity_year', 'lei', 'derived_msa-md', 'state_code', 'county_code',\n",
       "       'census_tract', 'conforming_loan_limit', 'derived_loan_product_type',\n",
       "       'derived_dwelling_category', 'derived_ethnicity', 'derived_race',\n",
       "       'derived_sex', 'action_taken', 'purchaser_type', 'preapproval',\n",
       "       'loan_type', 'loan_purpose', 'lien_status', 'reverse_mortgage',\n",
       "       'open-end_line_of_credit', 'business_or_commercial_purpose',\n",
       "       'loan_amount', 'loan_to_value_ratio', 'interest_rate', 'rate_spread',\n",
       "       'hoepa_status', 'total_loan_costs', 'total_points_and_fees',\n",
       "       'origination_charges', 'discount_points', 'lender_credits', 'loan_term',\n",
       "       'prepayment_penalty_term', 'intro_rate_period', 'negative_amortization',\n",
       "       'interest_only_payment', 'balloon_payment',\n",
       "       'other_nonamortizing_features', 'property_value', 'construction_method',\n",
       "       'occupancy_type', 'manufactured_home_secured_property_type',\n",
       "       'manufactured_home_land_property_interest', 'total_units',\n",
       "       'multifamily_affordable_units', 'income', 'debt_to_income_ratio',\n",
       "       'applicant_credit_score_type', 'co-applicant_credit_score_type',\n",
       "       'applicant_ethnicity-1', 'applicant_ethnicity-2',\n",
       "       'applicant_ethnicity-3', 'applicant_ethnicity-4',\n",
       "       'applicant_ethnicity-5', 'co-applicant_ethnicity-1',\n",
       "       'co-applicant_ethnicity-2', 'co-applicant_ethnicity-3',\n",
       "       'co-applicant_ethnicity-4', 'co-applicant_ethnicity-5',\n",
       "       'applicant_ethnicity_observed', 'co-applicant_ethnicity_observed',\n",
       "       'applicant_race-1', 'applicant_race-2', 'applicant_race-3',\n",
       "       'applicant_race-4', 'applicant_race-5', 'co-applicant_race-1',\n",
       "       'co-applicant_race-2', 'co-applicant_race-3', 'co-applicant_race-4',\n",
       "       'co-applicant_race-5', 'applicant_race_observed',\n",
       "       'co-applicant_race_observed', 'applicant_sex', 'co-applicant_sex',\n",
       "       'applicant_sex_observed', 'co-applicant_sex_observed', 'applicant_age',\n",
       "       'co-applicant_age', 'applicant_age_above_62',\n",
       "       'co-applicant_age_above_62', 'submission_of_application',\n",
       "       'initially_payable_to_institution', 'aus-1', 'aus-2', 'aus-3', 'aus-4',\n",
       "       'aus-5', 'denial_reason-1', 'denial_reason-2', 'denial_reason-3',\n",
       "       'denial_reason-4', 'tract_population',\n",
       "       'tract_minority_population_percent',\n",
       "       'ffiec_msa_md_median_family_income', 'tract_to_msa_income_percentage',\n",
       "       'tract_owner_occupied_units', 'tract_one_to_four_family_homes',\n",
       "       'tract_median_age_of_housing_units'],\n",
       "      dtype='object')"
      ]
     },
     "execution_count": 5,
     "metadata": {},
     "output_type": "execute_result"
    }
   ],
   "source": [
    "data.columns"
   ]
  },
  {
   "cell_type": "code",
   "execution_count": 6,
   "id": "9526dff9",
   "metadata": {},
   "outputs": [],
   "source": [
    "data_refined = data[['derived_ethnicity',\n",
    "                     'derived_race',\n",
    "                     'derived_sex',\n",
    "                     'loan_type',\n",
    "                     'applicant_age',\n",
    "                     'loan_amount',\n",
    "                     'income',\n",
    "                     'action_taken']]"
   ]
  },
  {
   "cell_type": "code",
   "execution_count": 7,
   "id": "48d7f8c8",
   "metadata": {},
   "outputs": [
    {
     "data": {
      "text/plain": [
       "(2110137, 8)"
      ]
     },
     "execution_count": 7,
     "metadata": {},
     "output_type": "execute_result"
    }
   ],
   "source": [
    "data_refined.shape"
   ]
  },
  {
   "cell_type": "code",
   "execution_count": 8,
   "id": "2549d331",
   "metadata": {},
   "outputs": [
    {
     "data": {
      "text/html": [
       "<div>\n",
       "<style scoped>\n",
       "    .dataframe tbody tr th:only-of-type {\n",
       "        vertical-align: middle;\n",
       "    }\n",
       "\n",
       "    .dataframe tbody tr th {\n",
       "        vertical-align: top;\n",
       "    }\n",
       "\n",
       "    .dataframe thead th {\n",
       "        text-align: right;\n",
       "    }\n",
       "</style>\n",
       "<table border=\"1\" class=\"dataframe\">\n",
       "  <thead>\n",
       "    <tr style=\"text-align: right;\">\n",
       "      <th></th>\n",
       "      <th>derived_ethnicity</th>\n",
       "      <th>derived_race</th>\n",
       "      <th>derived_sex</th>\n",
       "      <th>loan_type</th>\n",
       "      <th>applicant_age</th>\n",
       "      <th>loan_amount</th>\n",
       "      <th>income</th>\n",
       "      <th>action_taken</th>\n",
       "    </tr>\n",
       "  </thead>\n",
       "  <tbody>\n",
       "    <tr>\n",
       "      <th>0</th>\n",
       "      <td>Hispanic or Latino</td>\n",
       "      <td>Race Not Available</td>\n",
       "      <td>Male</td>\n",
       "      <td>1</td>\n",
       "      <td>25-34</td>\n",
       "      <td>985000.000</td>\n",
       "      <td>216.000</td>\n",
       "      <td>8</td>\n",
       "    </tr>\n",
       "    <tr>\n",
       "      <th>1</th>\n",
       "      <td>Not Hispanic or Latino</td>\n",
       "      <td>White</td>\n",
       "      <td>Male</td>\n",
       "      <td>1</td>\n",
       "      <td>35-44</td>\n",
       "      <td>465000.000</td>\n",
       "      <td>243.000</td>\n",
       "      <td>8</td>\n",
       "    </tr>\n",
       "    <tr>\n",
       "      <th>2</th>\n",
       "      <td>Not Hispanic or Latino</td>\n",
       "      <td>Joint</td>\n",
       "      <td>Joint</td>\n",
       "      <td>1</td>\n",
       "      <td>65-74</td>\n",
       "      <td>165000.000</td>\n",
       "      <td>71.000</td>\n",
       "      <td>7</td>\n",
       "    </tr>\n",
       "    <tr>\n",
       "      <th>3</th>\n",
       "      <td>Not Hispanic or Latino</td>\n",
       "      <td>White</td>\n",
       "      <td>Joint</td>\n",
       "      <td>1</td>\n",
       "      <td>55-64</td>\n",
       "      <td>1415000.000</td>\n",
       "      <td>1110.000</td>\n",
       "      <td>8</td>\n",
       "    </tr>\n",
       "    <tr>\n",
       "      <th>4</th>\n",
       "      <td>Not Hispanic or Latino</td>\n",
       "      <td>White</td>\n",
       "      <td>Joint</td>\n",
       "      <td>1</td>\n",
       "      <td>25-34</td>\n",
       "      <td>905000.000</td>\n",
       "      <td>277.000</td>\n",
       "      <td>7</td>\n",
       "    </tr>\n",
       "    <tr>\n",
       "      <th>...</th>\n",
       "      <td>...</td>\n",
       "      <td>...</td>\n",
       "      <td>...</td>\n",
       "      <td>...</td>\n",
       "      <td>...</td>\n",
       "      <td>...</td>\n",
       "      <td>...</td>\n",
       "      <td>...</td>\n",
       "    </tr>\n",
       "    <tr>\n",
       "      <th>2110132</th>\n",
       "      <td>Not Hispanic or Latino</td>\n",
       "      <td>White</td>\n",
       "      <td>Male</td>\n",
       "      <td>1</td>\n",
       "      <td>35-44</td>\n",
       "      <td>225000.000</td>\n",
       "      <td>140.000</td>\n",
       "      <td>1</td>\n",
       "    </tr>\n",
       "    <tr>\n",
       "      <th>2110133</th>\n",
       "      <td>Not Hispanic or Latino</td>\n",
       "      <td>Black or African American</td>\n",
       "      <td>Female</td>\n",
       "      <td>3</td>\n",
       "      <td>65-74</td>\n",
       "      <td>285000.000</td>\n",
       "      <td>50.000</td>\n",
       "      <td>4</td>\n",
       "    </tr>\n",
       "    <tr>\n",
       "      <th>2110134</th>\n",
       "      <td>Ethnicity Not Available</td>\n",
       "      <td>Race Not Available</td>\n",
       "      <td>Sex Not Available</td>\n",
       "      <td>2</td>\n",
       "      <td>25-34</td>\n",
       "      <td>215000.000</td>\n",
       "      <td>61.000</td>\n",
       "      <td>4</td>\n",
       "    </tr>\n",
       "    <tr>\n",
       "      <th>2110135</th>\n",
       "      <td>Not Hispanic or Latino</td>\n",
       "      <td>White</td>\n",
       "      <td>Joint</td>\n",
       "      <td>1</td>\n",
       "      <td>55-64</td>\n",
       "      <td>485000.000</td>\n",
       "      <td>222.000</td>\n",
       "      <td>1</td>\n",
       "    </tr>\n",
       "    <tr>\n",
       "      <th>2110136</th>\n",
       "      <td>Not Hispanic or Latino</td>\n",
       "      <td>White</td>\n",
       "      <td>Joint</td>\n",
       "      <td>1</td>\n",
       "      <td>35-44</td>\n",
       "      <td>435000.000</td>\n",
       "      <td>242.000</td>\n",
       "      <td>1</td>\n",
       "    </tr>\n",
       "  </tbody>\n",
       "</table>\n",
       "<p>2110137 rows × 8 columns</p>\n",
       "</div>"
      ],
      "text/plain": [
       "               derived_ethnicity               derived_race  \\\n",
       "0             Hispanic or Latino         Race Not Available   \n",
       "1         Not Hispanic or Latino                      White   \n",
       "2         Not Hispanic or Latino                      Joint   \n",
       "3         Not Hispanic or Latino                      White   \n",
       "4         Not Hispanic or Latino                      White   \n",
       "...                          ...                        ...   \n",
       "2110132   Not Hispanic or Latino                      White   \n",
       "2110133   Not Hispanic or Latino  Black or African American   \n",
       "2110134  Ethnicity Not Available         Race Not Available   \n",
       "2110135   Not Hispanic or Latino                      White   \n",
       "2110136   Not Hispanic or Latino                      White   \n",
       "\n",
       "               derived_sex  loan_type applicant_age  loan_amount   income  \\\n",
       "0                     Male          1         25-34   985000.000  216.000   \n",
       "1                     Male          1         35-44   465000.000  243.000   \n",
       "2                    Joint          1         65-74   165000.000   71.000   \n",
       "3                    Joint          1         55-64  1415000.000 1110.000   \n",
       "4                    Joint          1         25-34   905000.000  277.000   \n",
       "...                    ...        ...           ...          ...      ...   \n",
       "2110132               Male          1         35-44   225000.000  140.000   \n",
       "2110133             Female          3         65-74   285000.000   50.000   \n",
       "2110134  Sex Not Available          2         25-34   215000.000   61.000   \n",
       "2110135              Joint          1         55-64   485000.000  222.000   \n",
       "2110136              Joint          1         35-44   435000.000  242.000   \n",
       "\n",
       "         action_taken  \n",
       "0                   8  \n",
       "1                   8  \n",
       "2                   7  \n",
       "3                   8  \n",
       "4                   7  \n",
       "...               ...  \n",
       "2110132             1  \n",
       "2110133             4  \n",
       "2110134             4  \n",
       "2110135             1  \n",
       "2110136             1  \n",
       "\n",
       "[2110137 rows x 8 columns]"
      ]
     },
     "execution_count": 8,
     "metadata": {},
     "output_type": "execute_result"
    }
   ],
   "source": [
    "data_refined"
   ]
  },
  {
   "cell_type": "code",
   "execution_count": 9,
   "id": "856eee78",
   "metadata": {},
   "outputs": [
    {
     "data": {
      "text/plain": [
       "1    743230\n",
       "6    608412\n",
       "3    447656\n",
       "4    213050\n",
       "5     65777\n",
       "2     22509\n",
       "8      5800\n",
       "7      3703\n",
       "Name: action_taken, dtype: int64"
      ]
     },
     "execution_count": 9,
     "metadata": {},
     "output_type": "execute_result"
    }
   ],
   "source": [
    "data_refined['action_taken'].value_counts()"
   ]
  },
  {
   "cell_type": "markdown",
   "id": "cd4e3fc8",
   "metadata": {},
   "source": [
    "As only data where a completed loan was approved or denied is pertinent to this investigation, only the observations where either of these outcomes was whitnessed will be used in this investigation"
   ]
  },
  {
   "cell_type": "code",
   "execution_count": 10,
   "id": "41d8e30f",
   "metadata": {},
   "outputs": [],
   "source": [
    "groups = data_refined.groupby(['derived_sex','derived_race'])"
   ]
  },
  {
   "cell_type": "code",
   "execution_count": 11,
   "id": "a6e99cad",
   "metadata": {
    "scrolled": false
   },
   "outputs": [
    {
     "data": {
      "text/html": [
       "<div>\n",
       "<style scoped>\n",
       "    .dataframe tbody tr th:only-of-type {\n",
       "        vertical-align: middle;\n",
       "    }\n",
       "\n",
       "    .dataframe tbody tr th {\n",
       "        vertical-align: top;\n",
       "    }\n",
       "\n",
       "    .dataframe thead th {\n",
       "        text-align: right;\n",
       "    }\n",
       "</style>\n",
       "<table border=\"1\" class=\"dataframe\">\n",
       "  <thead>\n",
       "    <tr style=\"text-align: right;\">\n",
       "      <th></th>\n",
       "      <th></th>\n",
       "      <th>derived_ethnicity</th>\n",
       "      <th>loan_type</th>\n",
       "      <th>applicant_age</th>\n",
       "      <th>loan_amount</th>\n",
       "      <th>income</th>\n",
       "      <th>action_taken</th>\n",
       "    </tr>\n",
       "    <tr>\n",
       "      <th>derived_sex</th>\n",
       "      <th>derived_race</th>\n",
       "      <th></th>\n",
       "      <th></th>\n",
       "      <th></th>\n",
       "      <th></th>\n",
       "      <th></th>\n",
       "      <th></th>\n",
       "    </tr>\n",
       "  </thead>\n",
       "  <tbody>\n",
       "    <tr>\n",
       "      <th rowspan=\"9\" valign=\"top\">Female</th>\n",
       "      <th>2 or more minority races</th>\n",
       "      <td>Not Hispanic or Latino</td>\n",
       "      <td>1</td>\n",
       "      <td>35-44</td>\n",
       "      <td>245000.000</td>\n",
       "      <td>100.000</td>\n",
       "      <td>4</td>\n",
       "    </tr>\n",
       "    <tr>\n",
       "      <th>American Indian or Alaska Native</th>\n",
       "      <td>Hispanic or Latino</td>\n",
       "      <td>1</td>\n",
       "      <td>45-54</td>\n",
       "      <td>165000.000</td>\n",
       "      <td>85.000</td>\n",
       "      <td>5</td>\n",
       "    </tr>\n",
       "    <tr>\n",
       "      <th>Asian</th>\n",
       "      <td>Not Hispanic or Latino</td>\n",
       "      <td>1</td>\n",
       "      <td>25-34</td>\n",
       "      <td>625000.000</td>\n",
       "      <td>291.000</td>\n",
       "      <td>8</td>\n",
       "    </tr>\n",
       "    <tr>\n",
       "      <th>Black or African American</th>\n",
       "      <td>Not Hispanic or Latino</td>\n",
       "      <td>1</td>\n",
       "      <td>45-54</td>\n",
       "      <td>335000.000</td>\n",
       "      <td>105.000</td>\n",
       "      <td>2</td>\n",
       "    </tr>\n",
       "    <tr>\n",
       "      <th>Free Form Text Only</th>\n",
       "      <td>Hispanic or Latino</td>\n",
       "      <td>1</td>\n",
       "      <td>35-44</td>\n",
       "      <td>75000.000</td>\n",
       "      <td>48.000</td>\n",
       "      <td>1</td>\n",
       "    </tr>\n",
       "    <tr>\n",
       "      <th>Joint</th>\n",
       "      <td>Not Hispanic or Latino</td>\n",
       "      <td>1</td>\n",
       "      <td>25-34</td>\n",
       "      <td>555000.000</td>\n",
       "      <td>208.000</td>\n",
       "      <td>8</td>\n",
       "    </tr>\n",
       "    <tr>\n",
       "      <th>Native Hawaiian or Other Pacific Islander</th>\n",
       "      <td>Not Hispanic or Latino</td>\n",
       "      <td>1</td>\n",
       "      <td>35-44</td>\n",
       "      <td>275000.000</td>\n",
       "      <td>62.000</td>\n",
       "      <td>1</td>\n",
       "    </tr>\n",
       "    <tr>\n",
       "      <th>Race Not Available</th>\n",
       "      <td>Ethnicity Not Available</td>\n",
       "      <td>1</td>\n",
       "      <td>25-34</td>\n",
       "      <td>285000.000</td>\n",
       "      <td>95.000</td>\n",
       "      <td>4</td>\n",
       "    </tr>\n",
       "    <tr>\n",
       "      <th>White</th>\n",
       "      <td>Not Hispanic or Latino</td>\n",
       "      <td>1</td>\n",
       "      <td>55-64</td>\n",
       "      <td>105000.000</td>\n",
       "      <td>43.000</td>\n",
       "      <td>1</td>\n",
       "    </tr>\n",
       "    <tr>\n",
       "      <th rowspan=\"9\" valign=\"top\">Joint</th>\n",
       "      <th>2 or more minority races</th>\n",
       "      <td>Not Hispanic or Latino</td>\n",
       "      <td>1</td>\n",
       "      <td>35-44</td>\n",
       "      <td>145000.000</td>\n",
       "      <td>71.000</td>\n",
       "      <td>4</td>\n",
       "    </tr>\n",
       "    <tr>\n",
       "      <th>American Indian or Alaska Native</th>\n",
       "      <td>Not Hispanic or Latino</td>\n",
       "      <td>1</td>\n",
       "      <td>45-54</td>\n",
       "      <td>295000.000</td>\n",
       "      <td>74.000</td>\n",
       "      <td>1</td>\n",
       "    </tr>\n",
       "    <tr>\n",
       "      <th>Asian</th>\n",
       "      <td>Not Hispanic or Latino</td>\n",
       "      <td>1</td>\n",
       "      <td>35-44</td>\n",
       "      <td>1125000.000</td>\n",
       "      <td>547.000</td>\n",
       "      <td>8</td>\n",
       "    </tr>\n",
       "    <tr>\n",
       "      <th>Black or African American</th>\n",
       "      <td>Not Hispanic or Latino</td>\n",
       "      <td>1</td>\n",
       "      <td>45-54</td>\n",
       "      <td>285000.000</td>\n",
       "      <td>96.000</td>\n",
       "      <td>7</td>\n",
       "    </tr>\n",
       "    <tr>\n",
       "      <th>Free Form Text Only</th>\n",
       "      <td>Not Hispanic or Latino</td>\n",
       "      <td>1</td>\n",
       "      <td>35-44</td>\n",
       "      <td>1075000.000</td>\n",
       "      <td>299.000</td>\n",
       "      <td>1</td>\n",
       "    </tr>\n",
       "    <tr>\n",
       "      <th>Joint</th>\n",
       "      <td>Not Hispanic or Latino</td>\n",
       "      <td>1</td>\n",
       "      <td>65-74</td>\n",
       "      <td>165000.000</td>\n",
       "      <td>71.000</td>\n",
       "      <td>7</td>\n",
       "    </tr>\n",
       "    <tr>\n",
       "      <th>Native Hawaiian or Other Pacific Islander</th>\n",
       "      <td>Not Hispanic or Latino</td>\n",
       "      <td>1</td>\n",
       "      <td>25-34</td>\n",
       "      <td>305000.000</td>\n",
       "      <td>141.000</td>\n",
       "      <td>3</td>\n",
       "    </tr>\n",
       "    <tr>\n",
       "      <th>Race Not Available</th>\n",
       "      <td>Hispanic or Latino</td>\n",
       "      <td>1</td>\n",
       "      <td>55-64</td>\n",
       "      <td>455000.000</td>\n",
       "      <td>170.000</td>\n",
       "      <td>5</td>\n",
       "    </tr>\n",
       "    <tr>\n",
       "      <th>White</th>\n",
       "      <td>Not Hispanic or Latino</td>\n",
       "      <td>1</td>\n",
       "      <td>55-64</td>\n",
       "      <td>1415000.000</td>\n",
       "      <td>1110.000</td>\n",
       "      <td>8</td>\n",
       "    </tr>\n",
       "    <tr>\n",
       "      <th rowspan=\"9\" valign=\"top\">Male</th>\n",
       "      <th>2 or more minority races</th>\n",
       "      <td>Not Hispanic or Latino</td>\n",
       "      <td>1</td>\n",
       "      <td>65-74</td>\n",
       "      <td>165000.000</td>\n",
       "      <td>64.000</td>\n",
       "      <td>5</td>\n",
       "    </tr>\n",
       "    <tr>\n",
       "      <th>American Indian or Alaska Native</th>\n",
       "      <td>Hispanic or Latino</td>\n",
       "      <td>1</td>\n",
       "      <td>55-64</td>\n",
       "      <td>335000.000</td>\n",
       "      <td>150.000</td>\n",
       "      <td>5</td>\n",
       "    </tr>\n",
       "    <tr>\n",
       "      <th>Asian</th>\n",
       "      <td>Not Hispanic or Latino</td>\n",
       "      <td>1</td>\n",
       "      <td>35-44</td>\n",
       "      <td>275000.000</td>\n",
       "      <td>108.000</td>\n",
       "      <td>8</td>\n",
       "    </tr>\n",
       "    <tr>\n",
       "      <th>Black or African American</th>\n",
       "      <td>Not Hispanic or Latino</td>\n",
       "      <td>1</td>\n",
       "      <td>35-44</td>\n",
       "      <td>205000.000</td>\n",
       "      <td>67.000</td>\n",
       "      <td>4</td>\n",
       "    </tr>\n",
       "    <tr>\n",
       "      <th>Free Form Text Only</th>\n",
       "      <td>Not Hispanic or Latino</td>\n",
       "      <td>1</td>\n",
       "      <td>35-44</td>\n",
       "      <td>605000.000</td>\n",
       "      <td>154.000</td>\n",
       "      <td>1</td>\n",
       "    </tr>\n",
       "    <tr>\n",
       "      <th>Joint</th>\n",
       "      <td>Not Hispanic or Latino</td>\n",
       "      <td>1</td>\n",
       "      <td>25-34</td>\n",
       "      <td>835000.000</td>\n",
       "      <td>260.000</td>\n",
       "      <td>1</td>\n",
       "    </tr>\n",
       "    <tr>\n",
       "      <th>Native Hawaiian or Other Pacific Islander</th>\n",
       "      <td>Ethnicity Not Available</td>\n",
       "      <td>2</td>\n",
       "      <td>55-64</td>\n",
       "      <td>235000.000</td>\n",
       "      <td>0.000</td>\n",
       "      <td>7</td>\n",
       "    </tr>\n",
       "    <tr>\n",
       "      <th>Race Not Available</th>\n",
       "      <td>Hispanic or Latino</td>\n",
       "      <td>1</td>\n",
       "      <td>25-34</td>\n",
       "      <td>985000.000</td>\n",
       "      <td>216.000</td>\n",
       "      <td>8</td>\n",
       "    </tr>\n",
       "    <tr>\n",
       "      <th>White</th>\n",
       "      <td>Not Hispanic or Latino</td>\n",
       "      <td>1</td>\n",
       "      <td>35-44</td>\n",
       "      <td>465000.000</td>\n",
       "      <td>243.000</td>\n",
       "      <td>8</td>\n",
       "    </tr>\n",
       "    <tr>\n",
       "      <th rowspan=\"9\" valign=\"top\">Sex Not Available</th>\n",
       "      <th>2 or more minority races</th>\n",
       "      <td>Ethnicity Not Available</td>\n",
       "      <td>1</td>\n",
       "      <td>35-44</td>\n",
       "      <td>1645000.000</td>\n",
       "      <td>664.000</td>\n",
       "      <td>1</td>\n",
       "    </tr>\n",
       "    <tr>\n",
       "      <th>American Indian or Alaska Native</th>\n",
       "      <td>Ethnicity Not Available</td>\n",
       "      <td>1</td>\n",
       "      <td>65-74</td>\n",
       "      <td>235000.000</td>\n",
       "      <td>39.000</td>\n",
       "      <td>7</td>\n",
       "    </tr>\n",
       "    <tr>\n",
       "      <th>Asian</th>\n",
       "      <td>Not Hispanic or Latino</td>\n",
       "      <td>1</td>\n",
       "      <td>45-54</td>\n",
       "      <td>1045000.000</td>\n",
       "      <td>318.000</td>\n",
       "      <td>7</td>\n",
       "    </tr>\n",
       "    <tr>\n",
       "      <th>Black or African American</th>\n",
       "      <td>Ethnicity Not Available</td>\n",
       "      <td>1</td>\n",
       "      <td>45-54</td>\n",
       "      <td>15000.000</td>\n",
       "      <td>54.000</td>\n",
       "      <td>1</td>\n",
       "    </tr>\n",
       "    <tr>\n",
       "      <th>Free Form Text Only</th>\n",
       "      <td>Hispanic or Latino</td>\n",
       "      <td>1</td>\n",
       "      <td>35-44</td>\n",
       "      <td>335000.000</td>\n",
       "      <td>78.000</td>\n",
       "      <td>3</td>\n",
       "    </tr>\n",
       "    <tr>\n",
       "      <th>Joint</th>\n",
       "      <td>Ethnicity Not Available</td>\n",
       "      <td>1</td>\n",
       "      <td>45-54</td>\n",
       "      <td>205000.000</td>\n",
       "      <td>150.000</td>\n",
       "      <td>3</td>\n",
       "    </tr>\n",
       "    <tr>\n",
       "      <th>Native Hawaiian or Other Pacific Islander</th>\n",
       "      <td>Ethnicity Not Available</td>\n",
       "      <td>1</td>\n",
       "      <td>45-54</td>\n",
       "      <td>835000.000</td>\n",
       "      <td>315.000</td>\n",
       "      <td>1</td>\n",
       "    </tr>\n",
       "    <tr>\n",
       "      <th>Race Not Available</th>\n",
       "      <td>Ethnicity Not Available</td>\n",
       "      <td>1</td>\n",
       "      <td>25-34</td>\n",
       "      <td>1275000.000</td>\n",
       "      <td>395.000</td>\n",
       "      <td>8</td>\n",
       "    </tr>\n",
       "    <tr>\n",
       "      <th>White</th>\n",
       "      <td>Not Hispanic or Latino</td>\n",
       "      <td>1</td>\n",
       "      <td>&gt;74</td>\n",
       "      <td>665000.000</td>\n",
       "      <td>116.000</td>\n",
       "      <td>3</td>\n",
       "    </tr>\n",
       "  </tbody>\n",
       "</table>\n",
       "</div>"
      ],
      "text/plain": [
       "                                                                   derived_ethnicity  \\\n",
       "derived_sex       derived_race                                                         \n",
       "Female            2 or more minority races                    Not Hispanic or Latino   \n",
       "                  American Indian or Alaska Native                Hispanic or Latino   \n",
       "                  Asian                                       Not Hispanic or Latino   \n",
       "                  Black or African American                   Not Hispanic or Latino   \n",
       "                  Free Form Text Only                             Hispanic or Latino   \n",
       "                  Joint                                       Not Hispanic or Latino   \n",
       "                  Native Hawaiian or Other Pacific Islander   Not Hispanic or Latino   \n",
       "                  Race Not Available                         Ethnicity Not Available   \n",
       "                  White                                       Not Hispanic or Latino   \n",
       "Joint             2 or more minority races                    Not Hispanic or Latino   \n",
       "                  American Indian or Alaska Native            Not Hispanic or Latino   \n",
       "                  Asian                                       Not Hispanic or Latino   \n",
       "                  Black or African American                   Not Hispanic or Latino   \n",
       "                  Free Form Text Only                         Not Hispanic or Latino   \n",
       "                  Joint                                       Not Hispanic or Latino   \n",
       "                  Native Hawaiian or Other Pacific Islander   Not Hispanic or Latino   \n",
       "                  Race Not Available                              Hispanic or Latino   \n",
       "                  White                                       Not Hispanic or Latino   \n",
       "Male              2 or more minority races                    Not Hispanic or Latino   \n",
       "                  American Indian or Alaska Native                Hispanic or Latino   \n",
       "                  Asian                                       Not Hispanic or Latino   \n",
       "                  Black or African American                   Not Hispanic or Latino   \n",
       "                  Free Form Text Only                         Not Hispanic or Latino   \n",
       "                  Joint                                       Not Hispanic or Latino   \n",
       "                  Native Hawaiian or Other Pacific Islander  Ethnicity Not Available   \n",
       "                  Race Not Available                              Hispanic or Latino   \n",
       "                  White                                       Not Hispanic or Latino   \n",
       "Sex Not Available 2 or more minority races                   Ethnicity Not Available   \n",
       "                  American Indian or Alaska Native           Ethnicity Not Available   \n",
       "                  Asian                                       Not Hispanic or Latino   \n",
       "                  Black or African American                  Ethnicity Not Available   \n",
       "                  Free Form Text Only                             Hispanic or Latino   \n",
       "                  Joint                                      Ethnicity Not Available   \n",
       "                  Native Hawaiian or Other Pacific Islander  Ethnicity Not Available   \n",
       "                  Race Not Available                         Ethnicity Not Available   \n",
       "                  White                                       Not Hispanic or Latino   \n",
       "\n",
       "                                                             loan_type  \\\n",
       "derived_sex       derived_race                                           \n",
       "Female            2 or more minority races                           1   \n",
       "                  American Indian or Alaska Native                   1   \n",
       "                  Asian                                              1   \n",
       "                  Black or African American                          1   \n",
       "                  Free Form Text Only                                1   \n",
       "                  Joint                                              1   \n",
       "                  Native Hawaiian or Other Pacific Islander          1   \n",
       "                  Race Not Available                                 1   \n",
       "                  White                                              1   \n",
       "Joint             2 or more minority races                           1   \n",
       "                  American Indian or Alaska Native                   1   \n",
       "                  Asian                                              1   \n",
       "                  Black or African American                          1   \n",
       "                  Free Form Text Only                                1   \n",
       "                  Joint                                              1   \n",
       "                  Native Hawaiian or Other Pacific Islander          1   \n",
       "                  Race Not Available                                 1   \n",
       "                  White                                              1   \n",
       "Male              2 or more minority races                           1   \n",
       "                  American Indian or Alaska Native                   1   \n",
       "                  Asian                                              1   \n",
       "                  Black or African American                          1   \n",
       "                  Free Form Text Only                                1   \n",
       "                  Joint                                              1   \n",
       "                  Native Hawaiian or Other Pacific Islander          2   \n",
       "                  Race Not Available                                 1   \n",
       "                  White                                              1   \n",
       "Sex Not Available 2 or more minority races                           1   \n",
       "                  American Indian or Alaska Native                   1   \n",
       "                  Asian                                              1   \n",
       "                  Black or African American                          1   \n",
       "                  Free Form Text Only                                1   \n",
       "                  Joint                                              1   \n",
       "                  Native Hawaiian or Other Pacific Islander          1   \n",
       "                  Race Not Available                                 1   \n",
       "                  White                                              1   \n",
       "\n",
       "                                                            applicant_age  \\\n",
       "derived_sex       derived_race                                              \n",
       "Female            2 or more minority races                          35-44   \n",
       "                  American Indian or Alaska Native                  45-54   \n",
       "                  Asian                                             25-34   \n",
       "                  Black or African American                         45-54   \n",
       "                  Free Form Text Only                               35-44   \n",
       "                  Joint                                             25-34   \n",
       "                  Native Hawaiian or Other Pacific Islander         35-44   \n",
       "                  Race Not Available                                25-34   \n",
       "                  White                                             55-64   \n",
       "Joint             2 or more minority races                          35-44   \n",
       "                  American Indian or Alaska Native                  45-54   \n",
       "                  Asian                                             35-44   \n",
       "                  Black or African American                         45-54   \n",
       "                  Free Form Text Only                               35-44   \n",
       "                  Joint                                             65-74   \n",
       "                  Native Hawaiian or Other Pacific Islander         25-34   \n",
       "                  Race Not Available                                55-64   \n",
       "                  White                                             55-64   \n",
       "Male              2 or more minority races                          65-74   \n",
       "                  American Indian or Alaska Native                  55-64   \n",
       "                  Asian                                             35-44   \n",
       "                  Black or African American                         35-44   \n",
       "                  Free Form Text Only                               35-44   \n",
       "                  Joint                                             25-34   \n",
       "                  Native Hawaiian or Other Pacific Islander         55-64   \n",
       "                  Race Not Available                                25-34   \n",
       "                  White                                             35-44   \n",
       "Sex Not Available 2 or more minority races                          35-44   \n",
       "                  American Indian or Alaska Native                  65-74   \n",
       "                  Asian                                             45-54   \n",
       "                  Black or African American                         45-54   \n",
       "                  Free Form Text Only                               35-44   \n",
       "                  Joint                                             45-54   \n",
       "                  Native Hawaiian or Other Pacific Islander         45-54   \n",
       "                  Race Not Available                                25-34   \n",
       "                  White                                               >74   \n",
       "\n",
       "                                                             loan_amount  \\\n",
       "derived_sex       derived_race                                             \n",
       "Female            2 or more minority races                    245000.000   \n",
       "                  American Indian or Alaska Native            165000.000   \n",
       "                  Asian                                       625000.000   \n",
       "                  Black or African American                   335000.000   \n",
       "                  Free Form Text Only                          75000.000   \n",
       "                  Joint                                       555000.000   \n",
       "                  Native Hawaiian or Other Pacific Islander   275000.000   \n",
       "                  Race Not Available                          285000.000   \n",
       "                  White                                       105000.000   \n",
       "Joint             2 or more minority races                    145000.000   \n",
       "                  American Indian or Alaska Native            295000.000   \n",
       "                  Asian                                      1125000.000   \n",
       "                  Black or African American                   285000.000   \n",
       "                  Free Form Text Only                        1075000.000   \n",
       "                  Joint                                       165000.000   \n",
       "                  Native Hawaiian or Other Pacific Islander   305000.000   \n",
       "                  Race Not Available                          455000.000   \n",
       "                  White                                      1415000.000   \n",
       "Male              2 or more minority races                    165000.000   \n",
       "                  American Indian or Alaska Native            335000.000   \n",
       "                  Asian                                       275000.000   \n",
       "                  Black or African American                   205000.000   \n",
       "                  Free Form Text Only                         605000.000   \n",
       "                  Joint                                       835000.000   \n",
       "                  Native Hawaiian or Other Pacific Islander   235000.000   \n",
       "                  Race Not Available                          985000.000   \n",
       "                  White                                       465000.000   \n",
       "Sex Not Available 2 or more minority races                   1645000.000   \n",
       "                  American Indian or Alaska Native            235000.000   \n",
       "                  Asian                                      1045000.000   \n",
       "                  Black or African American                    15000.000   \n",
       "                  Free Form Text Only                         335000.000   \n",
       "                  Joint                                       205000.000   \n",
       "                  Native Hawaiian or Other Pacific Islander   835000.000   \n",
       "                  Race Not Available                         1275000.000   \n",
       "                  White                                       665000.000   \n",
       "\n",
       "                                                              income  \\\n",
       "derived_sex       derived_race                                         \n",
       "Female            2 or more minority races                   100.000   \n",
       "                  American Indian or Alaska Native            85.000   \n",
       "                  Asian                                      291.000   \n",
       "                  Black or African American                  105.000   \n",
       "                  Free Form Text Only                         48.000   \n",
       "                  Joint                                      208.000   \n",
       "                  Native Hawaiian or Other Pacific Islander   62.000   \n",
       "                  Race Not Available                          95.000   \n",
       "                  White                                       43.000   \n",
       "Joint             2 or more minority races                    71.000   \n",
       "                  American Indian or Alaska Native            74.000   \n",
       "                  Asian                                      547.000   \n",
       "                  Black or African American                   96.000   \n",
       "                  Free Form Text Only                        299.000   \n",
       "                  Joint                                       71.000   \n",
       "                  Native Hawaiian or Other Pacific Islander  141.000   \n",
       "                  Race Not Available                         170.000   \n",
       "                  White                                     1110.000   \n",
       "Male              2 or more minority races                    64.000   \n",
       "                  American Indian or Alaska Native           150.000   \n",
       "                  Asian                                      108.000   \n",
       "                  Black or African American                   67.000   \n",
       "                  Free Form Text Only                        154.000   \n",
       "                  Joint                                      260.000   \n",
       "                  Native Hawaiian or Other Pacific Islander    0.000   \n",
       "                  Race Not Available                         216.000   \n",
       "                  White                                      243.000   \n",
       "Sex Not Available 2 or more minority races                   664.000   \n",
       "                  American Indian or Alaska Native            39.000   \n",
       "                  Asian                                      318.000   \n",
       "                  Black or African American                   54.000   \n",
       "                  Free Form Text Only                         78.000   \n",
       "                  Joint                                      150.000   \n",
       "                  Native Hawaiian or Other Pacific Islander  315.000   \n",
       "                  Race Not Available                         395.000   \n",
       "                  White                                      116.000   \n",
       "\n",
       "                                                             action_taken  \n",
       "derived_sex       derived_race                                             \n",
       "Female            2 or more minority races                              4  \n",
       "                  American Indian or Alaska Native                      5  \n",
       "                  Asian                                                 8  \n",
       "                  Black or African American                             2  \n",
       "                  Free Form Text Only                                   1  \n",
       "                  Joint                                                 8  \n",
       "                  Native Hawaiian or Other Pacific Islander             1  \n",
       "                  Race Not Available                                    4  \n",
       "                  White                                                 1  \n",
       "Joint             2 or more minority races                              4  \n",
       "                  American Indian or Alaska Native                      1  \n",
       "                  Asian                                                 8  \n",
       "                  Black or African American                             7  \n",
       "                  Free Form Text Only                                   1  \n",
       "                  Joint                                                 7  \n",
       "                  Native Hawaiian or Other Pacific Islander             3  \n",
       "                  Race Not Available                                    5  \n",
       "                  White                                                 8  \n",
       "Male              2 or more minority races                              5  \n",
       "                  American Indian or Alaska Native                      5  \n",
       "                  Asian                                                 8  \n",
       "                  Black or African American                             4  \n",
       "                  Free Form Text Only                                   1  \n",
       "                  Joint                                                 1  \n",
       "                  Native Hawaiian or Other Pacific Islander             7  \n",
       "                  Race Not Available                                    8  \n",
       "                  White                                                 8  \n",
       "Sex Not Available 2 or more minority races                              1  \n",
       "                  American Indian or Alaska Native                      7  \n",
       "                  Asian                                                 7  \n",
       "                  Black or African American                             1  \n",
       "                  Free Form Text Only                                   3  \n",
       "                  Joint                                                 3  \n",
       "                  Native Hawaiian or Other Pacific Islander             1  \n",
       "                  Race Not Available                                    8  \n",
       "                  White                                                 3  "
      ]
     },
     "execution_count": 11,
     "metadata": {},
     "output_type": "execute_result"
    }
   ],
   "source": [
    "groups.first()"
   ]
  },
  {
   "cell_type": "code",
   "execution_count": 12,
   "id": "fae4cd10",
   "metadata": {},
   "outputs": [
    {
     "data": {
      "text/html": [
       "<div>\n",
       "<style scoped>\n",
       "    .dataframe tbody tr th:only-of-type {\n",
       "        vertical-align: middle;\n",
       "    }\n",
       "\n",
       "    .dataframe tbody tr th {\n",
       "        vertical-align: top;\n",
       "    }\n",
       "\n",
       "    .dataframe thead th {\n",
       "        text-align: right;\n",
       "    }\n",
       "</style>\n",
       "<table border=\"1\" class=\"dataframe\">\n",
       "  <thead>\n",
       "    <tr style=\"text-align: right;\">\n",
       "      <th></th>\n",
       "      <th>derived_ethnicity</th>\n",
       "      <th>derived_race</th>\n",
       "      <th>derived_sex</th>\n",
       "      <th>loan_type</th>\n",
       "      <th>applicant_age</th>\n",
       "      <th>loan_amount</th>\n",
       "      <th>income</th>\n",
       "      <th>action_taken</th>\n",
       "    </tr>\n",
       "  </thead>\n",
       "  <tbody>\n",
       "    <tr>\n",
       "      <th>0</th>\n",
       "      <td>Hispanic or Latino</td>\n",
       "      <td>Race Not Available</td>\n",
       "      <td>Male</td>\n",
       "      <td>1</td>\n",
       "      <td>25-34</td>\n",
       "      <td>985000.000</td>\n",
       "      <td>216.000</td>\n",
       "      <td>8</td>\n",
       "    </tr>\n",
       "    <tr>\n",
       "      <th>1</th>\n",
       "      <td>Not Hispanic or Latino</td>\n",
       "      <td>White</td>\n",
       "      <td>Male</td>\n",
       "      <td>1</td>\n",
       "      <td>35-44</td>\n",
       "      <td>465000.000</td>\n",
       "      <td>243.000</td>\n",
       "      <td>8</td>\n",
       "    </tr>\n",
       "    <tr>\n",
       "      <th>2</th>\n",
       "      <td>Not Hispanic or Latino</td>\n",
       "      <td>Joint</td>\n",
       "      <td>Joint</td>\n",
       "      <td>1</td>\n",
       "      <td>65-74</td>\n",
       "      <td>165000.000</td>\n",
       "      <td>71.000</td>\n",
       "      <td>7</td>\n",
       "    </tr>\n",
       "    <tr>\n",
       "      <th>3</th>\n",
       "      <td>Not Hispanic or Latino</td>\n",
       "      <td>White</td>\n",
       "      <td>Joint</td>\n",
       "      <td>1</td>\n",
       "      <td>55-64</td>\n",
       "      <td>1415000.000</td>\n",
       "      <td>1110.000</td>\n",
       "      <td>8</td>\n",
       "    </tr>\n",
       "    <tr>\n",
       "      <th>4</th>\n",
       "      <td>Not Hispanic or Latino</td>\n",
       "      <td>White</td>\n",
       "      <td>Joint</td>\n",
       "      <td>1</td>\n",
       "      <td>25-34</td>\n",
       "      <td>905000.000</td>\n",
       "      <td>277.000</td>\n",
       "      <td>7</td>\n",
       "    </tr>\n",
       "    <tr>\n",
       "      <th>...</th>\n",
       "      <td>...</td>\n",
       "      <td>...</td>\n",
       "      <td>...</td>\n",
       "      <td>...</td>\n",
       "      <td>...</td>\n",
       "      <td>...</td>\n",
       "      <td>...</td>\n",
       "      <td>...</td>\n",
       "    </tr>\n",
       "    <tr>\n",
       "      <th>2110132</th>\n",
       "      <td>Not Hispanic or Latino</td>\n",
       "      <td>White</td>\n",
       "      <td>Male</td>\n",
       "      <td>1</td>\n",
       "      <td>35-44</td>\n",
       "      <td>225000.000</td>\n",
       "      <td>140.000</td>\n",
       "      <td>1</td>\n",
       "    </tr>\n",
       "    <tr>\n",
       "      <th>2110133</th>\n",
       "      <td>Not Hispanic or Latino</td>\n",
       "      <td>Black or African American</td>\n",
       "      <td>Female</td>\n",
       "      <td>3</td>\n",
       "      <td>65-74</td>\n",
       "      <td>285000.000</td>\n",
       "      <td>50.000</td>\n",
       "      <td>4</td>\n",
       "    </tr>\n",
       "    <tr>\n",
       "      <th>2110134</th>\n",
       "      <td>Ethnicity Not Available</td>\n",
       "      <td>Race Not Available</td>\n",
       "      <td>Sex Not Available</td>\n",
       "      <td>2</td>\n",
       "      <td>25-34</td>\n",
       "      <td>215000.000</td>\n",
       "      <td>61.000</td>\n",
       "      <td>4</td>\n",
       "    </tr>\n",
       "    <tr>\n",
       "      <th>2110135</th>\n",
       "      <td>Not Hispanic or Latino</td>\n",
       "      <td>White</td>\n",
       "      <td>Joint</td>\n",
       "      <td>1</td>\n",
       "      <td>55-64</td>\n",
       "      <td>485000.000</td>\n",
       "      <td>222.000</td>\n",
       "      <td>1</td>\n",
       "    </tr>\n",
       "    <tr>\n",
       "      <th>2110136</th>\n",
       "      <td>Not Hispanic or Latino</td>\n",
       "      <td>White</td>\n",
       "      <td>Joint</td>\n",
       "      <td>1</td>\n",
       "      <td>35-44</td>\n",
       "      <td>435000.000</td>\n",
       "      <td>242.000</td>\n",
       "      <td>1</td>\n",
       "    </tr>\n",
       "  </tbody>\n",
       "</table>\n",
       "<p>2110137 rows × 8 columns</p>\n",
       "</div>"
      ],
      "text/plain": [
       "               derived_ethnicity               derived_race  \\\n",
       "0             Hispanic or Latino         Race Not Available   \n",
       "1         Not Hispanic or Latino                      White   \n",
       "2         Not Hispanic or Latino                      Joint   \n",
       "3         Not Hispanic or Latino                      White   \n",
       "4         Not Hispanic or Latino                      White   \n",
       "...                          ...                        ...   \n",
       "2110132   Not Hispanic or Latino                      White   \n",
       "2110133   Not Hispanic or Latino  Black or African American   \n",
       "2110134  Ethnicity Not Available         Race Not Available   \n",
       "2110135   Not Hispanic or Latino                      White   \n",
       "2110136   Not Hispanic or Latino                      White   \n",
       "\n",
       "               derived_sex  loan_type applicant_age  loan_amount   income  \\\n",
       "0                     Male          1         25-34   985000.000  216.000   \n",
       "1                     Male          1         35-44   465000.000  243.000   \n",
       "2                    Joint          1         65-74   165000.000   71.000   \n",
       "3                    Joint          1         55-64  1415000.000 1110.000   \n",
       "4                    Joint          1         25-34   905000.000  277.000   \n",
       "...                    ...        ...           ...          ...      ...   \n",
       "2110132               Male          1         35-44   225000.000  140.000   \n",
       "2110133             Female          3         65-74   285000.000   50.000   \n",
       "2110134  Sex Not Available          2         25-34   215000.000   61.000   \n",
       "2110135              Joint          1         55-64   485000.000  222.000   \n",
       "2110136              Joint          1         35-44   435000.000  242.000   \n",
       "\n",
       "         action_taken  \n",
       "0                   8  \n",
       "1                   8  \n",
       "2                   7  \n",
       "3                   8  \n",
       "4                   7  \n",
       "...               ...  \n",
       "2110132             1  \n",
       "2110133             4  \n",
       "2110134             4  \n",
       "2110135             1  \n",
       "2110136             1  \n",
       "\n",
       "[2110137 rows x 8 columns]"
      ]
     },
     "execution_count": 12,
     "metadata": {},
     "output_type": "execute_result"
    }
   ],
   "source": [
    "data_refined"
   ]
  },
  {
   "cell_type": "code",
   "execution_count": 13,
   "id": "24178c33",
   "metadata": {},
   "outputs": [
    {
     "data": {
      "text/html": [
       "<div>\n",
       "<style scoped>\n",
       "    .dataframe tbody tr th:only-of-type {\n",
       "        vertical-align: middle;\n",
       "    }\n",
       "\n",
       "    .dataframe tbody tr th {\n",
       "        vertical-align: top;\n",
       "    }\n",
       "\n",
       "    .dataframe thead th {\n",
       "        text-align: right;\n",
       "    }\n",
       "</style>\n",
       "<table border=\"1\" class=\"dataframe\">\n",
       "  <thead>\n",
       "    <tr style=\"text-align: right;\">\n",
       "      <th></th>\n",
       "      <th>derived_ethnicity</th>\n",
       "      <th>derived_race</th>\n",
       "      <th>derived_sex</th>\n",
       "      <th>loan_type</th>\n",
       "      <th>applicant_age</th>\n",
       "      <th>loan_amount</th>\n",
       "      <th>income</th>\n",
       "      <th>action_taken</th>\n",
       "    </tr>\n",
       "  </thead>\n",
       "  <tbody>\n",
       "    <tr>\n",
       "      <th>0</th>\n",
       "      <td>Hispanic or Latino</td>\n",
       "      <td>Race Not Available</td>\n",
       "      <td>Male</td>\n",
       "      <td>1</td>\n",
       "      <td>25-34</td>\n",
       "      <td>985000.000</td>\n",
       "      <td>216.000</td>\n",
       "      <td>8</td>\n",
       "    </tr>\n",
       "    <tr>\n",
       "      <th>1</th>\n",
       "      <td>Not Hispanic or Latino</td>\n",
       "      <td>White</td>\n",
       "      <td>Male</td>\n",
       "      <td>1</td>\n",
       "      <td>35-44</td>\n",
       "      <td>465000.000</td>\n",
       "      <td>243.000</td>\n",
       "      <td>8</td>\n",
       "    </tr>\n",
       "    <tr>\n",
       "      <th>2</th>\n",
       "      <td>Not Hispanic or Latino</td>\n",
       "      <td>Joint</td>\n",
       "      <td>Joint</td>\n",
       "      <td>1</td>\n",
       "      <td>65-74</td>\n",
       "      <td>165000.000</td>\n",
       "      <td>71.000</td>\n",
       "      <td>7</td>\n",
       "    </tr>\n",
       "    <tr>\n",
       "      <th>3</th>\n",
       "      <td>Not Hispanic or Latino</td>\n",
       "      <td>White</td>\n",
       "      <td>Joint</td>\n",
       "      <td>1</td>\n",
       "      <td>55-64</td>\n",
       "      <td>1415000.000</td>\n",
       "      <td>1110.000</td>\n",
       "      <td>8</td>\n",
       "    </tr>\n",
       "    <tr>\n",
       "      <th>4</th>\n",
       "      <td>Not Hispanic or Latino</td>\n",
       "      <td>White</td>\n",
       "      <td>Joint</td>\n",
       "      <td>1</td>\n",
       "      <td>25-34</td>\n",
       "      <td>905000.000</td>\n",
       "      <td>277.000</td>\n",
       "      <td>7</td>\n",
       "    </tr>\n",
       "    <tr>\n",
       "      <th>5</th>\n",
       "      <td>Not Hispanic or Latino</td>\n",
       "      <td>White</td>\n",
       "      <td>Male</td>\n",
       "      <td>1</td>\n",
       "      <td>35-44</td>\n",
       "      <td>205000.000</td>\n",
       "      <td>83.000</td>\n",
       "      <td>8</td>\n",
       "    </tr>\n",
       "    <tr>\n",
       "      <th>6</th>\n",
       "      <td>Not Hispanic or Latino</td>\n",
       "      <td>White</td>\n",
       "      <td>Joint</td>\n",
       "      <td>1</td>\n",
       "      <td>35-44</td>\n",
       "      <td>525000.000</td>\n",
       "      <td>175.000</td>\n",
       "      <td>7</td>\n",
       "    </tr>\n",
       "    <tr>\n",
       "      <th>7</th>\n",
       "      <td>Not Hispanic or Latino</td>\n",
       "      <td>Asian</td>\n",
       "      <td>Female</td>\n",
       "      <td>1</td>\n",
       "      <td>25-34</td>\n",
       "      <td>625000.000</td>\n",
       "      <td>291.000</td>\n",
       "      <td>8</td>\n",
       "    </tr>\n",
       "    <tr>\n",
       "      <th>8</th>\n",
       "      <td>Not Hispanic or Latino</td>\n",
       "      <td>White</td>\n",
       "      <td>Joint</td>\n",
       "      <td>1</td>\n",
       "      <td>45-54</td>\n",
       "      <td>3235000.000</td>\n",
       "      <td>3140.000</td>\n",
       "      <td>8</td>\n",
       "    </tr>\n",
       "  </tbody>\n",
       "</table>\n",
       "</div>"
      ],
      "text/plain": [
       "        derived_ethnicity        derived_race derived_sex  loan_type  \\\n",
       "0      Hispanic or Latino  Race Not Available        Male          1   \n",
       "1  Not Hispanic or Latino               White        Male          1   \n",
       "2  Not Hispanic or Latino               Joint       Joint          1   \n",
       "3  Not Hispanic or Latino               White       Joint          1   \n",
       "4  Not Hispanic or Latino               White       Joint          1   \n",
       "5  Not Hispanic or Latino               White        Male          1   \n",
       "6  Not Hispanic or Latino               White       Joint          1   \n",
       "7  Not Hispanic or Latino               Asian      Female          1   \n",
       "8  Not Hispanic or Latino               White       Joint          1   \n",
       "\n",
       "  applicant_age  loan_amount   income  action_taken  \n",
       "0         25-34   985000.000  216.000             8  \n",
       "1         35-44   465000.000  243.000             8  \n",
       "2         65-74   165000.000   71.000             7  \n",
       "3         55-64  1415000.000 1110.000             8  \n",
       "4         25-34   905000.000  277.000             7  \n",
       "5         35-44   205000.000   83.000             8  \n",
       "6         35-44   525000.000  175.000             7  \n",
       "7         25-34   625000.000  291.000             8  \n",
       "8         45-54  3235000.000 3140.000             8  "
      ]
     },
     "execution_count": 13,
     "metadata": {},
     "output_type": "execute_result"
    }
   ],
   "source": [
    "data_refined.head(9)"
   ]
  },
  {
   "cell_type": "code",
   "execution_count": 14,
   "id": "dce3f34a",
   "metadata": {},
   "outputs": [
    {
     "data": {
      "text/plain": [
       "1    743230\n",
       "6    608412\n",
       "3    447656\n",
       "4    213050\n",
       "5     65777\n",
       "2     22509\n",
       "8      5800\n",
       "7      3703\n",
       "Name: action_taken, dtype: int64"
      ]
     },
     "execution_count": 14,
     "metadata": {},
     "output_type": "execute_result"
    }
   ],
   "source": [
    "data_refined['action_taken'].value_counts()"
   ]
  },
  {
   "cell_type": "code",
   "execution_count": 15,
   "id": "76ca9691",
   "metadata": {},
   "outputs": [],
   "source": [
    "data_refined['action_taken'].replace([2,6],1, inplace = True)\n"
   ]
  },
  {
   "cell_type": "code",
   "execution_count": 16,
   "id": "e988b16e",
   "metadata": {},
   "outputs": [
    {
     "data": {
      "text/plain": [
       "1    1374151\n",
       "0     447656\n",
       "4     213050\n",
       "5      65777\n",
       "8       5800\n",
       "7       3703\n",
       "Name: action_taken, dtype: int64"
      ]
     },
     "execution_count": 16,
     "metadata": {},
     "output_type": "execute_result"
    }
   ],
   "source": [
    "data_refined['action_taken'].replace(3,0, inplace = True)\n",
    "data_refined['action_taken'].value_counts()"
   ]
  },
  {
   "cell_type": "code",
   "execution_count": 17,
   "id": "f1ff3b85",
   "metadata": {},
   "outputs": [],
   "source": [
    "action_vals = [0,1]\n",
    "data_refined = data_refined[data_refined.action_taken.isin(action_vals)]"
   ]
  },
  {
   "cell_type": "code",
   "execution_count": 18,
   "id": "c57e589d",
   "metadata": {},
   "outputs": [
    {
     "data": {
      "text/plain": [
       "1    1374151\n",
       "0     447656\n",
       "Name: action_taken, dtype: int64"
      ]
     },
     "execution_count": 18,
     "metadata": {},
     "output_type": "execute_result"
    }
   ],
   "source": [
    "data_refined['action_taken'].value_counts()"
   ]
  },
  {
   "cell_type": "code",
   "execution_count": 19,
   "id": "56d37c62",
   "metadata": {},
   "outputs": [
    {
     "data": {
      "text/plain": [
       "(1821807, 8)"
      ]
     },
     "execution_count": 19,
     "metadata": {},
     "output_type": "execute_result"
    }
   ],
   "source": [
    "data_refined.shape"
   ]
  },
  {
   "cell_type": "code",
   "execution_count": 20,
   "id": "466c61bd",
   "metadata": {},
   "outputs": [
    {
     "data": {
      "text/html": [
       "<div>\n",
       "<style scoped>\n",
       "    .dataframe tbody tr th:only-of-type {\n",
       "        vertical-align: middle;\n",
       "    }\n",
       "\n",
       "    .dataframe tbody tr th {\n",
       "        vertical-align: top;\n",
       "    }\n",
       "\n",
       "    .dataframe thead th {\n",
       "        text-align: right;\n",
       "    }\n",
       "</style>\n",
       "<table border=\"1\" class=\"dataframe\">\n",
       "  <thead>\n",
       "    <tr style=\"text-align: right;\">\n",
       "      <th></th>\n",
       "      <th>derived_ethnicity</th>\n",
       "      <th>derived_race</th>\n",
       "      <th>derived_sex</th>\n",
       "      <th>loan_type</th>\n",
       "      <th>applicant_age</th>\n",
       "      <th>loan_amount</th>\n",
       "      <th>income</th>\n",
       "      <th>action_taken</th>\n",
       "    </tr>\n",
       "  </thead>\n",
       "  <tbody>\n",
       "    <tr>\n",
       "      <th>25</th>\n",
       "      <td>Ethnicity Not Available</td>\n",
       "      <td>Race Not Available</td>\n",
       "      <td>Sex Not Available</td>\n",
       "      <td>1</td>\n",
       "      <td>25-34</td>\n",
       "      <td>305000.000</td>\n",
       "      <td>75.000</td>\n",
       "      <td>1</td>\n",
       "    </tr>\n",
       "    <tr>\n",
       "      <th>33</th>\n",
       "      <td>Ethnicity Not Available</td>\n",
       "      <td>Race Not Available</td>\n",
       "      <td>Sex Not Available</td>\n",
       "      <td>1</td>\n",
       "      <td>35-44</td>\n",
       "      <td>525000.000</td>\n",
       "      <td>217.000</td>\n",
       "      <td>1</td>\n",
       "    </tr>\n",
       "    <tr>\n",
       "      <th>36</th>\n",
       "      <td>Not Hispanic or Latino</td>\n",
       "      <td>Asian</td>\n",
       "      <td>Male</td>\n",
       "      <td>1</td>\n",
       "      <td>35-44</td>\n",
       "      <td>305000.000</td>\n",
       "      <td>50.000</td>\n",
       "      <td>0</td>\n",
       "    </tr>\n",
       "    <tr>\n",
       "      <th>38</th>\n",
       "      <td>Not Hispanic or Latino</td>\n",
       "      <td>White</td>\n",
       "      <td>Male</td>\n",
       "      <td>1</td>\n",
       "      <td>55-64</td>\n",
       "      <td>1005000.000</td>\n",
       "      <td>866.000</td>\n",
       "      <td>1</td>\n",
       "    </tr>\n",
       "    <tr>\n",
       "      <th>40</th>\n",
       "      <td>Ethnicity Not Available</td>\n",
       "      <td>Race Not Available</td>\n",
       "      <td>Sex Not Available</td>\n",
       "      <td>1</td>\n",
       "      <td>25-34</td>\n",
       "      <td>125000.000</td>\n",
       "      <td>45.000</td>\n",
       "      <td>1</td>\n",
       "    </tr>\n",
       "  </tbody>\n",
       "</table>\n",
       "</div>"
      ],
      "text/plain": [
       "          derived_ethnicity        derived_race        derived_sex  loan_type  \\\n",
       "25  Ethnicity Not Available  Race Not Available  Sex Not Available          1   \n",
       "33  Ethnicity Not Available  Race Not Available  Sex Not Available          1   \n",
       "36   Not Hispanic or Latino               Asian               Male          1   \n",
       "38   Not Hispanic or Latino               White               Male          1   \n",
       "40  Ethnicity Not Available  Race Not Available  Sex Not Available          1   \n",
       "\n",
       "   applicant_age  loan_amount  income  action_taken  \n",
       "25         25-34   305000.000  75.000             1  \n",
       "33         35-44   525000.000 217.000             1  \n",
       "36         35-44   305000.000  50.000             0  \n",
       "38         55-64  1005000.000 866.000             1  \n",
       "40         25-34   125000.000  45.000             1  "
      ]
     },
     "execution_count": 20,
     "metadata": {},
     "output_type": "execute_result"
    }
   ],
   "source": [
    "data_refined.head()"
   ]
  },
  {
   "cell_type": "code",
   "execution_count": 21,
   "id": "89ba703f",
   "metadata": {},
   "outputs": [
    {
     "data": {
      "text/plain": [
       "Joint                694494\n",
       "Male                 566698\n",
       "Female               364384\n",
       "Sex Not Available    196231\n",
       "Name: derived_sex, dtype: int64"
      ]
     },
     "execution_count": 21,
     "metadata": {},
     "output_type": "execute_result"
    }
   ],
   "source": [
    "data_refined['derived_sex'].value_counts()"
   ]
  },
  {
   "cell_type": "code",
   "execution_count": 22,
   "id": "e2952095",
   "metadata": {},
   "outputs": [
    {
     "data": {
      "text/plain": [
       "Not Hispanic or Latino     1291305\n",
       "Ethnicity Not Available     299273\n",
       "Hispanic or Latino          187960\n",
       "Joint                        39670\n",
       "Free Form Text Only           3599\n",
       "Name: derived_ethnicity, dtype: int64"
      ]
     },
     "execution_count": 22,
     "metadata": {},
     "output_type": "execute_result"
    }
   ],
   "source": [
    "data_refined['derived_ethnicity'].value_counts()"
   ]
  },
  {
   "cell_type": "code",
   "execution_count": 23,
   "id": "8625ed5e",
   "metadata": {},
   "outputs": [],
   "source": [
    "data_refined = data_refined[~data_refined.derived_ethnicity.str.contains('Ethnicity Not Available')]\n",
    "data_refined = data_refined[~data_refined.derived_ethnicity.str.contains('Free Form Text Only')]"
   ]
  },
  {
   "cell_type": "code",
   "execution_count": 24,
   "id": "f7ff2c90",
   "metadata": {},
   "outputs": [
    {
     "data": {
      "text/plain": [
       "Not Hispanic or Latino    1291305\n",
       "Hispanic or Latino         187960\n",
       "Joint                       39670\n",
       "Name: derived_ethnicity, dtype: int64"
      ]
     },
     "execution_count": 24,
     "metadata": {},
     "output_type": "execute_result"
    }
   ],
   "source": [
    "data_refined['derived_ethnicity'].value_counts()"
   ]
  },
  {
   "cell_type": "code",
   "execution_count": 25,
   "id": "e6a815a8",
   "metadata": {},
   "outputs": [
    {
     "data": {
      "text/plain": [
       "White                                        1153989\n",
       "Asian                                         162214\n",
       "Black or African American                      90407\n",
       "Joint                                          35931\n",
       "Native Hawaiian or Other Pacific Islander       9034\n",
       "American Indian or Alaska Native                8706\n",
       "2 or more minority races                        2913\n",
       "Name: derived_race, dtype: int64"
      ]
     },
     "execution_count": 25,
     "metadata": {},
     "output_type": "execute_result"
    }
   ],
   "source": [
    "data_refined['derived_race'].value_counts()\n",
    "data_refined = data_refined[~data_refined.derived_race.str.contains('Race Not Available')]\n",
    "data_refined = data_refined[~data_refined.derived_race.str.contains('Free Form Text Only')]\n",
    "data_refined['derived_race'].value_counts()"
   ]
  },
  {
   "cell_type": "code",
   "execution_count": 26,
   "id": "6ec3aea0",
   "metadata": {},
   "outputs": [
    {
     "data": {
      "text/plain": [
       "Joint     632177\n",
       "Male      502302\n",
       "Female    327072\n",
       "Name: derived_sex, dtype: int64"
      ]
     },
     "execution_count": 26,
     "metadata": {},
     "output_type": "execute_result"
    }
   ],
   "source": [
    "data_refined['derived_sex'].value_counts()\n",
    "data_refined = data_refined[~data_refined.derived_sex.str.contains('Sex Not Available')]\n",
    "data_refined['derived_sex'].value_counts()"
   ]
  },
  {
   "cell_type": "code",
   "execution_count": 27,
   "id": "fed6ddc4",
   "metadata": {},
   "outputs": [
    {
     "data": {
      "text/plain": [
       "derived_ethnicity        0\n",
       "derived_race             0\n",
       "derived_sex              0\n",
       "loan_type                0\n",
       "applicant_age            0\n",
       "loan_amount              0\n",
       "income               48922\n",
       "action_taken             0\n",
       "dtype: int64"
      ]
     },
     "execution_count": 27,
     "metadata": {},
     "output_type": "execute_result"
    }
   ],
   "source": [
    "data_refined.isna().sum()"
   ]
  },
  {
   "cell_type": "code",
   "execution_count": 28,
   "id": "c8083b60",
   "metadata": {},
   "outputs": [],
   "source": [
    "data_refined = data_refined.dropna()"
   ]
  },
  {
   "cell_type": "code",
   "execution_count": 29,
   "id": "48e30e66",
   "metadata": {},
   "outputs": [
    {
     "data": {
      "text/plain": [
       "0.0"
      ]
     },
     "execution_count": 29,
     "metadata": {},
     "output_type": "execute_result"
    }
   ],
   "source": [
    "data_refined = data_refined[data_refined.income >= 0]\n",
    "\n",
    "data_refined['income'].min()"
   ]
  },
  {
   "cell_type": "code",
   "execution_count": 30,
   "id": "3a2b3701",
   "metadata": {},
   "outputs": [
    {
     "data": {
      "text/plain": [
       "35-44    338984\n",
       "45-54    326212\n",
       "55-64    266435\n",
       "25-34    245144\n",
       "65-74    155454\n",
       ">74       57093\n",
       "<25       22727\n",
       "8888          2\n",
       "Name: applicant_age, dtype: int64"
      ]
     },
     "execution_count": 30,
     "metadata": {},
     "output_type": "execute_result"
    }
   ],
   "source": [
    "data_refined['applicant_age'].value_counts()"
   ]
  },
  {
   "cell_type": "code",
   "execution_count": 31,
   "id": "aeaf0bf4",
   "metadata": {},
   "outputs": [],
   "source": [
    "data_refined = data_refined[data_refined.applicant_age != '8888']"
   ]
  },
  {
   "cell_type": "code",
   "execution_count": 32,
   "id": "d20c30f2",
   "metadata": {},
   "outputs": [
    {
     "data": {
      "text/plain": [
       "35-44    338984\n",
       "45-54    326212\n",
       "55-64    266435\n",
       "25-34    245144\n",
       "65-74    155454\n",
       ">74       57093\n",
       "<25       22727\n",
       "Name: applicant_age, dtype: int64"
      ]
     },
     "execution_count": 32,
     "metadata": {},
     "output_type": "execute_result"
    }
   ],
   "source": [
    "data_refined['applicant_age'].value_counts()"
   ]
  },
  {
   "cell_type": "code",
   "execution_count": 33,
   "id": "6c410faa",
   "metadata": {},
   "outputs": [
    {
     "data": {
      "text/html": [
       "<div>\n",
       "<style scoped>\n",
       "    .dataframe tbody tr th:only-of-type {\n",
       "        vertical-align: middle;\n",
       "    }\n",
       "\n",
       "    .dataframe tbody tr th {\n",
       "        vertical-align: top;\n",
       "    }\n",
       "\n",
       "    .dataframe thead th {\n",
       "        text-align: right;\n",
       "    }\n",
       "</style>\n",
       "<table border=\"1\" class=\"dataframe\">\n",
       "  <thead>\n",
       "    <tr style=\"text-align: right;\">\n",
       "      <th></th>\n",
       "      <th>loan_type</th>\n",
       "      <th>loan_amount</th>\n",
       "      <th>income</th>\n",
       "      <th>action_taken</th>\n",
       "    </tr>\n",
       "  </thead>\n",
       "  <tbody>\n",
       "    <tr>\n",
       "      <th>count</th>\n",
       "      <td>1412049.000</td>\n",
       "      <td>1412049.000</td>\n",
       "      <td>1412049.000</td>\n",
       "      <td>1412049.000</td>\n",
       "    </tr>\n",
       "    <tr>\n",
       "      <th>mean</th>\n",
       "      <td>1.046</td>\n",
       "      <td>296474.857</td>\n",
       "      <td>150.932</td>\n",
       "      <td>0.749</td>\n",
       "    </tr>\n",
       "    <tr>\n",
       "      <th>std</th>\n",
       "      <td>0.290</td>\n",
       "      <td>347720.337</td>\n",
       "      <td>707.848</td>\n",
       "      <td>0.434</td>\n",
       "    </tr>\n",
       "    <tr>\n",
       "      <th>min</th>\n",
       "      <td>1.000</td>\n",
       "      <td>5000.000</td>\n",
       "      <td>0.000</td>\n",
       "      <td>0.000</td>\n",
       "    </tr>\n",
       "    <tr>\n",
       "      <th>25%</th>\n",
       "      <td>1.000</td>\n",
       "      <td>105000.000</td>\n",
       "      <td>63.000</td>\n",
       "      <td>0.000</td>\n",
       "    </tr>\n",
       "    <tr>\n",
       "      <th>50%</th>\n",
       "      <td>1.000</td>\n",
       "      <td>205000.000</td>\n",
       "      <td>102.000</td>\n",
       "      <td>1.000</td>\n",
       "    </tr>\n",
       "    <tr>\n",
       "      <th>75%</th>\n",
       "      <td>1.000</td>\n",
       "      <td>365000.000</td>\n",
       "      <td>167.000</td>\n",
       "      <td>1.000</td>\n",
       "    </tr>\n",
       "    <tr>\n",
       "      <th>max</th>\n",
       "      <td>4.000</td>\n",
       "      <td>50005000.000</td>\n",
       "      <td>734000.000</td>\n",
       "      <td>1.000</td>\n",
       "    </tr>\n",
       "  </tbody>\n",
       "</table>\n",
       "</div>"
      ],
      "text/plain": [
       "        loan_type  loan_amount      income  action_taken\n",
       "count 1412049.000  1412049.000 1412049.000   1412049.000\n",
       "mean        1.046   296474.857     150.932         0.749\n",
       "std         0.290   347720.337     707.848         0.434\n",
       "min         1.000     5000.000       0.000         0.000\n",
       "25%         1.000   105000.000      63.000         0.000\n",
       "50%         1.000   205000.000     102.000         1.000\n",
       "75%         1.000   365000.000     167.000         1.000\n",
       "max         4.000 50005000.000  734000.000         1.000"
      ]
     },
     "execution_count": 33,
     "metadata": {},
     "output_type": "execute_result"
    }
   ],
   "source": [
    "data_refined.describe()"
   ]
  },
  {
   "cell_type": "code",
   "execution_count": 34,
   "id": "f0d95bb9",
   "metadata": {},
   "outputs": [
    {
     "data": {
      "text/plain": [
       "(1412049, 8)"
      ]
     },
     "execution_count": 34,
     "metadata": {},
     "output_type": "execute_result"
    }
   ],
   "source": [
    "data_refined.shape"
   ]
  },
  {
   "cell_type": "code",
   "execution_count": 35,
   "id": "62561e7a",
   "metadata": {},
   "outputs": [
    {
     "data": {
      "text/html": [
       "<div>\n",
       "<style scoped>\n",
       "    .dataframe tbody tr th:only-of-type {\n",
       "        vertical-align: middle;\n",
       "    }\n",
       "\n",
       "    .dataframe tbody tr th {\n",
       "        vertical-align: top;\n",
       "    }\n",
       "\n",
       "    .dataframe thead th {\n",
       "        text-align: right;\n",
       "    }\n",
       "</style>\n",
       "<table border=\"1\" class=\"dataframe\">\n",
       "  <thead>\n",
       "    <tr style=\"text-align: right;\">\n",
       "      <th></th>\n",
       "      <th>derived_ethnicity</th>\n",
       "      <th>derived_race</th>\n",
       "      <th>derived_sex</th>\n",
       "      <th>loan_type</th>\n",
       "      <th>applicant_age</th>\n",
       "      <th>loan_amount</th>\n",
       "      <th>income</th>\n",
       "      <th>action_taken</th>\n",
       "    </tr>\n",
       "  </thead>\n",
       "  <tbody>\n",
       "    <tr>\n",
       "      <th>36</th>\n",
       "      <td>Not Hispanic or Latino</td>\n",
       "      <td>Asian</td>\n",
       "      <td>Male</td>\n",
       "      <td>1</td>\n",
       "      <td>35-44</td>\n",
       "      <td>305000.000</td>\n",
       "      <td>50.000</td>\n",
       "      <td>0</td>\n",
       "    </tr>\n",
       "    <tr>\n",
       "      <th>38</th>\n",
       "      <td>Not Hispanic or Latino</td>\n",
       "      <td>White</td>\n",
       "      <td>Male</td>\n",
       "      <td>1</td>\n",
       "      <td>55-64</td>\n",
       "      <td>1005000.000</td>\n",
       "      <td>866.000</td>\n",
       "      <td>1</td>\n",
       "    </tr>\n",
       "    <tr>\n",
       "      <th>41</th>\n",
       "      <td>Not Hispanic or Latino</td>\n",
       "      <td>Asian</td>\n",
       "      <td>Female</td>\n",
       "      <td>1</td>\n",
       "      <td>35-44</td>\n",
       "      <td>365000.000</td>\n",
       "      <td>157.000</td>\n",
       "      <td>1</td>\n",
       "    </tr>\n",
       "    <tr>\n",
       "      <th>43</th>\n",
       "      <td>Not Hispanic or Latino</td>\n",
       "      <td>Black or African American</td>\n",
       "      <td>Female</td>\n",
       "      <td>1</td>\n",
       "      <td>45-54</td>\n",
       "      <td>335000.000</td>\n",
       "      <td>105.000</td>\n",
       "      <td>1</td>\n",
       "    </tr>\n",
       "    <tr>\n",
       "      <th>46</th>\n",
       "      <td>Hispanic or Latino</td>\n",
       "      <td>White</td>\n",
       "      <td>Male</td>\n",
       "      <td>1</td>\n",
       "      <td>45-54</td>\n",
       "      <td>75000.000</td>\n",
       "      <td>60.000</td>\n",
       "      <td>1</td>\n",
       "    </tr>\n",
       "    <tr>\n",
       "      <th>...</th>\n",
       "      <td>...</td>\n",
       "      <td>...</td>\n",
       "      <td>...</td>\n",
       "      <td>...</td>\n",
       "      <td>...</td>\n",
       "      <td>...</td>\n",
       "      <td>...</td>\n",
       "      <td>...</td>\n",
       "    </tr>\n",
       "    <tr>\n",
       "      <th>2110128</th>\n",
       "      <td>Hispanic or Latino</td>\n",
       "      <td>White</td>\n",
       "      <td>Male</td>\n",
       "      <td>2</td>\n",
       "      <td>55-64</td>\n",
       "      <td>225000.000</td>\n",
       "      <td>66.000</td>\n",
       "      <td>1</td>\n",
       "    </tr>\n",
       "    <tr>\n",
       "      <th>2110130</th>\n",
       "      <td>Hispanic or Latino</td>\n",
       "      <td>White</td>\n",
       "      <td>Joint</td>\n",
       "      <td>2</td>\n",
       "      <td>25-34</td>\n",
       "      <td>565000.000</td>\n",
       "      <td>0.000</td>\n",
       "      <td>1</td>\n",
       "    </tr>\n",
       "    <tr>\n",
       "      <th>2110132</th>\n",
       "      <td>Not Hispanic or Latino</td>\n",
       "      <td>White</td>\n",
       "      <td>Male</td>\n",
       "      <td>1</td>\n",
       "      <td>35-44</td>\n",
       "      <td>225000.000</td>\n",
       "      <td>140.000</td>\n",
       "      <td>1</td>\n",
       "    </tr>\n",
       "    <tr>\n",
       "      <th>2110135</th>\n",
       "      <td>Not Hispanic or Latino</td>\n",
       "      <td>White</td>\n",
       "      <td>Joint</td>\n",
       "      <td>1</td>\n",
       "      <td>55-64</td>\n",
       "      <td>485000.000</td>\n",
       "      <td>222.000</td>\n",
       "      <td>1</td>\n",
       "    </tr>\n",
       "    <tr>\n",
       "      <th>2110136</th>\n",
       "      <td>Not Hispanic or Latino</td>\n",
       "      <td>White</td>\n",
       "      <td>Joint</td>\n",
       "      <td>1</td>\n",
       "      <td>35-44</td>\n",
       "      <td>435000.000</td>\n",
       "      <td>242.000</td>\n",
       "      <td>1</td>\n",
       "    </tr>\n",
       "  </tbody>\n",
       "</table>\n",
       "<p>1412049 rows × 8 columns</p>\n",
       "</div>"
      ],
      "text/plain": [
       "              derived_ethnicity               derived_race derived_sex  \\\n",
       "36       Not Hispanic or Latino                      Asian        Male   \n",
       "38       Not Hispanic or Latino                      White        Male   \n",
       "41       Not Hispanic or Latino                      Asian      Female   \n",
       "43       Not Hispanic or Latino  Black or African American      Female   \n",
       "46           Hispanic or Latino                      White        Male   \n",
       "...                         ...                        ...         ...   \n",
       "2110128      Hispanic or Latino                      White        Male   \n",
       "2110130      Hispanic or Latino                      White       Joint   \n",
       "2110132  Not Hispanic or Latino                      White        Male   \n",
       "2110135  Not Hispanic or Latino                      White       Joint   \n",
       "2110136  Not Hispanic or Latino                      White       Joint   \n",
       "\n",
       "         loan_type applicant_age  loan_amount  income  action_taken  \n",
       "36               1         35-44   305000.000  50.000             0  \n",
       "38               1         55-64  1005000.000 866.000             1  \n",
       "41               1         35-44   365000.000 157.000             1  \n",
       "43               1         45-54   335000.000 105.000             1  \n",
       "46               1         45-54    75000.000  60.000             1  \n",
       "...            ...           ...          ...     ...           ...  \n",
       "2110128          2         55-64   225000.000  66.000             1  \n",
       "2110130          2         25-34   565000.000   0.000             1  \n",
       "2110132          1         35-44   225000.000 140.000             1  \n",
       "2110135          1         55-64   485000.000 222.000             1  \n",
       "2110136          1         35-44   435000.000 242.000             1  \n",
       "\n",
       "[1412049 rows x 8 columns]"
      ]
     },
     "execution_count": 35,
     "metadata": {},
     "output_type": "execute_result"
    }
   ],
   "source": [
    "data_refined"
   ]
  },
  {
   "cell_type": "code",
   "execution_count": 36,
   "id": "eeb8fe95",
   "metadata": {
    "scrolled": false
   },
   "outputs": [
    {
     "data": {
      "text/html": [
       "<div>\n",
       "<style scoped>\n",
       "    .dataframe tbody tr th:only-of-type {\n",
       "        vertical-align: middle;\n",
       "    }\n",
       "\n",
       "    .dataframe tbody tr th {\n",
       "        vertical-align: top;\n",
       "    }\n",
       "\n",
       "    .dataframe thead th {\n",
       "        text-align: right;\n",
       "    }\n",
       "</style>\n",
       "<table border=\"1\" class=\"dataframe\">\n",
       "  <thead>\n",
       "    <tr style=\"text-align: right;\">\n",
       "      <th></th>\n",
       "      <th>derived_ethnicity</th>\n",
       "      <th>derived_race</th>\n",
       "      <th>derived_sex</th>\n",
       "      <th>loan_type</th>\n",
       "      <th>applicant_age</th>\n",
       "      <th>loan_amount</th>\n",
       "      <th>income</th>\n",
       "      <th>action_taken</th>\n",
       "    </tr>\n",
       "  </thead>\n",
       "  <tbody>\n",
       "    <tr>\n",
       "      <th>36</th>\n",
       "      <td>Not Hispanic or Latino</td>\n",
       "      <td>Asian</td>\n",
       "      <td>Male</td>\n",
       "      <td>1</td>\n",
       "      <td>35-44</td>\n",
       "      <td>305000.000</td>\n",
       "      <td>50.000</td>\n",
       "      <td>0</td>\n",
       "    </tr>\n",
       "    <tr>\n",
       "      <th>38</th>\n",
       "      <td>Not Hispanic or Latino</td>\n",
       "      <td>White</td>\n",
       "      <td>Male</td>\n",
       "      <td>1</td>\n",
       "      <td>55-64</td>\n",
       "      <td>1005000.000</td>\n",
       "      <td>866.000</td>\n",
       "      <td>1</td>\n",
       "    </tr>\n",
       "    <tr>\n",
       "      <th>41</th>\n",
       "      <td>Not Hispanic or Latino</td>\n",
       "      <td>Asian</td>\n",
       "      <td>Female</td>\n",
       "      <td>1</td>\n",
       "      <td>35-44</td>\n",
       "      <td>365000.000</td>\n",
       "      <td>157.000</td>\n",
       "      <td>1</td>\n",
       "    </tr>\n",
       "    <tr>\n",
       "      <th>43</th>\n",
       "      <td>Not Hispanic or Latino</td>\n",
       "      <td>Black or African American</td>\n",
       "      <td>Female</td>\n",
       "      <td>1</td>\n",
       "      <td>45-54</td>\n",
       "      <td>335000.000</td>\n",
       "      <td>105.000</td>\n",
       "      <td>1</td>\n",
       "    </tr>\n",
       "    <tr>\n",
       "      <th>46</th>\n",
       "      <td>Hispanic or Latino</td>\n",
       "      <td>White</td>\n",
       "      <td>Male</td>\n",
       "      <td>1</td>\n",
       "      <td>45-54</td>\n",
       "      <td>75000.000</td>\n",
       "      <td>60.000</td>\n",
       "      <td>1</td>\n",
       "    </tr>\n",
       "    <tr>\n",
       "      <th>...</th>\n",
       "      <td>...</td>\n",
       "      <td>...</td>\n",
       "      <td>...</td>\n",
       "      <td>...</td>\n",
       "      <td>...</td>\n",
       "      <td>...</td>\n",
       "      <td>...</td>\n",
       "      <td>...</td>\n",
       "    </tr>\n",
       "    <tr>\n",
       "      <th>2110128</th>\n",
       "      <td>Hispanic or Latino</td>\n",
       "      <td>White</td>\n",
       "      <td>Male</td>\n",
       "      <td>2</td>\n",
       "      <td>55-64</td>\n",
       "      <td>225000.000</td>\n",
       "      <td>66.000</td>\n",
       "      <td>1</td>\n",
       "    </tr>\n",
       "    <tr>\n",
       "      <th>2110130</th>\n",
       "      <td>Hispanic or Latino</td>\n",
       "      <td>White</td>\n",
       "      <td>Joint</td>\n",
       "      <td>2</td>\n",
       "      <td>25-34</td>\n",
       "      <td>565000.000</td>\n",
       "      <td>0.000</td>\n",
       "      <td>1</td>\n",
       "    </tr>\n",
       "    <tr>\n",
       "      <th>2110132</th>\n",
       "      <td>Not Hispanic or Latino</td>\n",
       "      <td>White</td>\n",
       "      <td>Male</td>\n",
       "      <td>1</td>\n",
       "      <td>35-44</td>\n",
       "      <td>225000.000</td>\n",
       "      <td>140.000</td>\n",
       "      <td>1</td>\n",
       "    </tr>\n",
       "    <tr>\n",
       "      <th>2110135</th>\n",
       "      <td>Not Hispanic or Latino</td>\n",
       "      <td>White</td>\n",
       "      <td>Joint</td>\n",
       "      <td>1</td>\n",
       "      <td>55-64</td>\n",
       "      <td>485000.000</td>\n",
       "      <td>222.000</td>\n",
       "      <td>1</td>\n",
       "    </tr>\n",
       "    <tr>\n",
       "      <th>2110136</th>\n",
       "      <td>Not Hispanic or Latino</td>\n",
       "      <td>White</td>\n",
       "      <td>Joint</td>\n",
       "      <td>1</td>\n",
       "      <td>35-44</td>\n",
       "      <td>435000.000</td>\n",
       "      <td>242.000</td>\n",
       "      <td>1</td>\n",
       "    </tr>\n",
       "  </tbody>\n",
       "</table>\n",
       "<p>1412049 rows × 8 columns</p>\n",
       "</div>"
      ],
      "text/plain": [
       "              derived_ethnicity               derived_race derived_sex  \\\n",
       "36       Not Hispanic or Latino                      Asian        Male   \n",
       "38       Not Hispanic or Latino                      White        Male   \n",
       "41       Not Hispanic or Latino                      Asian      Female   \n",
       "43       Not Hispanic or Latino  Black or African American      Female   \n",
       "46           Hispanic or Latino                      White        Male   \n",
       "...                         ...                        ...         ...   \n",
       "2110128      Hispanic or Latino                      White        Male   \n",
       "2110130      Hispanic or Latino                      White       Joint   \n",
       "2110132  Not Hispanic or Latino                      White        Male   \n",
       "2110135  Not Hispanic or Latino                      White       Joint   \n",
       "2110136  Not Hispanic or Latino                      White       Joint   \n",
       "\n",
       "         loan_type applicant_age  loan_amount  income  action_taken  \n",
       "36               1         35-44   305000.000  50.000             0  \n",
       "38               1         55-64  1005000.000 866.000             1  \n",
       "41               1         35-44   365000.000 157.000             1  \n",
       "43               1         45-54   335000.000 105.000             1  \n",
       "46               1         45-54    75000.000  60.000             1  \n",
       "...            ...           ...          ...     ...           ...  \n",
       "2110128          2         55-64   225000.000  66.000             1  \n",
       "2110130          2         25-34   565000.000   0.000             1  \n",
       "2110132          1         35-44   225000.000 140.000             1  \n",
       "2110135          1         55-64   485000.000 222.000             1  \n",
       "2110136          1         35-44   435000.000 242.000             1  \n",
       "\n",
       "[1412049 rows x 8 columns]"
      ]
     },
     "execution_count": 36,
     "metadata": {},
     "output_type": "execute_result"
    }
   ],
   "source": [
    "data_refined"
   ]
  },
  {
   "cell_type": "code",
   "execution_count": 37,
   "id": "4b8a85d8",
   "metadata": {},
   "outputs": [
    {
     "data": {
      "text/plain": [
       "White                                        1114310\n",
       "Asian                                         157399\n",
       "Black or African American                      86085\n",
       "Joint                                          34428\n",
       "Native Hawaiian or Other Pacific Islander       8778\n",
       "American Indian or Alaska Native                8299\n",
       "2 or more minority races                        2750\n",
       "Name: derived_race, dtype: int64"
      ]
     },
     "execution_count": 37,
     "metadata": {},
     "output_type": "execute_result"
    }
   ],
   "source": [
    "data_refined['derived_race'].value_counts()"
   ]
  },
  {
   "cell_type": "code",
   "execution_count": 38,
   "id": "588f9d7c",
   "metadata": {},
   "outputs": [
    {
     "data": {
      "text/plain": [
       "(1412049, 8)"
      ]
     },
     "execution_count": 38,
     "metadata": {},
     "output_type": "execute_result"
    }
   ],
   "source": [
    "data_refined.shape"
   ]
  },
  {
   "cell_type": "code",
   "execution_count": 39,
   "id": "02065be3",
   "metadata": {},
   "outputs": [
    {
     "data": {
      "text/plain": [
       "Index(['derived_ethnicity', 'derived_race', 'derived_sex', 'loan_type',\n",
       "       'applicant_age', 'loan_amount', 'income', 'action_taken'],\n",
       "      dtype='object')"
      ]
     },
     "execution_count": 39,
     "metadata": {},
     "output_type": "execute_result"
    }
   ],
   "source": [
    "data_refined.columns"
   ]
  },
  {
   "cell_type": "code",
   "execution_count": 40,
   "id": "c615a698",
   "metadata": {},
   "outputs": [],
   "source": [
    "data = data_refined.iloc[: , 0:]"
   ]
  },
  {
   "cell_type": "code",
   "execution_count": 41,
   "id": "fd06150b",
   "metadata": {},
   "outputs": [
    {
     "data": {
      "text/html": [
       "<div>\n",
       "<style scoped>\n",
       "    .dataframe tbody tr th:only-of-type {\n",
       "        vertical-align: middle;\n",
       "    }\n",
       "\n",
       "    .dataframe tbody tr th {\n",
       "        vertical-align: top;\n",
       "    }\n",
       "\n",
       "    .dataframe thead th {\n",
       "        text-align: right;\n",
       "    }\n",
       "</style>\n",
       "<table border=\"1\" class=\"dataframe\">\n",
       "  <thead>\n",
       "    <tr style=\"text-align: right;\">\n",
       "      <th></th>\n",
       "      <th>derived_ethnicity</th>\n",
       "      <th>derived_race</th>\n",
       "      <th>derived_sex</th>\n",
       "      <th>loan_type</th>\n",
       "      <th>applicant_age</th>\n",
       "      <th>loan_amount</th>\n",
       "      <th>income</th>\n",
       "      <th>action_taken</th>\n",
       "    </tr>\n",
       "  </thead>\n",
       "  <tbody>\n",
       "    <tr>\n",
       "      <th>36</th>\n",
       "      <td>Not Hispanic or Latino</td>\n",
       "      <td>Asian</td>\n",
       "      <td>Male</td>\n",
       "      <td>1</td>\n",
       "      <td>35-44</td>\n",
       "      <td>305000.000</td>\n",
       "      <td>50.000</td>\n",
       "      <td>0</td>\n",
       "    </tr>\n",
       "    <tr>\n",
       "      <th>38</th>\n",
       "      <td>Not Hispanic or Latino</td>\n",
       "      <td>White</td>\n",
       "      <td>Male</td>\n",
       "      <td>1</td>\n",
       "      <td>55-64</td>\n",
       "      <td>1005000.000</td>\n",
       "      <td>866.000</td>\n",
       "      <td>1</td>\n",
       "    </tr>\n",
       "    <tr>\n",
       "      <th>41</th>\n",
       "      <td>Not Hispanic or Latino</td>\n",
       "      <td>Asian</td>\n",
       "      <td>Female</td>\n",
       "      <td>1</td>\n",
       "      <td>35-44</td>\n",
       "      <td>365000.000</td>\n",
       "      <td>157.000</td>\n",
       "      <td>1</td>\n",
       "    </tr>\n",
       "    <tr>\n",
       "      <th>43</th>\n",
       "      <td>Not Hispanic or Latino</td>\n",
       "      <td>Black or African American</td>\n",
       "      <td>Female</td>\n",
       "      <td>1</td>\n",
       "      <td>45-54</td>\n",
       "      <td>335000.000</td>\n",
       "      <td>105.000</td>\n",
       "      <td>1</td>\n",
       "    </tr>\n",
       "    <tr>\n",
       "      <th>46</th>\n",
       "      <td>Hispanic or Latino</td>\n",
       "      <td>White</td>\n",
       "      <td>Male</td>\n",
       "      <td>1</td>\n",
       "      <td>45-54</td>\n",
       "      <td>75000.000</td>\n",
       "      <td>60.000</td>\n",
       "      <td>1</td>\n",
       "    </tr>\n",
       "  </tbody>\n",
       "</table>\n",
       "</div>"
      ],
      "text/plain": [
       "         derived_ethnicity               derived_race derived_sex  loan_type  \\\n",
       "36  Not Hispanic or Latino                      Asian        Male          1   \n",
       "38  Not Hispanic or Latino                      White        Male          1   \n",
       "41  Not Hispanic or Latino                      Asian      Female          1   \n",
       "43  Not Hispanic or Latino  Black or African American      Female          1   \n",
       "46      Hispanic or Latino                      White        Male          1   \n",
       "\n",
       "   applicant_age  loan_amount  income  action_taken  \n",
       "36         35-44   305000.000  50.000             0  \n",
       "38         55-64  1005000.000 866.000             1  \n",
       "41         35-44   365000.000 157.000             1  \n",
       "43         45-54   335000.000 105.000             1  \n",
       "46         45-54    75000.000  60.000             1  "
      ]
     },
     "execution_count": 41,
     "metadata": {},
     "output_type": "execute_result"
    }
   ],
   "source": [
    "data.head()"
   ]
  },
  {
   "cell_type": "code",
   "execution_count": 42,
   "id": "e7d653d1",
   "metadata": {},
   "outputs": [
    {
     "data": {
      "text/plain": [
       "derived_ethnicity    0\n",
       "derived_race         0\n",
       "derived_sex          0\n",
       "loan_type            0\n",
       "applicant_age        0\n",
       "loan_amount          0\n",
       "income               0\n",
       "action_taken         0\n",
       "dtype: int64"
      ]
     },
     "execution_count": 42,
     "metadata": {},
     "output_type": "execute_result"
    }
   ],
   "source": [
    "data.isna().sum()"
   ]
  },
  {
   "cell_type": "code",
   "execution_count": 43,
   "id": "a7abf9c5",
   "metadata": {},
   "outputs": [
    {
     "data": {
      "text/html": [
       "<div>\n",
       "<style scoped>\n",
       "    .dataframe tbody tr th:only-of-type {\n",
       "        vertical-align: middle;\n",
       "    }\n",
       "\n",
       "    .dataframe tbody tr th {\n",
       "        vertical-align: top;\n",
       "    }\n",
       "\n",
       "    .dataframe thead th {\n",
       "        text-align: right;\n",
       "    }\n",
       "</style>\n",
       "<table border=\"1\" class=\"dataframe\">\n",
       "  <thead>\n",
       "    <tr style=\"text-align: right;\">\n",
       "      <th></th>\n",
       "      <th>derived_ethnicity</th>\n",
       "      <th>derived_race</th>\n",
       "      <th>derived_sex</th>\n",
       "      <th>loan_type</th>\n",
       "      <th>applicant_age</th>\n",
       "      <th>loan_amount</th>\n",
       "      <th>income</th>\n",
       "      <th>action_taken</th>\n",
       "    </tr>\n",
       "  </thead>\n",
       "  <tbody>\n",
       "    <tr>\n",
       "      <th>36</th>\n",
       "      <td>Not Hispanic or Latino</td>\n",
       "      <td>Asian</td>\n",
       "      <td>Male</td>\n",
       "      <td>1</td>\n",
       "      <td>35-44</td>\n",
       "      <td>305000.000</td>\n",
       "      <td>50.000</td>\n",
       "      <td>0</td>\n",
       "    </tr>\n",
       "    <tr>\n",
       "      <th>38</th>\n",
       "      <td>Not Hispanic or Latino</td>\n",
       "      <td>White</td>\n",
       "      <td>Male</td>\n",
       "      <td>1</td>\n",
       "      <td>55-64</td>\n",
       "      <td>1005000.000</td>\n",
       "      <td>866.000</td>\n",
       "      <td>1</td>\n",
       "    </tr>\n",
       "    <tr>\n",
       "      <th>41</th>\n",
       "      <td>Not Hispanic or Latino</td>\n",
       "      <td>Asian</td>\n",
       "      <td>Female</td>\n",
       "      <td>1</td>\n",
       "      <td>35-44</td>\n",
       "      <td>365000.000</td>\n",
       "      <td>157.000</td>\n",
       "      <td>1</td>\n",
       "    </tr>\n",
       "    <tr>\n",
       "      <th>43</th>\n",
       "      <td>Not Hispanic or Latino</td>\n",
       "      <td>Black or African American</td>\n",
       "      <td>Female</td>\n",
       "      <td>1</td>\n",
       "      <td>45-54</td>\n",
       "      <td>335000.000</td>\n",
       "      <td>105.000</td>\n",
       "      <td>1</td>\n",
       "    </tr>\n",
       "    <tr>\n",
       "      <th>46</th>\n",
       "      <td>Hispanic or Latino</td>\n",
       "      <td>White</td>\n",
       "      <td>Male</td>\n",
       "      <td>1</td>\n",
       "      <td>45-54</td>\n",
       "      <td>75000.000</td>\n",
       "      <td>60.000</td>\n",
       "      <td>1</td>\n",
       "    </tr>\n",
       "  </tbody>\n",
       "</table>\n",
       "</div>"
      ],
      "text/plain": [
       "         derived_ethnicity               derived_race derived_sex  loan_type  \\\n",
       "36  Not Hispanic or Latino                      Asian        Male          1   \n",
       "38  Not Hispanic or Latino                      White        Male          1   \n",
       "41  Not Hispanic or Latino                      Asian      Female          1   \n",
       "43  Not Hispanic or Latino  Black or African American      Female          1   \n",
       "46      Hispanic or Latino                      White        Male          1   \n",
       "\n",
       "   applicant_age  loan_amount  income  action_taken  \n",
       "36         35-44   305000.000  50.000             0  \n",
       "38         55-64  1005000.000 866.000             1  \n",
       "41         35-44   365000.000 157.000             1  \n",
       "43         45-54   335000.000 105.000             1  \n",
       "46         45-54    75000.000  60.000             1  "
      ]
     },
     "execution_count": 43,
     "metadata": {},
     "output_type": "execute_result"
    }
   ],
   "source": [
    "data.head()"
   ]
  },
  {
   "cell_type": "code",
   "execution_count": 44,
   "id": "125f6697",
   "metadata": {},
   "outputs": [
    {
     "data": {
      "text/plain": [
       "1    1057548\n",
       "0     354501\n",
       "Name: action_taken, dtype: int64"
      ]
     },
     "execution_count": 44,
     "metadata": {},
     "output_type": "execute_result"
    }
   ],
   "source": [
    "data['action_taken'].value_counts()"
   ]
  },
  {
   "cell_type": "code",
   "execution_count": 45,
   "id": "005b7ece",
   "metadata": {},
   "outputs": [
    {
     "data": {
      "text/html": [
       "<div>\n",
       "<style scoped>\n",
       "    .dataframe tbody tr th:only-of-type {\n",
       "        vertical-align: middle;\n",
       "    }\n",
       "\n",
       "    .dataframe tbody tr th {\n",
       "        vertical-align: top;\n",
       "    }\n",
       "\n",
       "    .dataframe thead th {\n",
       "        text-align: right;\n",
       "    }\n",
       "</style>\n",
       "<table border=\"1\" class=\"dataframe\">\n",
       "  <thead>\n",
       "    <tr style=\"text-align: right;\">\n",
       "      <th></th>\n",
       "      <th>loan_type</th>\n",
       "      <th>loan_amount</th>\n",
       "      <th>income</th>\n",
       "      <th>action_taken</th>\n",
       "    </tr>\n",
       "  </thead>\n",
       "  <tbody>\n",
       "    <tr>\n",
       "      <th>count</th>\n",
       "      <td>1412049.000</td>\n",
       "      <td>1412049.000</td>\n",
       "      <td>1412049.000</td>\n",
       "      <td>1412049.000</td>\n",
       "    </tr>\n",
       "    <tr>\n",
       "      <th>mean</th>\n",
       "      <td>1.046</td>\n",
       "      <td>296474.857</td>\n",
       "      <td>150.932</td>\n",
       "      <td>0.749</td>\n",
       "    </tr>\n",
       "    <tr>\n",
       "      <th>std</th>\n",
       "      <td>0.290</td>\n",
       "      <td>347720.337</td>\n",
       "      <td>707.848</td>\n",
       "      <td>0.434</td>\n",
       "    </tr>\n",
       "    <tr>\n",
       "      <th>min</th>\n",
       "      <td>1.000</td>\n",
       "      <td>5000.000</td>\n",
       "      <td>0.000</td>\n",
       "      <td>0.000</td>\n",
       "    </tr>\n",
       "    <tr>\n",
       "      <th>25%</th>\n",
       "      <td>1.000</td>\n",
       "      <td>105000.000</td>\n",
       "      <td>63.000</td>\n",
       "      <td>0.000</td>\n",
       "    </tr>\n",
       "    <tr>\n",
       "      <th>50%</th>\n",
       "      <td>1.000</td>\n",
       "      <td>205000.000</td>\n",
       "      <td>102.000</td>\n",
       "      <td>1.000</td>\n",
       "    </tr>\n",
       "    <tr>\n",
       "      <th>75%</th>\n",
       "      <td>1.000</td>\n",
       "      <td>365000.000</td>\n",
       "      <td>167.000</td>\n",
       "      <td>1.000</td>\n",
       "    </tr>\n",
       "    <tr>\n",
       "      <th>max</th>\n",
       "      <td>4.000</td>\n",
       "      <td>50005000.000</td>\n",
       "      <td>734000.000</td>\n",
       "      <td>1.000</td>\n",
       "    </tr>\n",
       "  </tbody>\n",
       "</table>\n",
       "</div>"
      ],
      "text/plain": [
       "        loan_type  loan_amount      income  action_taken\n",
       "count 1412049.000  1412049.000 1412049.000   1412049.000\n",
       "mean        1.046   296474.857     150.932         0.749\n",
       "std         0.290   347720.337     707.848         0.434\n",
       "min         1.000     5000.000       0.000         0.000\n",
       "25%         1.000   105000.000      63.000         0.000\n",
       "50%         1.000   205000.000     102.000         1.000\n",
       "75%         1.000   365000.000     167.000         1.000\n",
       "max         4.000 50005000.000  734000.000         1.000"
      ]
     },
     "execution_count": 45,
     "metadata": {},
     "output_type": "execute_result"
    }
   ],
   "source": [
    "data.describe()"
   ]
  },
  {
   "cell_type": "code",
   "execution_count": 46,
   "id": "557aac37",
   "metadata": {},
   "outputs": [
    {
     "data": {
      "text/plain": [
       "Text(0, 0.5, 'Log Frequency')"
      ]
     },
     "execution_count": 46,
     "metadata": {},
     "output_type": "execute_result"
    },
    {
     "data": {
      "image/png": "[encoded data removed]",
      "text/plain": [
       "<Figure size 432x288 with 1 Axes>"
      ]
     },
     "metadata": {
      "needs_background": "light"
     },
     "output_type": "display_data"
    }
   ],
   "source": [
    "plt.hist(data['income'], bins = 100, log = True)\n",
    "plt.title('Distribution of Applicant Income \\n - Raw income data', fontsize=14)\n",
    "plt.xlabel(\"income in 000's US$\")\n",
    "plt.ylabel('Log Frequency')"
   ]
  },
  {
   "cell_type": "code",
   "execution_count": 47,
   "id": "6e08bbcb",
   "metadata": {},
   "outputs": [],
   "source": [
    "z_income = np.abs(stats.zscore(data['income']))\n",
    "data = data[(z_income < 3)]"
   ]
  },
  {
   "cell_type": "code",
   "execution_count": 48,
   "id": "ae6e4eb3",
   "metadata": {},
   "outputs": [
    {
     "data": {
      "text/plain": [
       "(1409848, 8)"
      ]
     },
     "execution_count": 48,
     "metadata": {},
     "output_type": "execute_result"
    }
   ],
   "source": [
    "data.shape"
   ]
  },
  {
   "cell_type": "code",
   "execution_count": 49,
   "id": "e84fc7ed",
   "metadata": {},
   "outputs": [
    {
     "data": {
      "text/plain": [
       "Text(0, 0.5, 'Log Frequency')"
      ]
     },
     "execution_count": 49,
     "metadata": {},
     "output_type": "execute_result"
    },
    {
     "data": {
      "image/png": "[encoded data removed]",
      "text/plain": [
       "<Figure size 432x288 with 1 Axes>"
      ]
     },
     "metadata": {
      "needs_background": "light"
     },
     "output_type": "display_data"
    }
   ],
   "source": [
    "plt.hist(data['income'], bins = 100, log = True)\n",
    "plt.title('Distribution of Applicant Income \\n - Outliers ommitted', fontsize=14)\n",
    "plt.xlabel(\"income in 000's US$\")\n",
    "plt.ylabel('Log Frequency')"
   ]
  },
  {
   "cell_type": "code",
   "execution_count": 50,
   "id": "6b1ed79d",
   "metadata": {},
   "outputs": [
    {
     "data": {
      "text/plain": [
       "count   1409848.000\n",
       "mean        143.391\n",
       "std         155.188\n",
       "min           0.000\n",
       "25%          63.000\n",
       "50%         102.000\n",
       "75%         167.000\n",
       "max        2274.000\n",
       "Name: income, dtype: float64"
      ]
     },
     "execution_count": 50,
     "metadata": {},
     "output_type": "execute_result"
    }
   ],
   "source": [
    "data['income'].describe()"
   ]
  },
  {
   "cell_type": "code",
   "execution_count": 51,
   "id": "b558e3da",
   "metadata": {
    "scrolled": false
   },
   "outputs": [
    {
     "data": {
      "text/plain": [
       "Text(0, 0.5, 'Log Frequency')"
      ]
     },
     "execution_count": 51,
     "metadata": {},
     "output_type": "execute_result"
    },
    {
     "data": {
      "image/png": "[encoded data removed]",
      "text/plain": [
       "<Figure size 432x288 with 1 Axes>"
      ]
     },
     "metadata": {
      "needs_background": "light"
     },
     "output_type": "display_data"
    }
   ],
   "source": [
    "plt.hist(data['loan_amount'], bins = 75, log = True)\n",
    "plt.title('Distribution Loan Application Amounts \\n - Raw loan amount data', fontsize=14)\n",
    "plt.xlabel(\"Loan amount in US$\")\n",
    "plt.ylabel('Log Frequency')"
   ]
  },
  {
   "cell_type": "code",
   "execution_count": 52,
   "id": "9ca8f41a",
   "metadata": {},
   "outputs": [
    {
     "data": {
      "text/plain": [
       "(1383252, 8)"
      ]
     },
     "execution_count": 52,
     "metadata": {},
     "output_type": "execute_result"
    }
   ],
   "source": [
    "z_loan = np.abs(stats.zscore(data['loan_amount']))\n",
    "data = data[(z_loan < 3)]\n",
    "data.shape"
   ]
  },
  {
   "cell_type": "code",
   "execution_count": 53,
   "id": "3d3e9375",
   "metadata": {},
   "outputs": [
    {
     "data": {
      "text/plain": [
       "Text(0, 0.5, 'Log Frequency')"
      ]
     },
     "execution_count": 53,
     "metadata": {},
     "output_type": "execute_result"
    },
    {
     "data": {
      "image/png": "[encoded data removed]",
      "text/plain": [
       "<Figure size 432x288 with 1 Axes>"
      ]
     },
     "metadata": {
      "needs_background": "light"
     },
     "output_type": "display_data"
    }
   ],
   "source": [
    "plt.hist(data['loan_amount'], bins = 75, log = True)\n",
    "plt.title('Distribution Loan Application Amounts \\n - Outliers ommitted', fontsize=14)\n",
    "plt.xlabel(\"Loan amount in US$\")\n",
    "plt.ylabel('Log Frequency')"
   ]
  },
  {
   "cell_type": "code",
   "execution_count": 54,
   "id": "26c06c6c",
   "metadata": {},
   "outputs": [
    {
     "data": {
      "text/plain": [
       "count   1383252.000\n",
       "mean     264141.653\n",
       "std      219630.388\n",
       "min        5000.000\n",
       "25%      105000.000\n",
       "50%      205000.000\n",
       "75%      345000.000\n",
       "max     1235000.000\n",
       "Name: loan_amount, dtype: float64"
      ]
     },
     "execution_count": 54,
     "metadata": {},
     "output_type": "execute_result"
    }
   ],
   "source": [
    "data['loan_amount'].describe()"
   ]
  },
  {
   "cell_type": "code",
   "execution_count": 55,
   "id": "ee2088e8",
   "metadata": {},
   "outputs": [
    {
     "data": {
      "text/plain": [
       "Index(['derived_ethnicity', 'derived_race', 'derived_sex', 'loan_type',\n",
       "       'applicant_age', 'loan_amount', 'income', 'action_taken'],\n",
       "      dtype='object')"
      ]
     },
     "execution_count": 55,
     "metadata": {},
     "output_type": "execute_result"
    }
   ],
   "source": [
    "data.columns"
   ]
  },
  {
   "cell_type": "code",
   "execution_count": 56,
   "id": "226c265e",
   "metadata": {},
   "outputs": [
    {
     "name": "stdout",
     "output_type": "stream",
     "text": [
      "object\n",
      "object\n",
      "object\n",
      "int64\n",
      "object\n",
      "float64\n",
      "float64\n",
      "int64\n"
     ]
    }
   ],
   "source": [
    "print(data['derived_ethnicity'].dtype)\n",
    "print(data['derived_race'].dtype)\n",
    "print(data['derived_sex'].dtype)\n",
    "print(data['loan_type'].dtype)\n",
    "print(data['applicant_age'].dtype)\n",
    "print(data['loan_amount'].dtype)\n",
    "print(data['income'].dtype)\n",
    "print(data['action_taken'].dtype)"
   ]
  },
  {
   "cell_type": "code",
   "execution_count": 57,
   "id": "fa8cb237",
   "metadata": {},
   "outputs": [
    {
     "data": {
      "text/plain": [
       "1    1344950\n",
       "3      24247\n",
       "2      12720\n",
       "4       1335\n",
       "Name: loan_type, dtype: int64"
      ]
     },
     "execution_count": 57,
     "metadata": {},
     "output_type": "execute_result"
    }
   ],
   "source": [
    "data['loan_type'] = data['loan_type'].astype(object)\n",
    "data['loan_type'].value_counts()"
   ]
  },
  {
   "cell_type": "code",
   "execution_count": 58,
   "id": "2c0b563c",
   "metadata": {},
   "outputs": [
    {
     "data": {
      "text/plain": [
       "36         1\n",
       "38         1\n",
       "41         1\n",
       "43         1\n",
       "46         1\n",
       "          ..\n",
       "2110128    2\n",
       "2110130    2\n",
       "2110132    1\n",
       "2110135    1\n",
       "2110136    1\n",
       "Name: loan_type, Length: 1383252, dtype: object"
      ]
     },
     "execution_count": 58,
     "metadata": {},
     "output_type": "execute_result"
    }
   ],
   "source": [
    "data['loan_type']"
   ]
  },
  {
   "cell_type": "code",
   "execution_count": 59,
   "id": "96f26bb5",
   "metadata": {},
   "outputs": [],
   "source": [
    "data_copy = data.copy()\n",
    "data = data.drop(columns = 'action_taken')\n",
    "target = data_copy['action_taken']"
   ]
  },
  {
   "cell_type": "code",
   "execution_count": 60,
   "id": "b0acdcf6",
   "metadata": {},
   "outputs": [
    {
     "data": {
      "text/plain": [
       "['derived_ethnicity',\n",
       " 'derived_race',\n",
       " 'derived_sex',\n",
       " 'loan_type',\n",
       " 'applicant_age']"
      ]
     },
     "execution_count": 60,
     "metadata": {},
     "output_type": "execute_result"
    }
   ],
   "source": [
    "categorical_cols = data.columns[data.dtypes==object].tolist()\n",
    "categorical_cols"
   ]
  },
  {
   "cell_type": "code",
   "execution_count": 61,
   "id": "a9fb6563",
   "metadata": {},
   "outputs": [
    {
     "data": {
      "text/plain": [
       "Index(['derived_ethnicity', 'derived_race', 'derived_sex', 'loan_type',\n",
       "       'applicant_age', 'loan_amount', 'income'],\n",
       "      dtype='object')"
      ]
     },
     "execution_count": 61,
     "metadata": {},
     "output_type": "execute_result"
    }
   ],
   "source": [
    "data.columns"
   ]
  },
  {
   "cell_type": "code",
   "execution_count": 62,
   "id": "95edfbc0",
   "metadata": {},
   "outputs": [],
   "source": [
    "obj_names = {0 : 'Derived Ethinicity',\n",
    "             1 : 'Derived Race',\n",
    "             2 : 'Derived Sex',\n",
    "             3 : 'Loan Type',\n",
    "             4 : 'Applicant Age'}"
   ]
  },
  {
   "cell_type": "code",
   "execution_count": 63,
   "id": "721c0459",
   "metadata": {},
   "outputs": [
    {
     "data": {
      "text/plain": [
       "Not Hispanic or Latino    1196004\n",
       "Hispanic or Latino         152070\n",
       "Joint                       35178\n",
       "Name: derived_ethnicity, dtype: int64"
      ]
     },
     "execution_count": 63,
     "metadata": {},
     "output_type": "execute_result"
    }
   ],
   "source": [
    "data['derived_ethnicity'].value_counts()"
   ]
  },
  {
   "cell_type": "code",
   "execution_count": 64,
   "id": "678b207c",
   "metadata": {
    "scrolled": false
   },
   "outputs": [
    {
     "data": {
      "text/plain": [
       "<Figure size 432x288 with 0 Axes>"
      ]
     },
     "metadata": {},
     "output_type": "display_data"
    },
    {
     "data": {
      "image/png": "[encoded data removed]",
      "text/plain": [
       "<Figure size 594x396 with 1 Axes>"
      ]
     },
     "metadata": {
      "needs_background": "light"
     },
     "output_type": "display_data"
    },
    {
     "data": {
      "image/png": "[encoded data removed]",
      "text/plain": [
       "<Figure size 594x396 with 1 Axes>"
      ]
     },
     "metadata": {
      "needs_background": "light"
     },
     "output_type": "display_data"
    },
    {
     "data": {
      "image/png": "[encoded data removed]",
      "text/plain": [
       "<Figure size 594x396 with 1 Axes>"
      ]
     },
     "metadata": {
      "needs_background": "light"
     },
     "output_type": "display_data"
    },
    {
     "data": {
      "image/png": "[encoded data removed]",
      "text/plain": [
       "<Figure size 594x396 with 1 Axes>"
      ]
     },
     "metadata": {
      "needs_background": "light"
     },
     "output_type": "display_data"
    },
    {
     "data": {
      "image/png": "[encoded data removed]",
      "text/plain": [
       "<Figure size 594x396 with 1 Axes>"
      ]
     },
     "metadata": {
      "needs_background": "light"
     },
     "output_type": "display_data"
    }
   ],
   "source": [
    "df1 = data.select_dtypes('O').sort_values(by='applicant_age')\n",
    "i = 0\n",
    "for i, col in enumerate(df1.columns):\n",
    "    labels = df1[categorical_cols[i]].unique()\n",
    "    plt.figure(i)\n",
    "    if col=='applicant_age':\n",
    "        g = sns.catplot(x='applicant_age', kind = \"count\", order=['<25','25-34','35-44','45-54','55-64','65-74','>74'], data=df1, legend_out = True, height = 5.5, aspect = 1.5)\n",
    "        g.set_xticklabels(rotation=30, ha=\"right\")\n",
    "        plt.suptitle(\"Barplot of \" + obj_names[i],  y = 1)\n",
    "    else:\n",
    "        g = sns.catplot(x=col, kind = \"count\", data=df1, legend_out = True, height = 5.5, aspect = 1.5)\n",
    "        g.set_xticklabels(rotation=30, ha=\"right\")\n",
    "        plt.suptitle(\"Barplot of \" + obj_names[i],  y = 1)\n",
    "    i=i+1    "
   ]
  },
  {
   "cell_type": "code",
   "execution_count": 65,
   "id": "603d4724",
   "metadata": {},
   "outputs": [
    {
     "name": "stdout",
     "output_type": "stream",
     "text": [
      "derived_ethnicity percentages\n",
      "Not Hispanic or Latino   86.463\n",
      "Hispanic or Latino       10.994\n",
      "Joint                     2.543\n",
      "Name: derived_ethnicity, dtype: float64\n",
      "\n",
      "\n",
      "derived_race percentages\n",
      "White                                       79.031\n",
      "Asian                                       10.944\n",
      "Black or African American                    6.203\n",
      "Joint                                        2.396\n",
      "Native Hawaiian or Other Pacific Islander    0.633\n",
      "American Indian or Alaska Native             0.597\n",
      "2 or more minority races                     0.197\n",
      "Name: derived_race, dtype: float64\n",
      "\n",
      "\n",
      "derived_sex percentages\n",
      "Joint    42.894\n",
      "Male     34.388\n",
      "Female   22.719\n",
      "Name: derived_sex, dtype: float64\n",
      "\n",
      "\n",
      "loan_type percentages\n",
      "1   97.231\n",
      "3    1.753\n",
      "2    0.920\n",
      "4    0.097\n",
      "Name: loan_type, dtype: float64\n",
      "\n",
      "\n",
      "applicant_age percentages\n",
      "35-44   23.728\n",
      "45-54   22.984\n",
      "55-64   18.942\n",
      "25-34   17.507\n",
      "65-74   11.110\n",
      ">74      4.089\n",
      "<25      1.641\n",
      "Name: applicant_age, dtype: float64\n",
      "\n",
      "\n"
     ]
    }
   ],
   "source": [
    "i = 0\n",
    "for feature in categorical_cols:\n",
    "    print(categorical_cols[i],'percentages')\n",
    "    print(data[feature].value_counts(normalize=True)*100)\n",
    "    print('\\n')\n",
    "    i = i+1"
   ]
  },
  {
   "cell_type": "code",
   "execution_count": 66,
   "id": "6ae8e94d",
   "metadata": {},
   "outputs": [],
   "source": [
    "t2 = pd.DataFrame(target, columns = ['action_taken'])"
   ]
  },
  {
   "cell_type": "code",
   "execution_count": 67,
   "id": "0f904cde",
   "metadata": {},
   "outputs": [
    {
     "data": {
      "text/plain": [
       "Text(0.5, 1, 'Barplot of  Target Feature')"
      ]
     },
     "execution_count": 67,
     "metadata": {},
     "output_type": "execute_result"
    },
    {
     "data": {
      "image/png": "[encoded data removed]",
      "text/plain": [
       "<Figure size 594x396 with 1 Axes>"
      ]
     },
     "metadata": {
      "needs_background": "light"
     },
     "output_type": "display_data"
    }
   ],
   "source": [
    "g2 = sns.catplot(x='action_taken', kind = \"count\", data=t2, \n",
    "                 legend_out = True, height = 5.5, aspect = 1.5)\n",
    "g2.set_xticklabels(rotation=30, ha=\"right\")\n",
    "g2.set_xticklabels(['Denied','Approved'])\n",
    "plt.xlabel('Action Taken')\n",
    "plt.suptitle(\"Barplot of  Target Feature\",  y = 1)"
   ]
  },
  {
   "cell_type": "code",
   "execution_count": 68,
   "id": "5219a5bf",
   "metadata": {},
   "outputs": [
    {
     "name": "stdout",
     "output_type": "stream",
     "text": [
      "1   74.675\n",
      "0   25.325\n",
      "Name: action_taken, dtype: float64\n"
     ]
    }
   ],
   "source": [
    "print(t2['action_taken'].value_counts(normalize=True)*100)"
   ]
  },
  {
   "cell_type": "code",
   "execution_count": 69,
   "id": "d1c6a375",
   "metadata": {},
   "outputs": [
    {
     "data": {
      "text/plain": [
       "Text(0.5, 1, 'Grouped Bar Chart of Loan Outcome \\n by Derived Sex')"
      ]
     },
     "execution_count": 69,
     "metadata": {},
     "output_type": "execute_result"
    },
    {
     "data": {
      "image/png": "[encoded data removed]",
      "text/plain": [
       "<Figure size 666.125x396 with 1 Axes>"
      ]
     },
     "metadata": {
      "needs_background": "light"
     },
     "output_type": "display_data"
    }
   ],
   "source": [
    "g3 = sns.catplot(x='action_taken', kind = \"count\", data=data_copy, \n",
    "                 legend_out = True, height = 5.5, aspect = 1.5, hue = 'derived_sex')\n",
    "g3.set_xticklabels(rotation=30, ha=\"right\")\n",
    "g3.set_xticklabels(['Denied','Approved'])\n",
    "g3._legend.set_title('Derived Sex')\n",
    "plt.xlabel('Action Taken')\n",
    "plt.suptitle(\"Grouped Bar Chart of Loan Outcome \\n by Derived Sex\",  y = 1)"
   ]
  },
  {
   "cell_type": "code",
   "execution_count": 70,
   "id": "e87c5310",
   "metadata": {},
   "outputs": [],
   "source": [
    "cont_data = data_copy.copy()\n",
    "cont_data.shape\n",
    "cont_data['action_taken'].astype('O')\n",
    "cont_data['action_taken'] = cont_data['action_taken'].map({1:'Approved',0:'Denied'})"
   ]
  },
  {
   "cell_type": "code",
   "execution_count": 71,
   "id": "8a7aa73d",
   "metadata": {},
   "outputs": [
    {
     "data": {
      "text/plain": [
       "Text(0.5, 1, 'Grouped Bar Chart of Loan Outcome \\n by Derived Race')"
      ]
     },
     "execution_count": 71,
     "metadata": {},
     "output_type": "execute_result"
    },
    {
     "data": {
      "image/png": "[encoded data removed]",
      "text/plain": [
       "<Figure size 677.625x396 with 1 Axes>"
      ]
     },
     "metadata": {
      "needs_background": "light"
     },
     "output_type": "display_data"
    }
   ],
   "source": [
    "g4 = sns.catplot(x='derived_race', kind = \"count\", data=cont_data, \n",
    "                 legend_out = True, height = 5.5, aspect = 1.5, hue = 'action_taken')\n",
    "g4.set_xticklabels(rotation=30, ha=\"right\")\n",
    "g4._legend.set_title('Action Taken')\n",
    "plt.xlabel('Derived Race')\n",
    "plt.suptitle(\"Grouped Bar Chart of Loan Outcome \\n by Derived Race\",  y = 1)\n",
    "\n",
    "#for t, l in zip(g._legend.texts, new_labels): t.set_text(l)"
   ]
  },
  {
   "cell_type": "markdown",
   "id": "6c411182",
   "metadata": {},
   "source": [
    "## Testing for difference in proportions"
   ]
  },
  {
   "cell_type": "markdown",
   "id": "3c78ac6a",
   "metadata": {},
   "source": [
    "### Sex"
   ]
  },
  {
   "cell_type": "code",
   "execution_count": 72,
   "id": "5bcb52f5",
   "metadata": {},
   "outputs": [
    {
     "data": {
      "text/html": [
       "<div>\n",
       "<style scoped>\n",
       "    .dataframe tbody tr th:only-of-type {\n",
       "        vertical-align: middle;\n",
       "    }\n",
       "\n",
       "    .dataframe tbody tr th {\n",
       "        vertical-align: top;\n",
       "    }\n",
       "\n",
       "    .dataframe thead th {\n",
       "        text-align: right;\n",
       "    }\n",
       "</style>\n",
       "<table border=\"1\" class=\"dataframe\">\n",
       "  <thead>\n",
       "    <tr style=\"text-align: right;\">\n",
       "      <th>action_taken</th>\n",
       "      <th>Approved</th>\n",
       "      <th>Denied</th>\n",
       "    </tr>\n",
       "    <tr>\n",
       "      <th>derived_sex</th>\n",
       "      <th></th>\n",
       "      <th></th>\n",
       "    </tr>\n",
       "  </thead>\n",
       "  <tbody>\n",
       "    <tr>\n",
       "      <th>Female</th>\n",
       "      <td>217739</td>\n",
       "      <td>96518</td>\n",
       "    </tr>\n",
       "    <tr>\n",
       "      <th>Male</th>\n",
       "      <td>341274</td>\n",
       "      <td>134392</td>\n",
       "    </tr>\n",
       "  </tbody>\n",
       "</table>\n",
       "</div>"
      ],
      "text/plain": [
       "action_taken  Approved  Denied\n",
       "derived_sex                   \n",
       "Female          217739   96518\n",
       "Male            341274  134392"
      ]
     },
     "execution_count": 72,
     "metadata": {},
     "output_type": "execute_result"
    }
   ],
   "source": [
    "cont_data = cont_data[cont_data.derived_sex != 'Joint']\n",
    "cont_table = pd.crosstab(cont_data.derived_sex,cont_data.action_taken)\n",
    "cont_table"
   ]
  },
  {
   "cell_type": "code",
   "execution_count": 73,
   "id": "6aeb21dd",
   "metadata": {},
   "outputs": [
    {
     "data": {
      "text/html": [
       "<div>\n",
       "<style scoped>\n",
       "    .dataframe tbody tr th:only-of-type {\n",
       "        vertical-align: middle;\n",
       "    }\n",
       "\n",
       "    .dataframe tbody tr th {\n",
       "        vertical-align: top;\n",
       "    }\n",
       "\n",
       "    .dataframe thead th {\n",
       "        text-align: right;\n",
       "    }\n",
       "</style>\n",
       "<table border=\"1\" class=\"dataframe\">\n",
       "  <thead>\n",
       "    <tr style=\"text-align: right;\">\n",
       "      <th>derived_sex</th>\n",
       "      <th>Female</th>\n",
       "      <th>Male</th>\n",
       "    </tr>\n",
       "    <tr>\n",
       "      <th>action_taken</th>\n",
       "      <th></th>\n",
       "      <th></th>\n",
       "    </tr>\n",
       "  </thead>\n",
       "  <tbody>\n",
       "    <tr>\n",
       "      <th>Approved</th>\n",
       "      <td>0.693</td>\n",
       "      <td>0.717</td>\n",
       "    </tr>\n",
       "    <tr>\n",
       "      <th>Denied</th>\n",
       "      <td>0.307</td>\n",
       "      <td>0.283</td>\n",
       "    </tr>\n",
       "  </tbody>\n",
       "</table>\n",
       "</div>"
      ],
      "text/plain": [
       "derived_sex   Female  Male\n",
       "action_taken              \n",
       "Approved       0.693 0.717\n",
       "Denied         0.307 0.283"
      ]
     },
     "execution_count": 73,
     "metadata": {},
     "output_type": "execute_result"
    }
   ],
   "source": [
    "pd.crosstab(cont_data.action_taken, cont_data.derived_sex).apply(lambda r:r/r.sum(),axis=0)"
   ]
  },
  {
   "cell_type": "code",
   "execution_count": 74,
   "id": "273a9649",
   "metadata": {},
   "outputs": [],
   "source": [
    "prop = cont_data.groupby(\"derived_sex\")[\"action_taken\"].agg([lambda z: np.mean(z==\"Approved\"), \"size\"])\n",
    "prop.columns = ['proportions_approved','totals']\n",
    "\n",
    "approved_prop = (cont_data.action_taken == \"Approved\").mean()"
   ]
  },
  {
   "cell_type": "code",
   "execution_count": 75,
   "id": "515295b5",
   "metadata": {},
   "outputs": [
    {
     "name": "stdout",
     "output_type": "stream",
     "text": [
      "Z-statistic: -23.52\n",
      "P-value: 2.546549412438578e-122\n"
     ]
    }
   ],
   "source": [
    "approved_prop = (cont_data.action_taken == \"Approved\").mean()\n",
    "var = approved_prop * (1 - approved_prop)\n",
    "SE = np.sqrt(var * (1 / prop.totals['Female'] + 1 / prop.totals['Male']))\n",
    "\n",
    "b_est = (prop.proportions_approved.Female - prop.proportions_approved.Male)\n",
    "\n",
    "h0_est = 0\n",
    "test_stat = ((b_est-h0_est) / SE).round(2)\n",
    "print(\"Z-statistic:\",test_stat)\n",
    "\n",
    "# p-value\n",
    "pval = 2*dist.norm.cdf(-np.abs(test_stat)) \n",
    "print(\"P-value:\", pval)"
   ]
  },
  {
   "cell_type": "code",
   "execution_count": 76,
   "id": "9e0a9820",
   "metadata": {},
   "outputs": [],
   "source": [
    "res_test = pd.crosstab(cont_data.action_taken, cont_data.derived_sex)"
   ]
  },
  {
   "cell_type": "code",
   "execution_count": 77,
   "id": "53e23bff",
   "metadata": {},
   "outputs": [
    {
     "name": "stdout",
     "output_type": "stream",
     "text": [
      "2.2763010656611945e-122\n"
     ]
    }
   ],
   "source": [
    "count = np.array([res_test['Female']['Approved'], res_test['Male']['Approved']])\n",
    "nobs = np.array([res_test['Female'].sum(), res_test['Male'].sum()])\n",
    "stat, pval = proportions_ztest(count, nobs)\n",
    "print(pval)"
   ]
  },
  {
   "cell_type": "code",
   "execution_count": 78,
   "id": "f3b92f69",
   "metadata": {},
   "outputs": [
    {
     "name": "stdout",
     "output_type": "stream",
     "text": [
      "Upper Tailed P-value: 1.1381505328305972e-122\n",
      "Upper Tailed Z-statistic: -23.52476081982678\n"
     ]
    }
   ],
   "source": [
    "count = np.array([res_test['Female']['Approved'], res_test['Male']['Approved']])\n",
    "nobs = np.array([res_test['Female'].sum(), res_test['Male'].sum()])\n",
    "stat, pval = proportions_ztest(count, nobs, value =0.0, alternative = 'smaller')\n",
    "print('Upper Tailed P-value:',pval)\n",
    "print('Upper Tailed Z-statistic:',stat)"
   ]
  },
  {
   "cell_type": "markdown",
   "id": "b855c7ec",
   "metadata": {},
   "source": [
    "### Race"
   ]
  },
  {
   "cell_type": "code",
   "execution_count": 79,
   "id": "e393f2e4",
   "metadata": {},
   "outputs": [],
   "source": [
    "cont_data_race = cont_data[cont_data.derived_race != 'Joint']"
   ]
  },
  {
   "cell_type": "code",
   "execution_count": 80,
   "id": "41a74f03",
   "metadata": {},
   "outputs": [
    {
     "data": {
      "text/html": [
       "<div>\n",
       "<style scoped>\n",
       "    .dataframe tbody tr th:only-of-type {\n",
       "        vertical-align: middle;\n",
       "    }\n",
       "\n",
       "    .dataframe tbody tr th {\n",
       "        vertical-align: top;\n",
       "    }\n",
       "\n",
       "    .dataframe thead th {\n",
       "        text-align: right;\n",
       "    }\n",
       "</style>\n",
       "<table border=\"1\" class=\"dataframe\">\n",
       "  <thead>\n",
       "    <tr style=\"text-align: right;\">\n",
       "      <th>derived_race</th>\n",
       "      <th>2 or more minority races</th>\n",
       "      <th>American Indian or Alaska Native</th>\n",
       "      <th>Asian</th>\n",
       "      <th>Black or African American</th>\n",
       "      <th>Native Hawaiian or Other Pacific Islander</th>\n",
       "      <th>White</th>\n",
       "    </tr>\n",
       "    <tr>\n",
       "      <th>action_taken</th>\n",
       "      <th></th>\n",
       "      <th></th>\n",
       "      <th></th>\n",
       "      <th></th>\n",
       "      <th></th>\n",
       "      <th></th>\n",
       "    </tr>\n",
       "  </thead>\n",
       "  <tbody>\n",
       "    <tr>\n",
       "      <th>Approved</th>\n",
       "      <td>0.440</td>\n",
       "      <td>0.448</td>\n",
       "      <td>0.715</td>\n",
       "      <td>0.542</td>\n",
       "      <td>0.354</td>\n",
       "      <td>0.732</td>\n",
       "    </tr>\n",
       "    <tr>\n",
       "      <th>Denied</th>\n",
       "      <td>0.560</td>\n",
       "      <td>0.552</td>\n",
       "      <td>0.285</td>\n",
       "      <td>0.458</td>\n",
       "      <td>0.646</td>\n",
       "      <td>0.268</td>\n",
       "    </tr>\n",
       "  </tbody>\n",
       "</table>\n",
       "</div>"
      ],
      "text/plain": [
       "derived_race  2 or more minority races  American Indian or Alaska Native  \\\n",
       "action_taken                                                               \n",
       "Approved                         0.440                             0.448   \n",
       "Denied                           0.560                             0.552   \n",
       "\n",
       "derived_race  Asian  Black or African American  \\\n",
       "action_taken                                     \n",
       "Approved      0.715                      0.542   \n",
       "Denied        0.285                      0.458   \n",
       "\n",
       "derived_race  Native Hawaiian or Other Pacific Islander  White  \n",
       "action_taken                                                    \n",
       "Approved                                          0.354  0.732  \n",
       "Denied                                            0.646  0.268  "
      ]
     },
     "execution_count": 80,
     "metadata": {},
     "output_type": "execute_result"
    }
   ],
   "source": [
    "cont_table_race = pd.crosstab(cont_data_race.action_taken,cont_data_race.derived_race)\n",
    "cont_table_race.apply(lambda r:r/r.sum(),axis=0)"
   ]
  },
  {
   "cell_type": "code",
   "execution_count": 81,
   "id": "96e95491",
   "metadata": {},
   "outputs": [],
   "source": [
    "chi_2_results = chi2_contingency(cont_table_race)\n",
    "chi, pvalue, dof, exp = chi2_contingency(cont_table_race)"
   ]
  },
  {
   "cell_type": "code",
   "execution_count": 82,
   "id": "ee3f1847",
   "metadata": {},
   "outputs": [
    {
     "data": {
      "text/plain": [
       "Index(['2 or more minority races', 'American Indian or Alaska Native', 'Asian',\n",
       "       'Black or African American',\n",
       "       'Native Hawaiian or Other Pacific Islander', 'White'],\n",
       "      dtype='object', name='derived_race')"
      ]
     },
     "execution_count": 82,
     "metadata": {},
     "output_type": "execute_result"
    }
   ],
   "source": [
    "cont_table_race.columns"
   ]
  },
  {
   "cell_type": "code",
   "execution_count": 83,
   "id": "9e5af7e3",
   "metadata": {},
   "outputs": [
    {
     "data": {
      "text/html": [
       "<div>\n",
       "<style scoped>\n",
       "    .dataframe tbody tr th:only-of-type {\n",
       "        vertical-align: middle;\n",
       "    }\n",
       "\n",
       "    .dataframe tbody tr th {\n",
       "        vertical-align: top;\n",
       "    }\n",
       "\n",
       "    .dataframe thead tr th {\n",
       "        text-align: left;\n",
       "    }\n",
       "</style>\n",
       "<table border=\"1\" class=\"dataframe\">\n",
       "  <thead>\n",
       "    <tr>\n",
       "      <th>derived_race</th>\n",
       "      <th>2 or more minority races</th>\n",
       "      <th>American Indian or Alaska Native</th>\n",
       "      <th>Asian</th>\n",
       "      <th>Black or African American</th>\n",
       "      <th>Native Hawaiian or Other Pacific Islander</th>\n",
       "      <th>White</th>\n",
       "    </tr>\n",
       "  </thead>\n",
       "  <tbody>\n",
       "    <tr>\n",
       "      <th>Approved</th>\n",
       "      <td>1569.432</td>\n",
       "      <td>4863.964</td>\n",
       "      <td>66966.893</td>\n",
       "      <td>47949.034</td>\n",
       "      <td>4440.119</td>\n",
       "      <td>431937.558</td>\n",
       "    </tr>\n",
       "    <tr>\n",
       "      <th>Denied</th>\n",
       "      <td>648.568</td>\n",
       "      <td>2010.036</td>\n",
       "      <td>27674.107</td>\n",
       "      <td>19814.966</td>\n",
       "      <td>1834.881</td>\n",
       "      <td>178498.442</td>\n",
       "    </tr>\n",
       "  </tbody>\n",
       "</table>\n",
       "</div>"
      ],
      "text/plain": [
       "derived_race 2 or more minority races American Indian or Alaska Native  \\\n",
       "Approved                     1569.432                         4863.964   \n",
       "Denied                        648.568                         2010.036   \n",
       "\n",
       "derived_race     Asian Black or African American  \\\n",
       "Approved     66966.893                 47949.034   \n",
       "Denied       27674.107                 19814.966   \n",
       "\n",
       "derived_race Native Hawaiian or Other Pacific Islander      White  \n",
       "Approved                                      4440.119 431937.558  \n",
       "Denied                                        1834.881 178498.442  "
      ]
     },
     "execution_count": 83,
     "metadata": {},
     "output_type": "execute_result"
    }
   ],
   "source": [
    "pd.DataFrame(chi_2_results[3],\n",
    "             index=['Approved','Denied'],\n",
    "             columns=[cont_table_race.columns])"
   ]
  },
  {
   "cell_type": "code",
   "execution_count": 84,
   "id": "92039770",
   "metadata": {},
   "outputs": [],
   "source": [
    "significance = 0.1\n",
    "p = 1 - significance\n",
    "dof = chi_2_results[2]\n",
    "critical_value = chi2.ppf(p, dof)"
   ]
  },
  {
   "cell_type": "code",
   "execution_count": 85,
   "id": "919597d9",
   "metadata": {},
   "outputs": [
    {
     "name": "stdout",
     "output_type": "stream",
     "text": [
      "P-value is: 0.0\n",
      "Chi Squared Statistic = 17558.332606\n",
      "Critical Value = 9.236357\n",
      "\n"
     ]
    }
   ],
   "source": [
    "print('P-value is:', pvalue)\n",
    "print('Chi Squared Statistic = %.6f\\nCritical Value = %.6f\\n' % (chi, critical_value))"
   ]
  },
  {
   "cell_type": "markdown",
   "id": "b34ef331",
   "metadata": {},
   "source": [
    "## Encoding and Scaling"
   ]
  },
  {
   "cell_type": "code",
   "execution_count": 86,
   "id": "1045a176",
   "metadata": {},
   "outputs": [],
   "source": [
    "data.to_csv('applications_cleaned.csv')"
   ]
  },
  {
   "cell_type": "code",
   "execution_count": 87,
   "id": "a462444d",
   "metadata": {},
   "outputs": [],
   "source": [
    "data = pd.get_dummies(data)"
   ]
  },
  {
   "cell_type": "code",
   "execution_count": 88,
   "id": "e1d5d83c",
   "metadata": {},
   "outputs": [],
   "source": [
    "data_copy = data.copy()\n",
    "\n",
    "data = preprocessing.MinMaxScaler().fit_transform(data)"
   ]
  },
  {
   "cell_type": "code",
   "execution_count": 89,
   "id": "22e87427",
   "metadata": {},
   "outputs": [
    {
     "name": "stdout",
     "output_type": "stream",
     "text": [
      "(1383252, 26)\n"
     ]
    },
    {
     "data": {
      "text/plain": [
       "(1383252,)"
      ]
     },
     "execution_count": 89,
     "metadata": {},
     "output_type": "execute_result"
    }
   ],
   "source": [
    "print(data.shape)\n",
    "target.shape"
   ]
  },
  {
   "cell_type": "code",
   "execution_count": 90,
   "id": "29996b7c",
   "metadata": {},
   "outputs": [
    {
     "data": {
      "text/html": [
       "<div>\n",
       "<style scoped>\n",
       "    .dataframe tbody tr th:only-of-type {\n",
       "        vertical-align: middle;\n",
       "    }\n",
       "\n",
       "    .dataframe tbody tr th {\n",
       "        vertical-align: top;\n",
       "    }\n",
       "\n",
       "    .dataframe thead th {\n",
       "        text-align: right;\n",
       "    }\n",
       "</style>\n",
       "<table border=\"1\" class=\"dataframe\">\n",
       "  <thead>\n",
       "    <tr style=\"text-align: right;\">\n",
       "      <th></th>\n",
       "      <th>loan_amount</th>\n",
       "      <th>income</th>\n",
       "      <th>derived_ethnicity_Hispanic or Latino</th>\n",
       "      <th>derived_ethnicity_Joint</th>\n",
       "      <th>derived_ethnicity_Not Hispanic or Latino</th>\n",
       "      <th>derived_race_2 or more minority races</th>\n",
       "      <th>derived_race_American Indian or Alaska Native</th>\n",
       "      <th>derived_race_Asian</th>\n",
       "      <th>derived_race_Black or African American</th>\n",
       "      <th>derived_race_Joint</th>\n",
       "      <th>derived_race_Native Hawaiian or Other Pacific Islander</th>\n",
       "      <th>derived_race_White</th>\n",
       "      <th>derived_sex_Female</th>\n",
       "      <th>derived_sex_Joint</th>\n",
       "      <th>derived_sex_Male</th>\n",
       "      <th>loan_type_1</th>\n",
       "      <th>loan_type_2</th>\n",
       "      <th>loan_type_3</th>\n",
       "      <th>loan_type_4</th>\n",
       "      <th>applicant_age_25-34</th>\n",
       "      <th>applicant_age_35-44</th>\n",
       "      <th>applicant_age_45-54</th>\n",
       "      <th>applicant_age_55-64</th>\n",
       "      <th>applicant_age_65-74</th>\n",
       "      <th>applicant_age_&lt;25</th>\n",
       "      <th>applicant_age_&gt;74</th>\n",
       "    </tr>\n",
       "  </thead>\n",
       "  <tbody>\n",
       "    <tr>\n",
       "      <th>824843</th>\n",
       "      <td>0.350</td>\n",
       "      <td>0.063</td>\n",
       "      <td>0.000</td>\n",
       "      <td>0.000</td>\n",
       "      <td>1.000</td>\n",
       "      <td>0.000</td>\n",
       "      <td>0.000</td>\n",
       "      <td>0.000</td>\n",
       "      <td>0.000</td>\n",
       "      <td>0.000</td>\n",
       "      <td>0.000</td>\n",
       "      <td>1.000</td>\n",
       "      <td>0.000</td>\n",
       "      <td>1.000</td>\n",
       "      <td>0.000</td>\n",
       "      <td>1.000</td>\n",
       "      <td>0.000</td>\n",
       "      <td>0.000</td>\n",
       "      <td>0.000</td>\n",
       "      <td>0.000</td>\n",
       "      <td>1.000</td>\n",
       "      <td>0.000</td>\n",
       "      <td>0.000</td>\n",
       "      <td>0.000</td>\n",
       "      <td>0.000</td>\n",
       "      <td>0.000</td>\n",
       "    </tr>\n",
       "    <tr>\n",
       "      <th>538913</th>\n",
       "      <td>0.285</td>\n",
       "      <td>0.066</td>\n",
       "      <td>0.000</td>\n",
       "      <td>0.000</td>\n",
       "      <td>1.000</td>\n",
       "      <td>0.000</td>\n",
       "      <td>0.000</td>\n",
       "      <td>0.000</td>\n",
       "      <td>0.000</td>\n",
       "      <td>0.000</td>\n",
       "      <td>0.000</td>\n",
       "      <td>1.000</td>\n",
       "      <td>0.000</td>\n",
       "      <td>0.000</td>\n",
       "      <td>1.000</td>\n",
       "      <td>1.000</td>\n",
       "      <td>0.000</td>\n",
       "      <td>0.000</td>\n",
       "      <td>0.000</td>\n",
       "      <td>0.000</td>\n",
       "      <td>0.000</td>\n",
       "      <td>1.000</td>\n",
       "      <td>0.000</td>\n",
       "      <td>0.000</td>\n",
       "      <td>0.000</td>\n",
       "      <td>0.000</td>\n",
       "    </tr>\n",
       "    <tr>\n",
       "      <th>602981</th>\n",
       "      <td>0.163</td>\n",
       "      <td>0.024</td>\n",
       "      <td>0.000</td>\n",
       "      <td>0.000</td>\n",
       "      <td>1.000</td>\n",
       "      <td>0.000</td>\n",
       "      <td>0.000</td>\n",
       "      <td>0.000</td>\n",
       "      <td>0.000</td>\n",
       "      <td>0.000</td>\n",
       "      <td>0.000</td>\n",
       "      <td>1.000</td>\n",
       "      <td>0.000</td>\n",
       "      <td>1.000</td>\n",
       "      <td>0.000</td>\n",
       "      <td>1.000</td>\n",
       "      <td>0.000</td>\n",
       "      <td>0.000</td>\n",
       "      <td>0.000</td>\n",
       "      <td>1.000</td>\n",
       "      <td>0.000</td>\n",
       "      <td>0.000</td>\n",
       "      <td>0.000</td>\n",
       "      <td>0.000</td>\n",
       "      <td>0.000</td>\n",
       "      <td>0.000</td>\n",
       "    </tr>\n",
       "    <tr>\n",
       "      <th>1013829</th>\n",
       "      <td>0.366</td>\n",
       "      <td>0.073</td>\n",
       "      <td>0.000</td>\n",
       "      <td>0.000</td>\n",
       "      <td>1.000</td>\n",
       "      <td>0.000</td>\n",
       "      <td>0.000</td>\n",
       "      <td>0.000</td>\n",
       "      <td>0.000</td>\n",
       "      <td>0.000</td>\n",
       "      <td>0.000</td>\n",
       "      <td>1.000</td>\n",
       "      <td>1.000</td>\n",
       "      <td>0.000</td>\n",
       "      <td>0.000</td>\n",
       "      <td>1.000</td>\n",
       "      <td>0.000</td>\n",
       "      <td>0.000</td>\n",
       "      <td>0.000</td>\n",
       "      <td>0.000</td>\n",
       "      <td>1.000</td>\n",
       "      <td>0.000</td>\n",
       "      <td>0.000</td>\n",
       "      <td>0.000</td>\n",
       "      <td>0.000</td>\n",
       "      <td>0.000</td>\n",
       "    </tr>\n",
       "    <tr>\n",
       "      <th>218448</th>\n",
       "      <td>0.081</td>\n",
       "      <td>0.063</td>\n",
       "      <td>0.000</td>\n",
       "      <td>0.000</td>\n",
       "      <td>1.000</td>\n",
       "      <td>0.000</td>\n",
       "      <td>0.000</td>\n",
       "      <td>1.000</td>\n",
       "      <td>0.000</td>\n",
       "      <td>0.000</td>\n",
       "      <td>0.000</td>\n",
       "      <td>0.000</td>\n",
       "      <td>0.000</td>\n",
       "      <td>1.000</td>\n",
       "      <td>0.000</td>\n",
       "      <td>1.000</td>\n",
       "      <td>0.000</td>\n",
       "      <td>0.000</td>\n",
       "      <td>0.000</td>\n",
       "      <td>0.000</td>\n",
       "      <td>1.000</td>\n",
       "      <td>0.000</td>\n",
       "      <td>0.000</td>\n",
       "      <td>0.000</td>\n",
       "      <td>0.000</td>\n",
       "      <td>0.000</td>\n",
       "    </tr>\n",
       "  </tbody>\n",
       "</table>\n",
       "</div>"
      ],
      "text/plain": [
       "         loan_amount  income  derived_ethnicity_Hispanic or Latino  \\\n",
       "824843         0.350   0.063                                 0.000   \n",
       "538913         0.285   0.066                                 0.000   \n",
       "602981         0.163   0.024                                 0.000   \n",
       "1013829        0.366   0.073                                 0.000   \n",
       "218448         0.081   0.063                                 0.000   \n",
       "\n",
       "         derived_ethnicity_Joint  derived_ethnicity_Not Hispanic or Latino  \\\n",
       "824843                     0.000                                     1.000   \n",
       "538913                     0.000                                     1.000   \n",
       "602981                     0.000                                     1.000   \n",
       "1013829                    0.000                                     1.000   \n",
       "218448                     0.000                                     1.000   \n",
       "\n",
       "         derived_race_2 or more minority races  \\\n",
       "824843                                   0.000   \n",
       "538913                                   0.000   \n",
       "602981                                   0.000   \n",
       "1013829                                  0.000   \n",
       "218448                                   0.000   \n",
       "\n",
       "         derived_race_American Indian or Alaska Native  derived_race_Asian  \\\n",
       "824843                                           0.000               0.000   \n",
       "538913                                           0.000               0.000   \n",
       "602981                                           0.000               0.000   \n",
       "1013829                                          0.000               0.000   \n",
       "218448                                           0.000               1.000   \n",
       "\n",
       "         derived_race_Black or African American  derived_race_Joint  \\\n",
       "824843                                    0.000               0.000   \n",
       "538913                                    0.000               0.000   \n",
       "602981                                    0.000               0.000   \n",
       "1013829                                   0.000               0.000   \n",
       "218448                                    0.000               0.000   \n",
       "\n",
       "         derived_race_Native Hawaiian or Other Pacific Islander  \\\n",
       "824843                                               0.000        \n",
       "538913                                               0.000        \n",
       "602981                                               0.000        \n",
       "1013829                                              0.000        \n",
       "218448                                               0.000        \n",
       "\n",
       "         derived_race_White  derived_sex_Female  derived_sex_Joint  \\\n",
       "824843                1.000               0.000              1.000   \n",
       "538913                1.000               0.000              0.000   \n",
       "602981                1.000               0.000              1.000   \n",
       "1013829               1.000               1.000              0.000   \n",
       "218448                0.000               0.000              1.000   \n",
       "\n",
       "         derived_sex_Male  loan_type_1  loan_type_2  loan_type_3  loan_type_4  \\\n",
       "824843              0.000        1.000        0.000        0.000        0.000   \n",
       "538913              1.000        1.000        0.000        0.000        0.000   \n",
       "602981              0.000        1.000        0.000        0.000        0.000   \n",
       "1013829             0.000        1.000        0.000        0.000        0.000   \n",
       "218448              0.000        1.000        0.000        0.000        0.000   \n",
       "\n",
       "         applicant_age_25-34  applicant_age_35-44  applicant_age_45-54  \\\n",
       "824843                 0.000                1.000                0.000   \n",
       "538913                 0.000                0.000                1.000   \n",
       "602981                 1.000                0.000                0.000   \n",
       "1013829                0.000                1.000                0.000   \n",
       "218448                 0.000                1.000                0.000   \n",
       "\n",
       "         applicant_age_55-64  applicant_age_65-74  applicant_age_<25  \\\n",
       "824843                 0.000                0.000              0.000   \n",
       "538913                 0.000                0.000              0.000   \n",
       "602981                 0.000                0.000              0.000   \n",
       "1013829                0.000                0.000              0.000   \n",
       "218448                 0.000                0.000              0.000   \n",
       "\n",
       "         applicant_age_>74  \n",
       "824843               0.000  \n",
       "538913               0.000  \n",
       "602981               0.000  \n",
       "1013829              0.000  \n",
       "218448               0.000  "
      ]
     },
     "execution_count": 90,
     "metadata": {},
     "output_type": "execute_result"
    }
   ],
   "source": [
    "pd.DataFrame(data, columns=data_copy.columns).sample(5, random_state=999)"
   ]
  },
  {
   "cell_type": "markdown",
   "id": "4af8b2fb",
   "metadata": {},
   "source": [
    "## Feature Selection"
   ]
  },
  {
   "cell_type": "markdown",
   "id": "4ec7ce11",
   "metadata": {},
   "source": [
    "### All Features"
   ]
  },
  {
   "cell_type": "code",
   "execution_count": 91,
   "id": "2d35c39b",
   "metadata": {},
   "outputs": [],
   "source": [
    "clf = DecisionTreeClassifier(random_state=999)\n",
    "\n",
    "cv_method = RepeatedStratifiedKFold(n_splits=3, \n",
    "                                    n_repeats=2,\n",
    "                                    random_state=999)\n",
    "scoring_metric = 'accuracy'"
   ]
  },
  {
   "cell_type": "code",
   "execution_count": 92,
   "id": "a0d1e103",
   "metadata": {},
   "outputs": [
    {
     "name": "stdout",
     "output_type": "stream",
     "text": [
      "--- 25.679020404815674 seconds ---\n",
      "0.76572\n"
     ]
    },
    {
     "data": {
      "text/plain": [
       "array([0.76571948, 0.76531825, 0.7656349 , 0.76541801, 0.76640048,\n",
       "       0.76585178])"
      ]
     },
     "execution_count": 92,
     "metadata": {},
     "output_type": "execute_result"
    }
   ],
   "source": [
    "start_time = time.time()\n",
    "\n",
    "cv_results_all = cross_val_score(estimator=clf,\n",
    "                             X=data,\n",
    "                             y=target, \n",
    "                             cv=cv_method, \n",
    "                             n_jobs = 2,\n",
    "                             scoring=scoring_metric)\n",
    "\n",
    "print(\"--- %s seconds ---\" % (time.time() - start_time))\n",
    "\n",
    "print(cv_results_all.mean().round(5))\n",
    "\n",
    "cv_results_all"
   ]
  },
  {
   "cell_type": "markdown",
   "id": "df0bf259",
   "metadata": {},
   "source": [
    "### Random Forest Importance"
   ]
  },
  {
   "cell_type": "code",
   "execution_count": 93,
   "id": "4dce0833",
   "metadata": {},
   "outputs": [],
   "source": [
    "num_features = 10"
   ]
  },
  {
   "cell_type": "code",
   "execution_count": 94,
   "id": "38f7ae73",
   "metadata": {},
   "outputs": [
    {
     "name": "stdout",
     "output_type": "stream",
     "text": [
      "--- 280.39093041419983 seconds ---\n"
     ]
    }
   ],
   "source": [
    "start_time = time.time()\n",
    "\n",
    "model_rfi = RandomForestClassifier(n_estimators=100)\n",
    "model_rfi.fit(data, target)\n",
    "fs_indices_rfi = np.argsort(model_rfi.feature_importances_)[::-1][0:num_features]\n",
    "\n",
    "print(\"--- %s seconds ---\" % (time.time() - start_time))"
   ]
  },
  {
   "cell_type": "code",
   "execution_count": 95,
   "id": "fe457835",
   "metadata": {},
   "outputs": [
    {
     "data": {
      "text/plain": [
       "array(['income', 'loan_amount', 'applicant_age_25-34',\n",
       "       'derived_race_White', 'derived_race_Black or African American',\n",
       "       'derived_ethnicity_Hispanic or Latino', 'derived_sex_Joint',\n",
       "       'derived_ethnicity_Not Hispanic or Latino', 'applicant_age_35-44',\n",
       "       'applicant_age_>74'], dtype=object)"
      ]
     },
     "execution_count": 95,
     "metadata": {},
     "output_type": "execute_result"
    }
   ],
   "source": [
    "best_features_rfi = data_copy.columns[fs_indices_rfi].values\n",
    "best_features_rfi"
   ]
  },
  {
   "cell_type": "code",
   "execution_count": 96,
   "id": "b94f8f84",
   "metadata": {},
   "outputs": [
    {
     "data": {
      "text/plain": [
       "array([0.45896545, 0.44600568, 0.01634115, 0.01075504, 0.00758988,\n",
       "       0.00699345, 0.00685081, 0.00588912, 0.0051462 , 0.00371516])"
      ]
     },
     "execution_count": 96,
     "metadata": {},
     "output_type": "execute_result"
    }
   ],
   "source": [
    "feature_importances_rfi = model_rfi.feature_importances_[fs_indices_rfi]\n",
    "feature_importances_rfi"
   ]
  },
  {
   "cell_type": "code",
   "execution_count": 97,
   "id": "dc8930f7",
   "metadata": {},
   "outputs": [],
   "source": [
    "def plot_imp(best_features, scores, method_name):   \n",
    "    plt.barh(best_features, scores)\n",
    "    plt.title(method_name + ' Feature Importance', x=0.15)\n",
    "    plt.xlabel(\"Importance\")\n",
    "    plt.ylabel(\"Features\")\n",
    "    plt.show()"
   ]
  },
  {
   "cell_type": "code",
   "execution_count": 98,
   "id": "2aebc103",
   "metadata": {},
   "outputs": [
    {
     "data": {
      "image/png": "[encoded data removed]",
      "text/plain": [
       "<Figure size 432x288 with 1 Axes>"
      ]
     },
     "metadata": {
      "needs_background": "light"
     },
     "output_type": "display_data"
    }
   ],
   "source": [
    "plot_imp(best_features_rfi, feature_importances_rfi, 'Random Forest Feature Importance')"
   ]
  },
  {
   "cell_type": "code",
   "execution_count": 99,
   "id": "c8857381",
   "metadata": {},
   "outputs": [
    {
     "name": "stdout",
     "output_type": "stream",
     "text": [
      "--- 12.152587413787842 seconds ---\n"
     ]
    },
    {
     "data": {
      "text/plain": [
       "0.78201"
      ]
     },
     "execution_count": 99,
     "metadata": {},
     "output_type": "execute_result"
    }
   ],
   "source": [
    "start_time = time.time()\n",
    "\n",
    "cv_results_rfi = cross_val_score(estimator=clf,\n",
    "                             X=data[:, fs_indices_rfi],\n",
    "                             y=target, \n",
    "                             cv=cv_method, \n",
    "                             n_jobs = 2,\n",
    "                             scoring=scoring_metric)\n",
    "\n",
    "print(\"--- %s seconds ---\" % (time.time() - start_time))\n",
    "\n",
    "cv_results_rfi.mean().round(5)"
   ]
  },
  {
   "cell_type": "code",
   "execution_count": 100,
   "id": "528427f7",
   "metadata": {},
   "outputs": [
    {
     "data": {
      "text/plain": [
       "array([0.78183585, 0.78139124, 0.78214599, 0.78162547, 0.78265999,\n",
       "       0.78240407])"
      ]
     },
     "execution_count": 100,
     "metadata": {},
     "output_type": "execute_result"
    }
   ],
   "source": [
    "cv_results_rfi"
   ]
  },
  {
   "cell_type": "markdown",
   "id": "96fc5ea4",
   "metadata": {},
   "source": [
    "\n",
    "\n",
    "\n"
   ]
  },
  {
   "cell_type": "markdown",
   "id": "68558f41",
   "metadata": {},
   "source": [
    "## Feature Selection Using F Score"
   ]
  },
  {
   "cell_type": "code",
   "execution_count": 101,
   "id": "dc3337ec",
   "metadata": {},
   "outputs": [],
   "source": [
    "num_features = 10\n",
    "\n",
    "fs_fit_fscore = fs.SelectKBest(fs.f_classif, k=num_features)\n",
    "\n",
    "fs_fit_fscore.fit_transform(data, target)\n",
    "\n",
    "fs_indices_fscore = np.argsort(np.nan_to_num(fs_fit_fscore.scores_))[::-1][0:num_features]"
   ]
  },
  {
   "cell_type": "code",
   "execution_count": 102,
   "id": "127d32ec",
   "metadata": {},
   "outputs": [
    {
     "data": {
      "text/plain": [
       "array(['loan_amount', 'applicant_age_25-34', 'income',\n",
       "       'derived_race_Black or African American',\n",
       "       'derived_ethnicity_Hispanic or Latino', 'derived_sex_Joint',\n",
       "       'derived_ethnicity_Not Hispanic or Latino', 'derived_race_White',\n",
       "       'applicant_age_>74', 'applicant_age_55-64'], dtype=object)"
      ]
     },
     "execution_count": 102,
     "metadata": {},
     "output_type": "execute_result"
    }
   ],
   "source": [
    "best_features_fscore = data_copy.columns[fs_indices_fscore].values\n",
    "best_features_fscore"
   ]
  },
  {
   "cell_type": "code",
   "execution_count": 103,
   "id": "8854e821",
   "metadata": {},
   "outputs": [
    {
     "data": {
      "text/plain": [
       "array([121151.37818666,  24907.69341967,  19358.47710449,  17695.89138089,\n",
       "        16298.79873953,  15025.48795794,  14131.46436406,  12590.77649458,\n",
       "         6594.94587142,   6321.37499705])"
      ]
     },
     "execution_count": 103,
     "metadata": {},
     "output_type": "execute_result"
    }
   ],
   "source": [
    "feature_importances_fscore = fs_fit_fscore.scores_[fs_indices_fscore]\n",
    "feature_importances_fscore"
   ]
  },
  {
   "cell_type": "code",
   "execution_count": 104,
   "id": "1f358ddf",
   "metadata": {},
   "outputs": [
    {
     "data": {
      "image/png": "[encoded data removed]",
      "text/plain": [
       "<Figure size 432x288 with 1 Axes>"
      ]
     },
     "metadata": {
      "needs_background": "light"
     },
     "output_type": "display_data"
    }
   ],
   "source": [
    "plot_imp(best_features_fscore, feature_importances_fscore, 'F-Score')"
   ]
  },
  {
   "cell_type": "code",
   "execution_count": 105,
   "id": "1965762f",
   "metadata": {},
   "outputs": [
    {
     "data": {
      "text/plain": [
       "(1383252, 10)"
      ]
     },
     "execution_count": 105,
     "metadata": {},
     "output_type": "execute_result"
    }
   ],
   "source": [
    "data[:, fs_indices_fscore].shape"
   ]
  },
  {
   "cell_type": "code",
   "execution_count": 106,
   "id": "4727087f",
   "metadata": {},
   "outputs": [
    {
     "name": "stdout",
     "output_type": "stream",
     "text": [
      "--- 14.832571029663086 seconds ---\n"
     ]
    },
    {
     "data": {
      "text/plain": [
       "0.78159"
      ]
     },
     "execution_count": 106,
     "metadata": {},
     "output_type": "execute_result"
    }
   ],
   "source": [
    "start_time = time.time()\n",
    "cv_results_fscore = cross_val_score(estimator=clf,\n",
    "                             X=data[:, fs_indices_fscore],\n",
    "                             y=target,\n",
    "                             n_jobs = 2,\n",
    "                             cv=cv_method, \n",
    "                             scoring=scoring_metric)\n",
    "\n",
    "print(\"--- %s seconds ---\" % (time.time() - start_time))\n",
    "\n",
    "cv_results_fscore.mean().round(5)"
   ]
  },
  {
   "cell_type": "code",
   "execution_count": 107,
   "id": "ecf7f2e5",
   "metadata": {},
   "outputs": [
    {
     "data": {
      "text/plain": [
       "(1383252, 10)"
      ]
     },
     "execution_count": 107,
     "metadata": {},
     "output_type": "execute_result"
    }
   ],
   "source": [
    "data[:, fs_indices_fscore].shape"
   ]
  },
  {
   "cell_type": "markdown",
   "id": "367cba58",
   "metadata": {},
   "source": [
    "## Hyperparameter Tuning"
   ]
  },
  {
   "cell_type": "markdown",
   "id": "0ac98a8a",
   "metadata": {},
   "source": [
    "### KNN Tuning"
   ]
  },
  {
   "cell_type": "code",
   "execution_count": 108,
   "id": "36ba3dcb",
   "metadata": {},
   "outputs": [
    {
     "name": "stdout",
     "output_type": "stream",
     "text": [
      "(100000, 26)\n",
      "(100000, 1)\n"
     ]
    }
   ],
   "source": [
    "num_samples = 100000\n",
    "data_sample = pd.DataFrame(data).sample(n=num_samples, random_state=999).values\n",
    "target_sample = pd.DataFrame(target).sample(n=num_samples, random_state=999).values\n",
    "\n",
    "print(data_sample.shape)\n",
    "print(target_sample.shape)"
   ]
  },
  {
   "cell_type": "code",
   "execution_count": 109,
   "id": "44f3b64a",
   "metadata": {},
   "outputs": [
    {
     "name": "stdout",
     "output_type": "stream",
     "text": [
      "(70000, 26)\n",
      "(30000, 26)\n",
      "(70000, 1)\n",
      "(30000, 1)\n"
     ]
    }
   ],
   "source": [
    "train_data, test_data, \\\n",
    "train_target, test_target = train_test_split(data_sample, target_sample, \n",
    "                                                    test_size = 0.3, random_state=999,\n",
    "                                                    stratify = target_sample)\n",
    "\n",
    "print(train_data.shape)\n",
    "print(test_data.shape)\n",
    "print(train_target.shape)\n",
    "print(test_target.shape)"
   ]
  },
  {
   "cell_type": "code",
   "execution_count": 110,
   "id": "b28aca7d",
   "metadata": {},
   "outputs": [],
   "source": [
    "def get_search_results(gs):\n",
    "\n",
    "    def model_result(scores, params):\n",
    "        scores = {'mean_score': np.mean(scores),\n",
    "             'std_score': np.std(scores),\n",
    "             'min_score': np.min(scores),\n",
    "             'max_score': np.max(scores)}\n",
    "        return pd.Series({**params,**scores})\n",
    "\n",
    "    models = []\n",
    "    scores = []\n",
    "\n",
    "    for i in range(gs.n_splits_):\n",
    "        key = f\"split{i}_test_score\"\n",
    "        r = gs.cv_results_[key]        \n",
    "        scores.append(r.reshape(-1,1))\n",
    "\n",
    "    all_scores = np.hstack(scores)\n",
    "    for p, s in zip(gs.cv_results_['params'], all_scores):\n",
    "        models.append((model_result(s, p)))\n",
    "\n",
    "    pipe_results = pd.concat(models, axis=1).T.sort_values(['mean_score'], ascending=False)\n",
    "\n",
    "    columns_first = ['mean_score', 'std_score', 'max_score', 'min_score']\n",
    "    columns = columns_first + [c for c in pipe_results.columns if c not in columns_first]\n",
    "\n",
    "    return pipe_results[columns]"
   ]
  },
  {
   "cell_type": "code",
   "execution_count": 111,
   "id": "6b152938",
   "metadata": {},
   "outputs": [
    {
     "name": "stdout",
     "output_type": "stream",
     "text": [
      "Fitting 6 folds for each of 24 candidates, totalling 144 fits\n",
      "--- 814.691032409668 seconds ---\n",
      "0.8050428625734094\n",
      "{'fscore__k': 5, 'fscore__score_func': <function f_classif at 0x000002118EBEDC18>, 'knn__n_neighbors': 25, 'knn__p': 2}\n"
     ]
    }
   ],
   "source": [
    "pipe_knn = Pipeline([('fscore', SelectKBest()),\n",
    "                     ('knn', KNeighborsClassifier())])\n",
    "\n",
    "params = {'fscore__score_func':[f_classif],\n",
    "          'fscore__k': [5,10,20],\n",
    "          'knn__n_neighbors':([5,10,25,50]),\n",
    "          'knn__p': [1, 2]}\n",
    "\n",
    "KNN_model = GridSearchCV(pipe_knn, \n",
    "                         params,\n",
    "                         cv=cv_method,\n",
    "                         n_jobs=2,\n",
    "                         scoring=scoring_metric,\n",
    "                         verbose=1)\n",
    "\n",
    "start_time = time.time()\n",
    "KNN_model.fit(train_data, train_target.ravel())\n",
    "print(\"--- %s seconds ---\" % (time.time() - start_time))\n",
    "\n",
    "print(KNN_model.best_score_)\n",
    "print(KNN_model.best_params_)"
   ]
  },
  {
   "cell_type": "code",
   "execution_count": 112,
   "id": "ee13645f",
   "metadata": {},
   "outputs": [
    {
     "data": {
      "text/plain": [
       "0.8103666666666667"
      ]
     },
     "execution_count": 112,
     "metadata": {},
     "output_type": "execute_result"
    }
   ],
   "source": [
    "KNN_model.score(test_data, test_target)"
   ]
  },
  {
   "cell_type": "markdown",
   "id": "f31a8709",
   "metadata": {},
   "source": [
    "### NB Tuning"
   ]
  },
  {
   "cell_type": "code",
   "execution_count": 113,
   "id": "29735c02",
   "metadata": {},
   "outputs": [
    {
     "name": "stdout",
     "output_type": "stream",
     "text": [
      "(100000, 26)\n",
      "(100000, 1)\n"
     ]
    }
   ],
   "source": [
    "train_data_pwr = PowerTransformer().fit_transform(data_copy)\n",
    "\n",
    "NB_data_sample = pd.DataFrame(train_data_pwr).sample(n=num_samples, random_state=999).values\n",
    "NB_target_sample = pd.DataFrame(target).sample(n=num_samples, random_state=999).values\n",
    "\n",
    "print(NB_data_sample.shape)\n",
    "print(NB_target_sample.shape)"
   ]
  },
  {
   "cell_type": "code",
   "execution_count": 114,
   "id": "3a748ecb",
   "metadata": {},
   "outputs": [
    {
     "name": "stdout",
     "output_type": "stream",
     "text": [
      "(70000, 26)\n",
      "(30000, 26)\n",
      "(70000, 1)\n",
      "(30000, 1)\n"
     ]
    }
   ],
   "source": [
    "NB_train_data, NB_test_data, \\\n",
    "NB_train_target, NB_test_target = train_test_split(NB_data_sample, NB_target_sample, \n",
    "                                                    test_size = 0.3, random_state=999,\n",
    "                                                    stratify = NB_target_sample)\n",
    "\n",
    "print(NB_train_data.shape)\n",
    "print(NB_test_data.shape)\n",
    "print(NB_train_target.shape)\n",
    "print(NB_test_target.shape)"
   ]
  },
  {
   "cell_type": "code",
   "execution_count": 115,
   "id": "7eb86324",
   "metadata": {},
   "outputs": [],
   "source": [
    "class RFIFeatureSelector(BaseEstimator, TransformerMixin):\n",
    "    \n",
    "    def __init__(self, n_features_=10):\n",
    "        self.n_features_ = n_features_\n",
    "        self.fs_indices_ = None\n",
    "\n",
    "    def fit(self, X, y):\n",
    "        model_rfi = RandomForestClassifier(n_estimators=100)\n",
    "        model_rfi.fit(X, y)\n",
    "        self.fs_indices_ = argsort(model_rfi.feature_importances_)[::-1][0:self.n_features_] \n",
    "        return self \n",
    "    \n",
    "    def transform(self, X, y=None):\n",
    "        return X[:, self.fs_indices_]"
   ]
  },
  {
   "cell_type": "code",
   "execution_count": 116,
   "id": "17096414",
   "metadata": {},
   "outputs": [
    {
     "name": "stdout",
     "output_type": "stream",
     "text": [
      "Fitting 6 folds for each of 150 candidates, totalling 900 fits\n",
      "--- 30.162917137145996 seconds ---\n"
     ]
    }
   ],
   "source": [
    "pipe_NB = Pipeline([('fscore', SelectKBest()),\n",
    "                     ('nb', GaussianNB())])\n",
    "\n",
    "params_pipe_NB = {'fscore__k': [5,10,20],\n",
    "                  'nb__var_smoothing': np.logspace(0,1, num=50)}\n",
    "\n",
    "NB_model = GridSearchCV(estimator=pipe_NB, \n",
    "                          param_grid=params_pipe_NB, \n",
    "                          cv=cv_method,\n",
    "                          n_jobs=2,\n",
    "                          scoring=scoring_metric,\n",
    "                          \n",
    "                          verbose=1) \n",
    "\n",
    "start_time = time.time()\n",
    "NB_model.fit(NB_train_data, NB_train_target.ravel());\n",
    "print(\"--- %s seconds ---\" % (time.time() - start_time))"
   ]
  },
  {
   "cell_type": "code",
   "execution_count": 117,
   "id": "ad28bdb8",
   "metadata": {},
   "outputs": [
    {
     "data": {
      "text/plain": [
       "{'fscore__k': 10, 'nb__var_smoothing': 1.676832936811008}"
      ]
     },
     "execution_count": 117,
     "metadata": {},
     "output_type": "execute_result"
    }
   ],
   "source": [
    "NB_model.best_params_"
   ]
  },
  {
   "cell_type": "code",
   "execution_count": 118,
   "id": "6b478f51",
   "metadata": {},
   "outputs": [
    {
     "data": {
      "text/plain": [
       "Pipeline(steps=[('fscore', SelectKBest()),\n",
       "                ('nb', GaussianNB(var_smoothing=1.676832936811008))])"
      ]
     },
     "execution_count": 118,
     "metadata": {},
     "output_type": "execute_result"
    }
   ],
   "source": [
    "NB_model.best_estimator_"
   ]
  },
  {
   "cell_type": "code",
   "execution_count": 119,
   "id": "1a16261e",
   "metadata": {},
   "outputs": [
    {
     "data": {
      "text/plain": [
       "0.7656928443943425"
      ]
     },
     "execution_count": 119,
     "metadata": {},
     "output_type": "execute_result"
    }
   ],
   "source": [
    "NB_model.best_score_"
   ]
  },
  {
   "cell_type": "code",
   "execution_count": 120,
   "id": "b0ffdd5d",
   "metadata": {},
   "outputs": [
    {
     "data": {
      "text/html": [
       "<div>\n",
       "<style scoped>\n",
       "    .dataframe tbody tr th:only-of-type {\n",
       "        vertical-align: middle;\n",
       "    }\n",
       "\n",
       "    .dataframe tbody tr th {\n",
       "        vertical-align: top;\n",
       "    }\n",
       "\n",
       "    .dataframe thead th {\n",
       "        text-align: right;\n",
       "    }\n",
       "</style>\n",
       "<table border=\"1\" class=\"dataframe\">\n",
       "  <thead>\n",
       "    <tr style=\"text-align: right;\">\n",
       "      <th></th>\n",
       "      <th>mean_score</th>\n",
       "      <th>std_score</th>\n",
       "      <th>max_score</th>\n",
       "      <th>min_score</th>\n",
       "      <th>fscore__k</th>\n",
       "      <th>nb__var_smoothing</th>\n",
       "    </tr>\n",
       "  </thead>\n",
       "  <tbody>\n",
       "    <tr>\n",
       "      <th>61</th>\n",
       "      <td>0.766</td>\n",
       "      <td>0.002</td>\n",
       "      <td>0.768</td>\n",
       "      <td>0.763</td>\n",
       "      <td>10.000</td>\n",
       "      <td>1.677</td>\n",
       "    </tr>\n",
       "    <tr>\n",
       "      <th>62</th>\n",
       "      <td>0.766</td>\n",
       "      <td>0.002</td>\n",
       "      <td>0.767</td>\n",
       "      <td>0.763</td>\n",
       "      <td>10.000</td>\n",
       "      <td>1.758</td>\n",
       "    </tr>\n",
       "    <tr>\n",
       "      <th>60</th>\n",
       "      <td>0.765</td>\n",
       "      <td>0.002</td>\n",
       "      <td>0.769</td>\n",
       "      <td>0.762</td>\n",
       "      <td>10.000</td>\n",
       "      <td>1.600</td>\n",
       "    </tr>\n",
       "    <tr>\n",
       "      <th>59</th>\n",
       "      <td>0.765</td>\n",
       "      <td>0.002</td>\n",
       "      <td>0.769</td>\n",
       "      <td>0.762</td>\n",
       "      <td>10.000</td>\n",
       "      <td>1.526</td>\n",
       "    </tr>\n",
       "    <tr>\n",
       "      <th>108</th>\n",
       "      <td>0.765</td>\n",
       "      <td>0.002</td>\n",
       "      <td>0.768</td>\n",
       "      <td>0.763</td>\n",
       "      <td>20.000</td>\n",
       "      <td>1.456</td>\n",
       "    </tr>\n",
       "    <tr>\n",
       "      <th>...</th>\n",
       "      <td>...</td>\n",
       "      <td>...</td>\n",
       "      <td>...</td>\n",
       "      <td>...</td>\n",
       "      <td>...</td>\n",
       "      <td>...</td>\n",
       "    </tr>\n",
       "    <tr>\n",
       "      <th>33</th>\n",
       "      <td>0.745</td>\n",
       "      <td>0.000</td>\n",
       "      <td>0.745</td>\n",
       "      <td>0.745</td>\n",
       "      <td>5.000</td>\n",
       "      <td>4.715</td>\n",
       "    </tr>\n",
       "    <tr>\n",
       "      <th>47</th>\n",
       "      <td>0.745</td>\n",
       "      <td>0.000</td>\n",
       "      <td>0.745</td>\n",
       "      <td>0.745</td>\n",
       "      <td>5.000</td>\n",
       "      <td>9.103</td>\n",
       "    </tr>\n",
       "    <tr>\n",
       "      <th>45</th>\n",
       "      <td>0.745</td>\n",
       "      <td>0.000</td>\n",
       "      <td>0.745</td>\n",
       "      <td>0.745</td>\n",
       "      <td>5.000</td>\n",
       "      <td>8.286</td>\n",
       "    </tr>\n",
       "    <tr>\n",
       "      <th>49</th>\n",
       "      <td>0.745</td>\n",
       "      <td>0.000</td>\n",
       "      <td>0.745</td>\n",
       "      <td>0.745</td>\n",
       "      <td>5.000</td>\n",
       "      <td>10.000</td>\n",
       "    </tr>\n",
       "    <tr>\n",
       "      <th>38</th>\n",
       "      <td>0.745</td>\n",
       "      <td>0.000</td>\n",
       "      <td>0.745</td>\n",
       "      <td>0.745</td>\n",
       "      <td>5.000</td>\n",
       "      <td>5.964</td>\n",
       "    </tr>\n",
       "  </tbody>\n",
       "</table>\n",
       "<p>150 rows × 6 columns</p>\n",
       "</div>"
      ],
      "text/plain": [
       "     mean_score  std_score  max_score  min_score  fscore__k  nb__var_smoothing\n",
       "61        0.766      0.002      0.768      0.763     10.000              1.677\n",
       "62        0.766      0.002      0.767      0.763     10.000              1.758\n",
       "60        0.765      0.002      0.769      0.762     10.000              1.600\n",
       "59        0.765      0.002      0.769      0.762     10.000              1.526\n",
       "108       0.765      0.002      0.768      0.763     20.000              1.456\n",
       "..          ...        ...        ...        ...        ...                ...\n",
       "33        0.745      0.000      0.745      0.745      5.000              4.715\n",
       "47        0.745      0.000      0.745      0.745      5.000              9.103\n",
       "45        0.745      0.000      0.745      0.745      5.000              8.286\n",
       "49        0.745      0.000      0.745      0.745      5.000             10.000\n",
       "38        0.745      0.000      0.745      0.745      5.000              5.964\n",
       "\n",
       "[150 rows x 6 columns]"
      ]
     },
     "execution_count": 120,
     "metadata": {},
     "output_type": "execute_result"
    }
   ],
   "source": [
    "get_search_results(NB_model)"
   ]
  },
  {
   "cell_type": "code",
   "execution_count": 121,
   "id": "96098131",
   "metadata": {},
   "outputs": [
    {
     "data": {
      "text/plain": [
       "0.7673666666666666"
      ]
     },
     "execution_count": 121,
     "metadata": {},
     "output_type": "execute_result"
    }
   ],
   "source": [
    "NB_model.score(NB_test_data, NB_test_target)"
   ]
  },
  {
   "cell_type": "markdown",
   "id": "2b24014c",
   "metadata": {},
   "source": [
    "### Decsion Tree Tuning"
   ]
  },
  {
   "cell_type": "code",
   "execution_count": 122,
   "id": "b945c85a",
   "metadata": {},
   "outputs": [
    {
     "name": "stdout",
     "output_type": "stream",
     "text": [
      "Fitting 6 folds for each of 18 candidates, totalling 108 fits\n",
      "--- 4.149836540222168 seconds ---\n"
     ]
    }
   ],
   "source": [
    "DT_pipe = Pipeline([('fscore', SelectKBest()),\n",
    "                    ('dt', DecisionTreeClassifier(criterion='gini', random_state=999))])\n",
    "\n",
    "DT_pipe_params = {'fscore__k': [5,10,20],\n",
    "                  'dt__max_depth': [3,4,5],\n",
    "                  'dt__min_samples_split': [2, 5]}\n",
    "\n",
    "DT_model = GridSearchCV(estimator=DT_pipe, \n",
    "                          param_grid=DT_pipe_params, \n",
    "                          cv=cv_method,\n",
    "                          refit=True,\n",
    "                          n_jobs=2,\n",
    "                          scoring=scoring_metric,\n",
    "                          verbose=1) \n",
    "\n",
    "start_time = time.time()\n",
    "DT_model.fit(train_data, train_target.ravel());\n",
    "print(\"--- %s seconds ---\" % (time.time() - start_time))"
   ]
  },
  {
   "cell_type": "code",
   "execution_count": 123,
   "id": "03517ca2",
   "metadata": {},
   "outputs": [
    {
     "data": {
      "text/plain": [
       "{'dt__max_depth': 5, 'dt__min_samples_split': 2, 'fscore__k': 5}"
      ]
     },
     "execution_count": 123,
     "metadata": {},
     "output_type": "execute_result"
    }
   ],
   "source": [
    "DT_model.best_params_"
   ]
  },
  {
   "cell_type": "code",
   "execution_count": 124,
   "id": "b08570c8",
   "metadata": {},
   "outputs": [
    {
     "data": {
      "text/plain": [
       "Pipeline(steps=[('fscore', SelectKBest(k=5)),\n",
       "                ('dt', DecisionTreeClassifier(max_depth=5, random_state=999))])"
      ]
     },
     "execution_count": 124,
     "metadata": {},
     "output_type": "execute_result"
    }
   ],
   "source": [
    "DT_model.best_estimator_"
   ]
  },
  {
   "cell_type": "code",
   "execution_count": 125,
   "id": "ae88afc2",
   "metadata": {},
   "outputs": [
    {
     "data": {
      "text/plain": [
       "0.807335730431335"
      ]
     },
     "execution_count": 125,
     "metadata": {},
     "output_type": "execute_result"
    }
   ],
   "source": [
    "DT_model.best_score_"
   ]
  },
  {
   "cell_type": "code",
   "execution_count": 126,
   "id": "530b9ae1",
   "metadata": {},
   "outputs": [
    {
     "data": {
      "text/html": [
       "<div>\n",
       "<style scoped>\n",
       "    .dataframe tbody tr th:only-of-type {\n",
       "        vertical-align: middle;\n",
       "    }\n",
       "\n",
       "    .dataframe tbody tr th {\n",
       "        vertical-align: top;\n",
       "    }\n",
       "\n",
       "    .dataframe thead th {\n",
       "        text-align: right;\n",
       "    }\n",
       "</style>\n",
       "<table border=\"1\" class=\"dataframe\">\n",
       "  <thead>\n",
       "    <tr style=\"text-align: right;\">\n",
       "      <th></th>\n",
       "      <th>mean_score</th>\n",
       "      <th>std_score</th>\n",
       "      <th>max_score</th>\n",
       "      <th>min_score</th>\n",
       "      <th>dt__max_depth</th>\n",
       "      <th>dt__min_samples_split</th>\n",
       "      <th>fscore__k</th>\n",
       "    </tr>\n",
       "  </thead>\n",
       "  <tbody>\n",
       "    <tr>\n",
       "      <th>15</th>\n",
       "      <td>0.807</td>\n",
       "      <td>0.002</td>\n",
       "      <td>0.810</td>\n",
       "      <td>0.805</td>\n",
       "      <td>5.000</td>\n",
       "      <td>5.000</td>\n",
       "      <td>5.000</td>\n",
       "    </tr>\n",
       "    <tr>\n",
       "      <th>12</th>\n",
       "      <td>0.807</td>\n",
       "      <td>0.002</td>\n",
       "      <td>0.810</td>\n",
       "      <td>0.805</td>\n",
       "      <td>5.000</td>\n",
       "      <td>2.000</td>\n",
       "      <td>5.000</td>\n",
       "    </tr>\n",
       "    <tr>\n",
       "      <th>16</th>\n",
       "      <td>0.807</td>\n",
       "      <td>0.002</td>\n",
       "      <td>0.811</td>\n",
       "      <td>0.805</td>\n",
       "      <td>5.000</td>\n",
       "      <td>5.000</td>\n",
       "      <td>10.000</td>\n",
       "    </tr>\n",
       "    <tr>\n",
       "      <th>13</th>\n",
       "      <td>0.807</td>\n",
       "      <td>0.002</td>\n",
       "      <td>0.811</td>\n",
       "      <td>0.805</td>\n",
       "      <td>5.000</td>\n",
       "      <td>2.000</td>\n",
       "      <td>10.000</td>\n",
       "    </tr>\n",
       "    <tr>\n",
       "      <th>17</th>\n",
       "      <td>0.807</td>\n",
       "      <td>0.002</td>\n",
       "      <td>0.810</td>\n",
       "      <td>0.805</td>\n",
       "      <td>5.000</td>\n",
       "      <td>5.000</td>\n",
       "      <td>20.000</td>\n",
       "    </tr>\n",
       "  </tbody>\n",
       "</table>\n",
       "</div>"
      ],
      "text/plain": [
       "    mean_score  std_score  max_score  min_score  dt__max_depth  \\\n",
       "15       0.807      0.002      0.810      0.805          5.000   \n",
       "12       0.807      0.002      0.810      0.805          5.000   \n",
       "16       0.807      0.002      0.811      0.805          5.000   \n",
       "13       0.807      0.002      0.811      0.805          5.000   \n",
       "17       0.807      0.002      0.810      0.805          5.000   \n",
       "\n",
       "    dt__min_samples_split  fscore__k  \n",
       "15                  5.000      5.000  \n",
       "12                  2.000      5.000  \n",
       "16                  5.000     10.000  \n",
       "13                  2.000     10.000  \n",
       "17                  5.000     20.000  "
      ]
     },
     "execution_count": 126,
     "metadata": {},
     "output_type": "execute_result"
    }
   ],
   "source": [
    "get_search_results(DT_model).head()"
   ]
  },
  {
   "cell_type": "code",
   "execution_count": 127,
   "id": "20806692",
   "metadata": {},
   "outputs": [
    {
     "data": {
      "text/plain": [
       "0.8107"
      ]
     },
     "execution_count": 127,
     "metadata": {},
     "output_type": "execute_result"
    }
   ],
   "source": [
    "DT_model.score(test_data, test_target)"
   ]
  },
  {
   "cell_type": "markdown",
   "id": "b54c7664",
   "metadata": {},
   "source": [
    "## Final Model - Decision Tree"
   ]
  },
  {
   "cell_type": "code",
   "execution_count": 128,
   "id": "4bfe90ed",
   "metadata": {},
   "outputs": [],
   "source": [
    "pipe_DT = Pipeline([('fscore', SelectKBest()),\n",
    "                    ('dt', DecisionTreeClassifier(criterion='gini', random_state=999))])\n",
    "\n",
    "params_pipe_DT = {'fscore__k': [10],\n",
    "                  'dt__max_depth': [5],\n",
    "                  'dt__min_samples_split': [2]}"
   ]
  },
  {
   "cell_type": "code",
   "execution_count": 129,
   "id": "e93ef83d",
   "metadata": {},
   "outputs": [],
   "source": [
    "DT_Model_full = GridSearchCV(estimator=pipe_DT, \n",
    "                          param_grid=params_pipe_DT, \n",
    "                          cv=cv_method,\n",
    "                          refit=True,\n",
    "                          n_jobs=-1,\n",
    "                          scoring=scoring_metric,\n",
    "                          verbose=1) "
   ]
  },
  {
   "cell_type": "code",
   "execution_count": 130,
   "id": "c2e0a01f",
   "metadata": {},
   "outputs": [
    {
     "name": "stdout",
     "output_type": "stream",
     "text": [
      "Fitting 6 folds for each of 1 candidates, totalling 6 fits\n",
      "--- 9.786816835403442 seconds ---\n"
     ]
    }
   ],
   "source": [
    "start_time = time.time()\n",
    "DT_Model_full.fit(data, target);\n",
    "print(\"--- %s seconds ---\" % (time.time() - start_time))"
   ]
  },
  {
   "cell_type": "code",
   "execution_count": 131,
   "id": "bf6a68ed",
   "metadata": {},
   "outputs": [
    {
     "data": {
      "text/plain": [
       "{'dt__max_depth': 5, 'dt__min_samples_split': 2, 'fscore__k': 10}"
      ]
     },
     "execution_count": 131,
     "metadata": {},
     "output_type": "execute_result"
    }
   ],
   "source": [
    "DT_Model_full.best_params_"
   ]
  },
  {
   "cell_type": "code",
   "execution_count": 132,
   "id": "67ed01b2",
   "metadata": {},
   "outputs": [
    {
     "data": {
      "text/plain": [
       "0.8115184362646864"
      ]
     },
     "execution_count": 132,
     "metadata": {},
     "output_type": "execute_result"
    }
   ],
   "source": [
    "DT_Model_full.best_score_"
   ]
  },
  {
   "cell_type": "code",
   "execution_count": 133,
   "id": "538216b5",
   "metadata": {},
   "outputs": [],
   "source": [
    "prediction_data_refined = data_copy.values[0:5,]"
   ]
  },
  {
   "cell_type": "code",
   "execution_count": 134,
   "id": "c6af0f29",
   "metadata": {},
   "outputs": [],
   "source": [
    "prediction_data = preprocessing.MinMaxScaler().fit_transform(prediction_data_refined)"
   ]
  },
  {
   "cell_type": "code",
   "execution_count": 135,
   "id": "6edfc0f2",
   "metadata": {},
   "outputs": [
    {
     "data": {
      "text/plain": [
       "array([0, 1, 1, 1, 1], dtype=int64)"
      ]
     },
     "execution_count": 135,
     "metadata": {},
     "output_type": "execute_result"
    }
   ],
   "source": [
    "DT_Model_full.predict(prediction_data)"
   ]
  },
  {
   "cell_type": "code",
   "execution_count": 136,
   "id": "26dfcbb7",
   "metadata": {},
   "outputs": [
    {
     "data": {
      "text/plain": [
       "36    0\n",
       "38    1\n",
       "41    1\n",
       "43    1\n",
       "46    1\n",
       "Name: action_taken, dtype: int64"
      ]
     },
     "execution_count": 136,
     "metadata": {},
     "output_type": "execute_result"
    }
   ],
   "source": [
    "target[0:5]"
   ]
  }
 ],
 "metadata": {
  "kernelspec": {
   "display_name": "Python 3",
   "language": "python",
   "name": "python3"
  },
  "language_info": {
   "codemirror_mode": {
    "name": "ipython",
    "version": 3
   },
   "file_extension": ".py",
   "mimetype": "text/x-python",
   "name": "python",
   "nbconvert_exporter": "python",
   "pygments_lexer": "ipython3",
   "version": "3.7.10"
  }
 },
 "nbformat": 4,
 "nbformat_minor": 5
}
